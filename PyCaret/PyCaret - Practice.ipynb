{
 "cells": [
  {
   "cell_type": "markdown",
   "metadata": {},
   "source": [
    "### PyCaret"
   ]
  },
  {
   "cell_type": "code",
   "execution_count": 3,
   "metadata": {},
   "outputs": [],
   "source": [
    "### Loading Dataset From Pycaret\n",
    "from pycaret.datasets import get_data"
   ]
  },
  {
   "cell_type": "code",
   "execution_count": 4,
   "metadata": {},
   "outputs": [
    {
     "data": {
      "text/html": [
       "<div>\n",
       "<style scoped>\n",
       "    .dataframe tbody tr th:only-of-type {\n",
       "        vertical-align: middle;\n",
       "    }\n",
       "\n",
       "    .dataframe tbody tr th {\n",
       "        vertical-align: top;\n",
       "    }\n",
       "\n",
       "    .dataframe thead th {\n",
       "        text-align: right;\n",
       "    }\n",
       "</style>\n",
       "<table border=\"1\" class=\"dataframe\">\n",
       "  <thead>\n",
       "    <tr style=\"text-align: right;\">\n",
       "      <th></th>\n",
       "      <th>Number of times pregnant</th>\n",
       "      <th>Plasma glucose concentration a 2 hours in an oral glucose tolerance test</th>\n",
       "      <th>Diastolic blood pressure (mm Hg)</th>\n",
       "      <th>Triceps skin fold thickness (mm)</th>\n",
       "      <th>2-Hour serum insulin (mu U/ml)</th>\n",
       "      <th>Body mass index (weight in kg/(height in m)^2)</th>\n",
       "      <th>Diabetes pedigree function</th>\n",
       "      <th>Age (years)</th>\n",
       "      <th>Class variable</th>\n",
       "    </tr>\n",
       "  </thead>\n",
       "  <tbody>\n",
       "    <tr>\n",
       "      <th>0</th>\n",
       "      <td>6</td>\n",
       "      <td>148</td>\n",
       "      <td>72</td>\n",
       "      <td>35</td>\n",
       "      <td>0</td>\n",
       "      <td>33.6</td>\n",
       "      <td>0.627</td>\n",
       "      <td>50</td>\n",
       "      <td>1</td>\n",
       "    </tr>\n",
       "    <tr>\n",
       "      <th>1</th>\n",
       "      <td>1</td>\n",
       "      <td>85</td>\n",
       "      <td>66</td>\n",
       "      <td>29</td>\n",
       "      <td>0</td>\n",
       "      <td>26.6</td>\n",
       "      <td>0.351</td>\n",
       "      <td>31</td>\n",
       "      <td>0</td>\n",
       "    </tr>\n",
       "    <tr>\n",
       "      <th>2</th>\n",
       "      <td>8</td>\n",
       "      <td>183</td>\n",
       "      <td>64</td>\n",
       "      <td>0</td>\n",
       "      <td>0</td>\n",
       "      <td>23.3</td>\n",
       "      <td>0.672</td>\n",
       "      <td>32</td>\n",
       "      <td>1</td>\n",
       "    </tr>\n",
       "    <tr>\n",
       "      <th>3</th>\n",
       "      <td>1</td>\n",
       "      <td>89</td>\n",
       "      <td>66</td>\n",
       "      <td>23</td>\n",
       "      <td>94</td>\n",
       "      <td>28.1</td>\n",
       "      <td>0.167</td>\n",
       "      <td>21</td>\n",
       "      <td>0</td>\n",
       "    </tr>\n",
       "    <tr>\n",
       "      <th>4</th>\n",
       "      <td>0</td>\n",
       "      <td>137</td>\n",
       "      <td>40</td>\n",
       "      <td>35</td>\n",
       "      <td>168</td>\n",
       "      <td>43.1</td>\n",
       "      <td>2.288</td>\n",
       "      <td>33</td>\n",
       "      <td>1</td>\n",
       "    </tr>\n",
       "  </tbody>\n",
       "</table>\n",
       "</div>"
      ],
      "text/plain": [
       "   Number of times pregnant  \\\n",
       "0                         6   \n",
       "1                         1   \n",
       "2                         8   \n",
       "3                         1   \n",
       "4                         0   \n",
       "\n",
       "   Plasma glucose concentration a 2 hours in an oral glucose tolerance test  \\\n",
       "0                                                148                          \n",
       "1                                                 85                          \n",
       "2                                                183                          \n",
       "3                                                 89                          \n",
       "4                                                137                          \n",
       "\n",
       "   Diastolic blood pressure (mm Hg)  Triceps skin fold thickness (mm)  \\\n",
       "0                                72                                35   \n",
       "1                                66                                29   \n",
       "2                                64                                 0   \n",
       "3                                66                                23   \n",
       "4                                40                                35   \n",
       "\n",
       "   2-Hour serum insulin (mu U/ml)  \\\n",
       "0                               0   \n",
       "1                               0   \n",
       "2                               0   \n",
       "3                              94   \n",
       "4                             168   \n",
       "\n",
       "   Body mass index (weight in kg/(height in m)^2)  Diabetes pedigree function  \\\n",
       "0                                            33.6                       0.627   \n",
       "1                                            26.6                       0.351   \n",
       "2                                            23.3                       0.672   \n",
       "3                                            28.1                       0.167   \n",
       "4                                            43.1                       2.288   \n",
       "\n",
       "   Age (years)  Class variable  \n",
       "0           50               1  \n",
       "1           31               0  \n",
       "2           32               1  \n",
       "3           21               0  \n",
       "4           33               1  "
      ]
     },
     "metadata": {},
     "output_type": "display_data"
    }
   ],
   "source": [
    "#### Classification Example\n",
    "diabetes_df=get_data(\"diabetes\")"
   ]
  },
  {
   "cell_type": "code",
   "execution_count": 5,
   "metadata": {},
   "outputs": [
    {
     "data": {
      "text/plain": [
       "0    500\n",
       "1    268\n",
       "Name: Class variable, dtype: int64"
      ]
     },
     "execution_count": 5,
     "metadata": {},
     "output_type": "execute_result"
    }
   ],
   "source": [
    "diabetes_df['Class variable'].value_counts()"
   ]
  },
  {
   "cell_type": "code",
   "execution_count": 6,
   "metadata": {},
   "outputs": [
    {
     "name": "stdout",
     "output_type": "stream",
     "text": [
      "Setup Succesfully Completed!\n"
     ]
    },
    {
     "data": {
      "text/html": [
       "<style  type=\"text/css\" >\n",
       "</style><table id=\"T_043089a2_d6f0_11ea_9819_c038961eaea8\" ><thead>    <tr>        <th class=\"blank level0\" ></th>        <th class=\"col_heading level0 col0\" >Description</th>        <th class=\"col_heading level0 col1\" >Value</th>    </tr></thead><tbody>\n",
       "                <tr>\n",
       "                        <th id=\"T_043089a2_d6f0_11ea_9819_c038961eaea8level0_row0\" class=\"row_heading level0 row0\" >0</th>\n",
       "                        <td id=\"T_043089a2_d6f0_11ea_9819_c038961eaea8row0_col0\" class=\"data row0 col0\" >session_id</td>\n",
       "                        <td id=\"T_043089a2_d6f0_11ea_9819_c038961eaea8row0_col1\" class=\"data row0 col1\" >4573</td>\n",
       "            </tr>\n",
       "            <tr>\n",
       "                        <th id=\"T_043089a2_d6f0_11ea_9819_c038961eaea8level0_row1\" class=\"row_heading level0 row1\" >1</th>\n",
       "                        <td id=\"T_043089a2_d6f0_11ea_9819_c038961eaea8row1_col0\" class=\"data row1 col0\" >Target Type</td>\n",
       "                        <td id=\"T_043089a2_d6f0_11ea_9819_c038961eaea8row1_col1\" class=\"data row1 col1\" >Binary</td>\n",
       "            </tr>\n",
       "            <tr>\n",
       "                        <th id=\"T_043089a2_d6f0_11ea_9819_c038961eaea8level0_row2\" class=\"row_heading level0 row2\" >2</th>\n",
       "                        <td id=\"T_043089a2_d6f0_11ea_9819_c038961eaea8row2_col0\" class=\"data row2 col0\" >Label Encoded</td>\n",
       "                        <td id=\"T_043089a2_d6f0_11ea_9819_c038961eaea8row2_col1\" class=\"data row2 col1\" >None</td>\n",
       "            </tr>\n",
       "            <tr>\n",
       "                        <th id=\"T_043089a2_d6f0_11ea_9819_c038961eaea8level0_row3\" class=\"row_heading level0 row3\" >3</th>\n",
       "                        <td id=\"T_043089a2_d6f0_11ea_9819_c038961eaea8row3_col0\" class=\"data row3 col0\" >Original Data</td>\n",
       "                        <td id=\"T_043089a2_d6f0_11ea_9819_c038961eaea8row3_col1\" class=\"data row3 col1\" >(768, 9)</td>\n",
       "            </tr>\n",
       "            <tr>\n",
       "                        <th id=\"T_043089a2_d6f0_11ea_9819_c038961eaea8level0_row4\" class=\"row_heading level0 row4\" >4</th>\n",
       "                        <td id=\"T_043089a2_d6f0_11ea_9819_c038961eaea8row4_col0\" class=\"data row4 col0\" >Missing Values </td>\n",
       "                        <td id=\"T_043089a2_d6f0_11ea_9819_c038961eaea8row4_col1\" class=\"data row4 col1\" >False</td>\n",
       "            </tr>\n",
       "            <tr>\n",
       "                        <th id=\"T_043089a2_d6f0_11ea_9819_c038961eaea8level0_row5\" class=\"row_heading level0 row5\" >5</th>\n",
       "                        <td id=\"T_043089a2_d6f0_11ea_9819_c038961eaea8row5_col0\" class=\"data row5 col0\" >Numeric Features </td>\n",
       "                        <td id=\"T_043089a2_d6f0_11ea_9819_c038961eaea8row5_col1\" class=\"data row5 col1\" >7</td>\n",
       "            </tr>\n",
       "            <tr>\n",
       "                        <th id=\"T_043089a2_d6f0_11ea_9819_c038961eaea8level0_row6\" class=\"row_heading level0 row6\" >6</th>\n",
       "                        <td id=\"T_043089a2_d6f0_11ea_9819_c038961eaea8row6_col0\" class=\"data row6 col0\" >Categorical Features </td>\n",
       "                        <td id=\"T_043089a2_d6f0_11ea_9819_c038961eaea8row6_col1\" class=\"data row6 col1\" >1</td>\n",
       "            </tr>\n",
       "            <tr>\n",
       "                        <th id=\"T_043089a2_d6f0_11ea_9819_c038961eaea8level0_row7\" class=\"row_heading level0 row7\" >7</th>\n",
       "                        <td id=\"T_043089a2_d6f0_11ea_9819_c038961eaea8row7_col0\" class=\"data row7 col0\" >Ordinal Features </td>\n",
       "                        <td id=\"T_043089a2_d6f0_11ea_9819_c038961eaea8row7_col1\" class=\"data row7 col1\" >False</td>\n",
       "            </tr>\n",
       "            <tr>\n",
       "                        <th id=\"T_043089a2_d6f0_11ea_9819_c038961eaea8level0_row8\" class=\"row_heading level0 row8\" >8</th>\n",
       "                        <td id=\"T_043089a2_d6f0_11ea_9819_c038961eaea8row8_col0\" class=\"data row8 col0\" >High Cardinality Features </td>\n",
       "                        <td id=\"T_043089a2_d6f0_11ea_9819_c038961eaea8row8_col1\" class=\"data row8 col1\" >False</td>\n",
       "            </tr>\n",
       "            <tr>\n",
       "                        <th id=\"T_043089a2_d6f0_11ea_9819_c038961eaea8level0_row9\" class=\"row_heading level0 row9\" >9</th>\n",
       "                        <td id=\"T_043089a2_d6f0_11ea_9819_c038961eaea8row9_col0\" class=\"data row9 col0\" >High Cardinality Method </td>\n",
       "                        <td id=\"T_043089a2_d6f0_11ea_9819_c038961eaea8row9_col1\" class=\"data row9 col1\" >None</td>\n",
       "            </tr>\n",
       "            <tr>\n",
       "                        <th id=\"T_043089a2_d6f0_11ea_9819_c038961eaea8level0_row10\" class=\"row_heading level0 row10\" >10</th>\n",
       "                        <td id=\"T_043089a2_d6f0_11ea_9819_c038961eaea8row10_col0\" class=\"data row10 col0\" >Sampled Data</td>\n",
       "                        <td id=\"T_043089a2_d6f0_11ea_9819_c038961eaea8row10_col1\" class=\"data row10 col1\" >(768, 9)</td>\n",
       "            </tr>\n",
       "            <tr>\n",
       "                        <th id=\"T_043089a2_d6f0_11ea_9819_c038961eaea8level0_row11\" class=\"row_heading level0 row11\" >11</th>\n",
       "                        <td id=\"T_043089a2_d6f0_11ea_9819_c038961eaea8row11_col0\" class=\"data row11 col0\" >Transformed Train Set</td>\n",
       "                        <td id=\"T_043089a2_d6f0_11ea_9819_c038961eaea8row11_col1\" class=\"data row11 col1\" >(537, 24)</td>\n",
       "            </tr>\n",
       "            <tr>\n",
       "                        <th id=\"T_043089a2_d6f0_11ea_9819_c038961eaea8level0_row12\" class=\"row_heading level0 row12\" >12</th>\n",
       "                        <td id=\"T_043089a2_d6f0_11ea_9819_c038961eaea8row12_col0\" class=\"data row12 col0\" >Transformed Test Set</td>\n",
       "                        <td id=\"T_043089a2_d6f0_11ea_9819_c038961eaea8row12_col1\" class=\"data row12 col1\" >(231, 24)</td>\n",
       "            </tr>\n",
       "            <tr>\n",
       "                        <th id=\"T_043089a2_d6f0_11ea_9819_c038961eaea8level0_row13\" class=\"row_heading level0 row13\" >13</th>\n",
       "                        <td id=\"T_043089a2_d6f0_11ea_9819_c038961eaea8row13_col0\" class=\"data row13 col0\" >Numeric Imputer </td>\n",
       "                        <td id=\"T_043089a2_d6f0_11ea_9819_c038961eaea8row13_col1\" class=\"data row13 col1\" >mean</td>\n",
       "            </tr>\n",
       "            <tr>\n",
       "                        <th id=\"T_043089a2_d6f0_11ea_9819_c038961eaea8level0_row14\" class=\"row_heading level0 row14\" >14</th>\n",
       "                        <td id=\"T_043089a2_d6f0_11ea_9819_c038961eaea8row14_col0\" class=\"data row14 col0\" >Categorical Imputer </td>\n",
       "                        <td id=\"T_043089a2_d6f0_11ea_9819_c038961eaea8row14_col1\" class=\"data row14 col1\" >constant</td>\n",
       "            </tr>\n",
       "            <tr>\n",
       "                        <th id=\"T_043089a2_d6f0_11ea_9819_c038961eaea8level0_row15\" class=\"row_heading level0 row15\" >15</th>\n",
       "                        <td id=\"T_043089a2_d6f0_11ea_9819_c038961eaea8row15_col0\" class=\"data row15 col0\" >Normalize </td>\n",
       "                        <td id=\"T_043089a2_d6f0_11ea_9819_c038961eaea8row15_col1\" class=\"data row15 col1\" >False</td>\n",
       "            </tr>\n",
       "            <tr>\n",
       "                        <th id=\"T_043089a2_d6f0_11ea_9819_c038961eaea8level0_row16\" class=\"row_heading level0 row16\" >16</th>\n",
       "                        <td id=\"T_043089a2_d6f0_11ea_9819_c038961eaea8row16_col0\" class=\"data row16 col0\" >Normalize Method </td>\n",
       "                        <td id=\"T_043089a2_d6f0_11ea_9819_c038961eaea8row16_col1\" class=\"data row16 col1\" >None</td>\n",
       "            </tr>\n",
       "            <tr>\n",
       "                        <th id=\"T_043089a2_d6f0_11ea_9819_c038961eaea8level0_row17\" class=\"row_heading level0 row17\" >17</th>\n",
       "                        <td id=\"T_043089a2_d6f0_11ea_9819_c038961eaea8row17_col0\" class=\"data row17 col0\" >Transformation </td>\n",
       "                        <td id=\"T_043089a2_d6f0_11ea_9819_c038961eaea8row17_col1\" class=\"data row17 col1\" >False</td>\n",
       "            </tr>\n",
       "            <tr>\n",
       "                        <th id=\"T_043089a2_d6f0_11ea_9819_c038961eaea8level0_row18\" class=\"row_heading level0 row18\" >18</th>\n",
       "                        <td id=\"T_043089a2_d6f0_11ea_9819_c038961eaea8row18_col0\" class=\"data row18 col0\" >Transformation Method </td>\n",
       "                        <td id=\"T_043089a2_d6f0_11ea_9819_c038961eaea8row18_col1\" class=\"data row18 col1\" >None</td>\n",
       "            </tr>\n",
       "            <tr>\n",
       "                        <th id=\"T_043089a2_d6f0_11ea_9819_c038961eaea8level0_row19\" class=\"row_heading level0 row19\" >19</th>\n",
       "                        <td id=\"T_043089a2_d6f0_11ea_9819_c038961eaea8row19_col0\" class=\"data row19 col0\" >PCA </td>\n",
       "                        <td id=\"T_043089a2_d6f0_11ea_9819_c038961eaea8row19_col1\" class=\"data row19 col1\" >False</td>\n",
       "            </tr>\n",
       "            <tr>\n",
       "                        <th id=\"T_043089a2_d6f0_11ea_9819_c038961eaea8level0_row20\" class=\"row_heading level0 row20\" >20</th>\n",
       "                        <td id=\"T_043089a2_d6f0_11ea_9819_c038961eaea8row20_col0\" class=\"data row20 col0\" >PCA Method </td>\n",
       "                        <td id=\"T_043089a2_d6f0_11ea_9819_c038961eaea8row20_col1\" class=\"data row20 col1\" >None</td>\n",
       "            </tr>\n",
       "            <tr>\n",
       "                        <th id=\"T_043089a2_d6f0_11ea_9819_c038961eaea8level0_row21\" class=\"row_heading level0 row21\" >21</th>\n",
       "                        <td id=\"T_043089a2_d6f0_11ea_9819_c038961eaea8row21_col0\" class=\"data row21 col0\" >PCA Components </td>\n",
       "                        <td id=\"T_043089a2_d6f0_11ea_9819_c038961eaea8row21_col1\" class=\"data row21 col1\" >None</td>\n",
       "            </tr>\n",
       "            <tr>\n",
       "                        <th id=\"T_043089a2_d6f0_11ea_9819_c038961eaea8level0_row22\" class=\"row_heading level0 row22\" >22</th>\n",
       "                        <td id=\"T_043089a2_d6f0_11ea_9819_c038961eaea8row22_col0\" class=\"data row22 col0\" >Ignore Low Variance </td>\n",
       "                        <td id=\"T_043089a2_d6f0_11ea_9819_c038961eaea8row22_col1\" class=\"data row22 col1\" >False</td>\n",
       "            </tr>\n",
       "            <tr>\n",
       "                        <th id=\"T_043089a2_d6f0_11ea_9819_c038961eaea8level0_row23\" class=\"row_heading level0 row23\" >23</th>\n",
       "                        <td id=\"T_043089a2_d6f0_11ea_9819_c038961eaea8row23_col0\" class=\"data row23 col0\" >Combine Rare Levels </td>\n",
       "                        <td id=\"T_043089a2_d6f0_11ea_9819_c038961eaea8row23_col1\" class=\"data row23 col1\" >False</td>\n",
       "            </tr>\n",
       "            <tr>\n",
       "                        <th id=\"T_043089a2_d6f0_11ea_9819_c038961eaea8level0_row24\" class=\"row_heading level0 row24\" >24</th>\n",
       "                        <td id=\"T_043089a2_d6f0_11ea_9819_c038961eaea8row24_col0\" class=\"data row24 col0\" >Rare Level Threshold </td>\n",
       "                        <td id=\"T_043089a2_d6f0_11ea_9819_c038961eaea8row24_col1\" class=\"data row24 col1\" >None</td>\n",
       "            </tr>\n",
       "            <tr>\n",
       "                        <th id=\"T_043089a2_d6f0_11ea_9819_c038961eaea8level0_row25\" class=\"row_heading level0 row25\" >25</th>\n",
       "                        <td id=\"T_043089a2_d6f0_11ea_9819_c038961eaea8row25_col0\" class=\"data row25 col0\" >Numeric Binning </td>\n",
       "                        <td id=\"T_043089a2_d6f0_11ea_9819_c038961eaea8row25_col1\" class=\"data row25 col1\" >False</td>\n",
       "            </tr>\n",
       "            <tr>\n",
       "                        <th id=\"T_043089a2_d6f0_11ea_9819_c038961eaea8level0_row26\" class=\"row_heading level0 row26\" >26</th>\n",
       "                        <td id=\"T_043089a2_d6f0_11ea_9819_c038961eaea8row26_col0\" class=\"data row26 col0\" >Remove Outliers </td>\n",
       "                        <td id=\"T_043089a2_d6f0_11ea_9819_c038961eaea8row26_col1\" class=\"data row26 col1\" >False</td>\n",
       "            </tr>\n",
       "            <tr>\n",
       "                        <th id=\"T_043089a2_d6f0_11ea_9819_c038961eaea8level0_row27\" class=\"row_heading level0 row27\" >27</th>\n",
       "                        <td id=\"T_043089a2_d6f0_11ea_9819_c038961eaea8row27_col0\" class=\"data row27 col0\" >Outliers Threshold </td>\n",
       "                        <td id=\"T_043089a2_d6f0_11ea_9819_c038961eaea8row27_col1\" class=\"data row27 col1\" >None</td>\n",
       "            </tr>\n",
       "            <tr>\n",
       "                        <th id=\"T_043089a2_d6f0_11ea_9819_c038961eaea8level0_row28\" class=\"row_heading level0 row28\" >28</th>\n",
       "                        <td id=\"T_043089a2_d6f0_11ea_9819_c038961eaea8row28_col0\" class=\"data row28 col0\" >Remove Multicollinearity </td>\n",
       "                        <td id=\"T_043089a2_d6f0_11ea_9819_c038961eaea8row28_col1\" class=\"data row28 col1\" >False</td>\n",
       "            </tr>\n",
       "            <tr>\n",
       "                        <th id=\"T_043089a2_d6f0_11ea_9819_c038961eaea8level0_row29\" class=\"row_heading level0 row29\" >29</th>\n",
       "                        <td id=\"T_043089a2_d6f0_11ea_9819_c038961eaea8row29_col0\" class=\"data row29 col0\" >Multicollinearity Threshold </td>\n",
       "                        <td id=\"T_043089a2_d6f0_11ea_9819_c038961eaea8row29_col1\" class=\"data row29 col1\" >None</td>\n",
       "            </tr>\n",
       "            <tr>\n",
       "                        <th id=\"T_043089a2_d6f0_11ea_9819_c038961eaea8level0_row30\" class=\"row_heading level0 row30\" >30</th>\n",
       "                        <td id=\"T_043089a2_d6f0_11ea_9819_c038961eaea8row30_col0\" class=\"data row30 col0\" >Clustering </td>\n",
       "                        <td id=\"T_043089a2_d6f0_11ea_9819_c038961eaea8row30_col1\" class=\"data row30 col1\" >False</td>\n",
       "            </tr>\n",
       "            <tr>\n",
       "                        <th id=\"T_043089a2_d6f0_11ea_9819_c038961eaea8level0_row31\" class=\"row_heading level0 row31\" >31</th>\n",
       "                        <td id=\"T_043089a2_d6f0_11ea_9819_c038961eaea8row31_col0\" class=\"data row31 col0\" >Clustering Iteration </td>\n",
       "                        <td id=\"T_043089a2_d6f0_11ea_9819_c038961eaea8row31_col1\" class=\"data row31 col1\" >None</td>\n",
       "            </tr>\n",
       "            <tr>\n",
       "                        <th id=\"T_043089a2_d6f0_11ea_9819_c038961eaea8level0_row32\" class=\"row_heading level0 row32\" >32</th>\n",
       "                        <td id=\"T_043089a2_d6f0_11ea_9819_c038961eaea8row32_col0\" class=\"data row32 col0\" >Polynomial Features </td>\n",
       "                        <td id=\"T_043089a2_d6f0_11ea_9819_c038961eaea8row32_col1\" class=\"data row32 col1\" >False</td>\n",
       "            </tr>\n",
       "            <tr>\n",
       "                        <th id=\"T_043089a2_d6f0_11ea_9819_c038961eaea8level0_row33\" class=\"row_heading level0 row33\" >33</th>\n",
       "                        <td id=\"T_043089a2_d6f0_11ea_9819_c038961eaea8row33_col0\" class=\"data row33 col0\" >Polynomial Degree </td>\n",
       "                        <td id=\"T_043089a2_d6f0_11ea_9819_c038961eaea8row33_col1\" class=\"data row33 col1\" >None</td>\n",
       "            </tr>\n",
       "            <tr>\n",
       "                        <th id=\"T_043089a2_d6f0_11ea_9819_c038961eaea8level0_row34\" class=\"row_heading level0 row34\" >34</th>\n",
       "                        <td id=\"T_043089a2_d6f0_11ea_9819_c038961eaea8row34_col0\" class=\"data row34 col0\" >Trignometry Features </td>\n",
       "                        <td id=\"T_043089a2_d6f0_11ea_9819_c038961eaea8row34_col1\" class=\"data row34 col1\" >False</td>\n",
       "            </tr>\n",
       "            <tr>\n",
       "                        <th id=\"T_043089a2_d6f0_11ea_9819_c038961eaea8level0_row35\" class=\"row_heading level0 row35\" >35</th>\n",
       "                        <td id=\"T_043089a2_d6f0_11ea_9819_c038961eaea8row35_col0\" class=\"data row35 col0\" >Polynomial Threshold </td>\n",
       "                        <td id=\"T_043089a2_d6f0_11ea_9819_c038961eaea8row35_col1\" class=\"data row35 col1\" >None</td>\n",
       "            </tr>\n",
       "            <tr>\n",
       "                        <th id=\"T_043089a2_d6f0_11ea_9819_c038961eaea8level0_row36\" class=\"row_heading level0 row36\" >36</th>\n",
       "                        <td id=\"T_043089a2_d6f0_11ea_9819_c038961eaea8row36_col0\" class=\"data row36 col0\" >Group Features </td>\n",
       "                        <td id=\"T_043089a2_d6f0_11ea_9819_c038961eaea8row36_col1\" class=\"data row36 col1\" >False</td>\n",
       "            </tr>\n",
       "            <tr>\n",
       "                        <th id=\"T_043089a2_d6f0_11ea_9819_c038961eaea8level0_row37\" class=\"row_heading level0 row37\" >37</th>\n",
       "                        <td id=\"T_043089a2_d6f0_11ea_9819_c038961eaea8row37_col0\" class=\"data row37 col0\" >Feature Selection </td>\n",
       "                        <td id=\"T_043089a2_d6f0_11ea_9819_c038961eaea8row37_col1\" class=\"data row37 col1\" >False</td>\n",
       "            </tr>\n",
       "            <tr>\n",
       "                        <th id=\"T_043089a2_d6f0_11ea_9819_c038961eaea8level0_row38\" class=\"row_heading level0 row38\" >38</th>\n",
       "                        <td id=\"T_043089a2_d6f0_11ea_9819_c038961eaea8row38_col0\" class=\"data row38 col0\" >Features Selection Threshold </td>\n",
       "                        <td id=\"T_043089a2_d6f0_11ea_9819_c038961eaea8row38_col1\" class=\"data row38 col1\" >None</td>\n",
       "            </tr>\n",
       "            <tr>\n",
       "                        <th id=\"T_043089a2_d6f0_11ea_9819_c038961eaea8level0_row39\" class=\"row_heading level0 row39\" >39</th>\n",
       "                        <td id=\"T_043089a2_d6f0_11ea_9819_c038961eaea8row39_col0\" class=\"data row39 col0\" >Feature Interaction </td>\n",
       "                        <td id=\"T_043089a2_d6f0_11ea_9819_c038961eaea8row39_col1\" class=\"data row39 col1\" >False</td>\n",
       "            </tr>\n",
       "            <tr>\n",
       "                        <th id=\"T_043089a2_d6f0_11ea_9819_c038961eaea8level0_row40\" class=\"row_heading level0 row40\" >40</th>\n",
       "                        <td id=\"T_043089a2_d6f0_11ea_9819_c038961eaea8row40_col0\" class=\"data row40 col0\" >Feature Ratio </td>\n",
       "                        <td id=\"T_043089a2_d6f0_11ea_9819_c038961eaea8row40_col1\" class=\"data row40 col1\" >False</td>\n",
       "            </tr>\n",
       "            <tr>\n",
       "                        <th id=\"T_043089a2_d6f0_11ea_9819_c038961eaea8level0_row41\" class=\"row_heading level0 row41\" >41</th>\n",
       "                        <td id=\"T_043089a2_d6f0_11ea_9819_c038961eaea8row41_col0\" class=\"data row41 col0\" >Interaction Threshold </td>\n",
       "                        <td id=\"T_043089a2_d6f0_11ea_9819_c038961eaea8row41_col1\" class=\"data row41 col1\" >None</td>\n",
       "            </tr>\n",
       "            <tr>\n",
       "                        <th id=\"T_043089a2_d6f0_11ea_9819_c038961eaea8level0_row42\" class=\"row_heading level0 row42\" >42</th>\n",
       "                        <td id=\"T_043089a2_d6f0_11ea_9819_c038961eaea8row42_col0\" class=\"data row42 col0\" >Fix Imbalance</td>\n",
       "                        <td id=\"T_043089a2_d6f0_11ea_9819_c038961eaea8row42_col1\" class=\"data row42 col1\" >False</td>\n",
       "            </tr>\n",
       "            <tr>\n",
       "                        <th id=\"T_043089a2_d6f0_11ea_9819_c038961eaea8level0_row43\" class=\"row_heading level0 row43\" >43</th>\n",
       "                        <td id=\"T_043089a2_d6f0_11ea_9819_c038961eaea8row43_col0\" class=\"data row43 col0\" >Fix Imbalance Method</td>\n",
       "                        <td id=\"T_043089a2_d6f0_11ea_9819_c038961eaea8row43_col1\" class=\"data row43 col1\" >SMOTE</td>\n",
       "            </tr>\n",
       "    </tbody></table>"
      ],
      "text/plain": [
       "<pandas.io.formats.style.Styler at 0x5b80af2cc8>"
      ]
     },
     "metadata": {},
     "output_type": "display_data"
    }
   ],
   "source": [
    "from pycaret.classification import *\n",
    "clf=setup(data=diabetes_df,target='Class variable')"
   ]
  },
  {
   "cell_type": "code",
   "execution_count": 7,
   "metadata": {},
   "outputs": [
    {
     "data": {
      "text/html": [
       "<style  type=\"text/css\" >\n",
       "    #T_2cb20ca8_d6f0_11ea_b469_c038961eaea8 th {\n",
       "          text-align: left;\n",
       "    }#T_2cb20ca8_d6f0_11ea_b469_c038961eaea8row0_col0,#T_2cb20ca8_d6f0_11ea_b469_c038961eaea8row0_col2,#T_2cb20ca8_d6f0_11ea_b469_c038961eaea8row0_col3,#T_2cb20ca8_d6f0_11ea_b469_c038961eaea8row0_col4,#T_2cb20ca8_d6f0_11ea_b469_c038961eaea8row0_col5,#T_2cb20ca8_d6f0_11ea_b469_c038961eaea8row1_col0,#T_2cb20ca8_d6f0_11ea_b469_c038961eaea8row1_col1,#T_2cb20ca8_d6f0_11ea_b469_c038961eaea8row1_col2,#T_2cb20ca8_d6f0_11ea_b469_c038961eaea8row1_col3,#T_2cb20ca8_d6f0_11ea_b469_c038961eaea8row1_col4,#T_2cb20ca8_d6f0_11ea_b469_c038961eaea8row1_col5,#T_2cb20ca8_d6f0_11ea_b469_c038961eaea8row1_col6,#T_2cb20ca8_d6f0_11ea_b469_c038961eaea8row1_col7,#T_2cb20ca8_d6f0_11ea_b469_c038961eaea8row2_col0,#T_2cb20ca8_d6f0_11ea_b469_c038961eaea8row2_col1,#T_2cb20ca8_d6f0_11ea_b469_c038961eaea8row2_col3,#T_2cb20ca8_d6f0_11ea_b469_c038961eaea8row2_col4,#T_2cb20ca8_d6f0_11ea_b469_c038961eaea8row2_col6,#T_2cb20ca8_d6f0_11ea_b469_c038961eaea8row2_col7,#T_2cb20ca8_d6f0_11ea_b469_c038961eaea8row3_col0,#T_2cb20ca8_d6f0_11ea_b469_c038961eaea8row3_col1,#T_2cb20ca8_d6f0_11ea_b469_c038961eaea8row3_col2,#T_2cb20ca8_d6f0_11ea_b469_c038961eaea8row3_col3,#T_2cb20ca8_d6f0_11ea_b469_c038961eaea8row3_col4,#T_2cb20ca8_d6f0_11ea_b469_c038961eaea8row3_col5,#T_2cb20ca8_d6f0_11ea_b469_c038961eaea8row3_col6,#T_2cb20ca8_d6f0_11ea_b469_c038961eaea8row3_col7,#T_2cb20ca8_d6f0_11ea_b469_c038961eaea8row4_col0,#T_2cb20ca8_d6f0_11ea_b469_c038961eaea8row4_col1,#T_2cb20ca8_d6f0_11ea_b469_c038961eaea8row4_col2,#T_2cb20ca8_d6f0_11ea_b469_c038961eaea8row4_col3,#T_2cb20ca8_d6f0_11ea_b469_c038961eaea8row4_col4,#T_2cb20ca8_d6f0_11ea_b469_c038961eaea8row4_col5,#T_2cb20ca8_d6f0_11ea_b469_c038961eaea8row4_col6,#T_2cb20ca8_d6f0_11ea_b469_c038961eaea8row4_col7,#T_2cb20ca8_d6f0_11ea_b469_c038961eaea8row5_col0,#T_2cb20ca8_d6f0_11ea_b469_c038961eaea8row5_col1,#T_2cb20ca8_d6f0_11ea_b469_c038961eaea8row5_col2,#T_2cb20ca8_d6f0_11ea_b469_c038961eaea8row5_col3,#T_2cb20ca8_d6f0_11ea_b469_c038961eaea8row5_col4,#T_2cb20ca8_d6f0_11ea_b469_c038961eaea8row5_col5,#T_2cb20ca8_d6f0_11ea_b469_c038961eaea8row5_col6,#T_2cb20ca8_d6f0_11ea_b469_c038961eaea8row5_col7,#T_2cb20ca8_d6f0_11ea_b469_c038961eaea8row6_col0,#T_2cb20ca8_d6f0_11ea_b469_c038961eaea8row6_col1,#T_2cb20ca8_d6f0_11ea_b469_c038961eaea8row6_col2,#T_2cb20ca8_d6f0_11ea_b469_c038961eaea8row6_col3,#T_2cb20ca8_d6f0_11ea_b469_c038961eaea8row6_col4,#T_2cb20ca8_d6f0_11ea_b469_c038961eaea8row6_col5,#T_2cb20ca8_d6f0_11ea_b469_c038961eaea8row6_col6,#T_2cb20ca8_d6f0_11ea_b469_c038961eaea8row6_col7,#T_2cb20ca8_d6f0_11ea_b469_c038961eaea8row7_col0,#T_2cb20ca8_d6f0_11ea_b469_c038961eaea8row7_col1,#T_2cb20ca8_d6f0_11ea_b469_c038961eaea8row7_col2,#T_2cb20ca8_d6f0_11ea_b469_c038961eaea8row7_col4,#T_2cb20ca8_d6f0_11ea_b469_c038961eaea8row7_col5,#T_2cb20ca8_d6f0_11ea_b469_c038961eaea8row7_col6,#T_2cb20ca8_d6f0_11ea_b469_c038961eaea8row7_col7,#T_2cb20ca8_d6f0_11ea_b469_c038961eaea8row8_col0,#T_2cb20ca8_d6f0_11ea_b469_c038961eaea8row8_col1,#T_2cb20ca8_d6f0_11ea_b469_c038961eaea8row8_col2,#T_2cb20ca8_d6f0_11ea_b469_c038961eaea8row8_col3,#T_2cb20ca8_d6f0_11ea_b469_c038961eaea8row8_col4,#T_2cb20ca8_d6f0_11ea_b469_c038961eaea8row8_col5,#T_2cb20ca8_d6f0_11ea_b469_c038961eaea8row8_col6,#T_2cb20ca8_d6f0_11ea_b469_c038961eaea8row8_col7,#T_2cb20ca8_d6f0_11ea_b469_c038961eaea8row9_col0,#T_2cb20ca8_d6f0_11ea_b469_c038961eaea8row9_col1,#T_2cb20ca8_d6f0_11ea_b469_c038961eaea8row9_col2,#T_2cb20ca8_d6f0_11ea_b469_c038961eaea8row9_col3,#T_2cb20ca8_d6f0_11ea_b469_c038961eaea8row9_col4,#T_2cb20ca8_d6f0_11ea_b469_c038961eaea8row9_col5,#T_2cb20ca8_d6f0_11ea_b469_c038961eaea8row9_col6,#T_2cb20ca8_d6f0_11ea_b469_c038961eaea8row9_col7,#T_2cb20ca8_d6f0_11ea_b469_c038961eaea8row10_col0,#T_2cb20ca8_d6f0_11ea_b469_c038961eaea8row10_col1,#T_2cb20ca8_d6f0_11ea_b469_c038961eaea8row10_col2,#T_2cb20ca8_d6f0_11ea_b469_c038961eaea8row10_col3,#T_2cb20ca8_d6f0_11ea_b469_c038961eaea8row10_col4,#T_2cb20ca8_d6f0_11ea_b469_c038961eaea8row10_col5,#T_2cb20ca8_d6f0_11ea_b469_c038961eaea8row10_col6,#T_2cb20ca8_d6f0_11ea_b469_c038961eaea8row10_col7,#T_2cb20ca8_d6f0_11ea_b469_c038961eaea8row11_col0,#T_2cb20ca8_d6f0_11ea_b469_c038961eaea8row11_col1,#T_2cb20ca8_d6f0_11ea_b469_c038961eaea8row11_col2,#T_2cb20ca8_d6f0_11ea_b469_c038961eaea8row11_col3,#T_2cb20ca8_d6f0_11ea_b469_c038961eaea8row11_col5,#T_2cb20ca8_d6f0_11ea_b469_c038961eaea8row11_col6,#T_2cb20ca8_d6f0_11ea_b469_c038961eaea8row11_col7,#T_2cb20ca8_d6f0_11ea_b469_c038961eaea8row12_col0,#T_2cb20ca8_d6f0_11ea_b469_c038961eaea8row12_col1,#T_2cb20ca8_d6f0_11ea_b469_c038961eaea8row12_col2,#T_2cb20ca8_d6f0_11ea_b469_c038961eaea8row12_col3,#T_2cb20ca8_d6f0_11ea_b469_c038961eaea8row12_col4,#T_2cb20ca8_d6f0_11ea_b469_c038961eaea8row12_col5,#T_2cb20ca8_d6f0_11ea_b469_c038961eaea8row12_col6,#T_2cb20ca8_d6f0_11ea_b469_c038961eaea8row12_col7,#T_2cb20ca8_d6f0_11ea_b469_c038961eaea8row13_col0,#T_2cb20ca8_d6f0_11ea_b469_c038961eaea8row13_col1,#T_2cb20ca8_d6f0_11ea_b469_c038961eaea8row13_col2,#T_2cb20ca8_d6f0_11ea_b469_c038961eaea8row13_col3,#T_2cb20ca8_d6f0_11ea_b469_c038961eaea8row13_col4,#T_2cb20ca8_d6f0_11ea_b469_c038961eaea8row13_col5,#T_2cb20ca8_d6f0_11ea_b469_c038961eaea8row13_col6,#T_2cb20ca8_d6f0_11ea_b469_c038961eaea8row13_col7,#T_2cb20ca8_d6f0_11ea_b469_c038961eaea8row14_col0,#T_2cb20ca8_d6f0_11ea_b469_c038961eaea8row14_col1,#T_2cb20ca8_d6f0_11ea_b469_c038961eaea8row14_col2,#T_2cb20ca8_d6f0_11ea_b469_c038961eaea8row14_col3,#T_2cb20ca8_d6f0_11ea_b469_c038961eaea8row14_col4,#T_2cb20ca8_d6f0_11ea_b469_c038961eaea8row14_col5,#T_2cb20ca8_d6f0_11ea_b469_c038961eaea8row14_col6,#T_2cb20ca8_d6f0_11ea_b469_c038961eaea8row14_col7{\n",
       "            text-align:  left;\n",
       "        }#T_2cb20ca8_d6f0_11ea_b469_c038961eaea8row0_col1,#T_2cb20ca8_d6f0_11ea_b469_c038961eaea8row0_col6,#T_2cb20ca8_d6f0_11ea_b469_c038961eaea8row0_col7,#T_2cb20ca8_d6f0_11ea_b469_c038961eaea8row2_col2,#T_2cb20ca8_d6f0_11ea_b469_c038961eaea8row2_col5,#T_2cb20ca8_d6f0_11ea_b469_c038961eaea8row7_col3,#T_2cb20ca8_d6f0_11ea_b469_c038961eaea8row11_col4{\n",
       "            background-color:  yellow;\n",
       "            text-align:  left;\n",
       "        }#T_2cb20ca8_d6f0_11ea_b469_c038961eaea8row0_col8,#T_2cb20ca8_d6f0_11ea_b469_c038961eaea8row1_col8,#T_2cb20ca8_d6f0_11ea_b469_c038961eaea8row2_col8,#T_2cb20ca8_d6f0_11ea_b469_c038961eaea8row3_col8,#T_2cb20ca8_d6f0_11ea_b469_c038961eaea8row4_col8,#T_2cb20ca8_d6f0_11ea_b469_c038961eaea8row5_col8,#T_2cb20ca8_d6f0_11ea_b469_c038961eaea8row6_col8,#T_2cb20ca8_d6f0_11ea_b469_c038961eaea8row7_col8,#T_2cb20ca8_d6f0_11ea_b469_c038961eaea8row8_col8,#T_2cb20ca8_d6f0_11ea_b469_c038961eaea8row9_col8,#T_2cb20ca8_d6f0_11ea_b469_c038961eaea8row10_col8,#T_2cb20ca8_d6f0_11ea_b469_c038961eaea8row11_col8,#T_2cb20ca8_d6f0_11ea_b469_c038961eaea8row12_col8,#T_2cb20ca8_d6f0_11ea_b469_c038961eaea8row13_col8,#T_2cb20ca8_d6f0_11ea_b469_c038961eaea8row14_col8{\n",
       "            background-color:  lightgrey;\n",
       "            text-align:  left;\n",
       "        }</style><table id=\"T_2cb20ca8_d6f0_11ea_b469_c038961eaea8\" ><thead>    <tr>        <th class=\"blank level0\" ></th>        <th class=\"col_heading level0 col0\" >Model</th>        <th class=\"col_heading level0 col1\" >Accuracy</th>        <th class=\"col_heading level0 col2\" >AUC</th>        <th class=\"col_heading level0 col3\" >Recall</th>        <th class=\"col_heading level0 col4\" >Prec.</th>        <th class=\"col_heading level0 col5\" >F1</th>        <th class=\"col_heading level0 col6\" >Kappa</th>        <th class=\"col_heading level0 col7\" >MCC</th>        <th class=\"col_heading level0 col8\" >TT (Sec)</th>    </tr></thead><tbody>\n",
       "                <tr>\n",
       "                        <th id=\"T_2cb20ca8_d6f0_11ea_b469_c038961eaea8level0_row0\" class=\"row_heading level0 row0\" >0</th>\n",
       "                        <td id=\"T_2cb20ca8_d6f0_11ea_b469_c038961eaea8row0_col0\" class=\"data row0 col0\" >Logistic Regression</td>\n",
       "                        <td id=\"T_2cb20ca8_d6f0_11ea_b469_c038961eaea8row0_col1\" class=\"data row0 col1\" >0.7708</td>\n",
       "                        <td id=\"T_2cb20ca8_d6f0_11ea_b469_c038961eaea8row0_col2\" class=\"data row0 col2\" >0.8079</td>\n",
       "                        <td id=\"T_2cb20ca8_d6f0_11ea_b469_c038961eaea8row0_col3\" class=\"data row0 col3\" >0.5447</td>\n",
       "                        <td id=\"T_2cb20ca8_d6f0_11ea_b469_c038961eaea8row0_col4\" class=\"data row0 col4\" >0.7386</td>\n",
       "                        <td id=\"T_2cb20ca8_d6f0_11ea_b469_c038961eaea8row0_col5\" class=\"data row0 col5\" >0.6233</td>\n",
       "                        <td id=\"T_2cb20ca8_d6f0_11ea_b469_c038961eaea8row0_col6\" class=\"data row0 col6\" >0.4639</td>\n",
       "                        <td id=\"T_2cb20ca8_d6f0_11ea_b469_c038961eaea8row0_col7\" class=\"data row0 col7\" >0.4777</td>\n",
       "                        <td id=\"T_2cb20ca8_d6f0_11ea_b469_c038961eaea8row0_col8\" class=\"data row0 col8\" >0.0888</td>\n",
       "            </tr>\n",
       "            <tr>\n",
       "                        <th id=\"T_2cb20ca8_d6f0_11ea_b469_c038961eaea8level0_row1\" class=\"row_heading level0 row1\" >1</th>\n",
       "                        <td id=\"T_2cb20ca8_d6f0_11ea_b469_c038961eaea8row1_col0\" class=\"data row1 col0\" >Ridge Classifier</td>\n",
       "                        <td id=\"T_2cb20ca8_d6f0_11ea_b469_c038961eaea8row1_col1\" class=\"data row1 col1\" >0.7672</td>\n",
       "                        <td id=\"T_2cb20ca8_d6f0_11ea_b469_c038961eaea8row1_col2\" class=\"data row1 col2\" >0.0000</td>\n",
       "                        <td id=\"T_2cb20ca8_d6f0_11ea_b469_c038961eaea8row1_col3\" class=\"data row1 col3\" >0.5342</td>\n",
       "                        <td id=\"T_2cb20ca8_d6f0_11ea_b469_c038961eaea8row1_col4\" class=\"data row1 col4\" >0.7329</td>\n",
       "                        <td id=\"T_2cb20ca8_d6f0_11ea_b469_c038961eaea8row1_col5\" class=\"data row1 col5\" >0.6147</td>\n",
       "                        <td id=\"T_2cb20ca8_d6f0_11ea_b469_c038961eaea8row1_col6\" class=\"data row1 col6\" >0.4537</td>\n",
       "                        <td id=\"T_2cb20ca8_d6f0_11ea_b469_c038961eaea8row1_col7\" class=\"data row1 col7\" >0.4677</td>\n",
       "                        <td id=\"T_2cb20ca8_d6f0_11ea_b469_c038961eaea8row1_col8\" class=\"data row1 col8\" >0.0108</td>\n",
       "            </tr>\n",
       "            <tr>\n",
       "                        <th id=\"T_2cb20ca8_d6f0_11ea_b469_c038961eaea8level0_row2\" class=\"row_heading level0 row2\" >2</th>\n",
       "                        <td id=\"T_2cb20ca8_d6f0_11ea_b469_c038961eaea8row2_col0\" class=\"data row2 col0\" >CatBoost Classifier</td>\n",
       "                        <td id=\"T_2cb20ca8_d6f0_11ea_b469_c038961eaea8row2_col1\" class=\"data row2 col1\" >0.7653</td>\n",
       "                        <td id=\"T_2cb20ca8_d6f0_11ea_b469_c038961eaea8row2_col2\" class=\"data row2 col2\" >0.8385</td>\n",
       "                        <td id=\"T_2cb20ca8_d6f0_11ea_b469_c038961eaea8row2_col3\" class=\"data row2 col3\" >0.5822</td>\n",
       "                        <td id=\"T_2cb20ca8_d6f0_11ea_b469_c038961eaea8row2_col4\" class=\"data row2 col4\" >0.6989</td>\n",
       "                        <td id=\"T_2cb20ca8_d6f0_11ea_b469_c038961eaea8row2_col5\" class=\"data row2 col5\" >0.6308</td>\n",
       "                        <td id=\"T_2cb20ca8_d6f0_11ea_b469_c038961eaea8row2_col6\" class=\"data row2 col6\" >0.4617</td>\n",
       "                        <td id=\"T_2cb20ca8_d6f0_11ea_b469_c038961eaea8row2_col7\" class=\"data row2 col7\" >0.4689</td>\n",
       "                        <td id=\"T_2cb20ca8_d6f0_11ea_b469_c038961eaea8row2_col8\" class=\"data row2 col8\" >3.9206</td>\n",
       "            </tr>\n",
       "            <tr>\n",
       "                        <th id=\"T_2cb20ca8_d6f0_11ea_b469_c038961eaea8level0_row3\" class=\"row_heading level0 row3\" >3</th>\n",
       "                        <td id=\"T_2cb20ca8_d6f0_11ea_b469_c038961eaea8row3_col0\" class=\"data row3 col0\" >Linear Discriminant Analysis</td>\n",
       "                        <td id=\"T_2cb20ca8_d6f0_11ea_b469_c038961eaea8row3_col1\" class=\"data row3 col1\" >0.7616</td>\n",
       "                        <td id=\"T_2cb20ca8_d6f0_11ea_b469_c038961eaea8row3_col2\" class=\"data row3 col2\" >0.8215</td>\n",
       "                        <td id=\"T_2cb20ca8_d6f0_11ea_b469_c038961eaea8row3_col3\" class=\"data row3 col3\" >0.5289</td>\n",
       "                        <td id=\"T_2cb20ca8_d6f0_11ea_b469_c038961eaea8row3_col4\" class=\"data row3 col4\" >0.7220</td>\n",
       "                        <td id=\"T_2cb20ca8_d6f0_11ea_b469_c038961eaea8row3_col5\" class=\"data row3 col5\" >0.6068</td>\n",
       "                        <td id=\"T_2cb20ca8_d6f0_11ea_b469_c038961eaea8row3_col6\" class=\"data row3 col6\" >0.4414</td>\n",
       "                        <td id=\"T_2cb20ca8_d6f0_11ea_b469_c038961eaea8row3_col7\" class=\"data row3 col7\" >0.4552</td>\n",
       "                        <td id=\"T_2cb20ca8_d6f0_11ea_b469_c038961eaea8row3_col8\" class=\"data row3 col8\" >0.0127</td>\n",
       "            </tr>\n",
       "            <tr>\n",
       "                        <th id=\"T_2cb20ca8_d6f0_11ea_b469_c038961eaea8level0_row4\" class=\"row_heading level0 row4\" >4</th>\n",
       "                        <td id=\"T_2cb20ca8_d6f0_11ea_b469_c038961eaea8row4_col0\" class=\"data row4 col0\" >Gradient Boosting Classifier</td>\n",
       "                        <td id=\"T_2cb20ca8_d6f0_11ea_b469_c038961eaea8row4_col1\" class=\"data row4 col1\" >0.7580</td>\n",
       "                        <td id=\"T_2cb20ca8_d6f0_11ea_b469_c038961eaea8row4_col2\" class=\"data row4 col2\" >0.8171</td>\n",
       "                        <td id=\"T_2cb20ca8_d6f0_11ea_b469_c038961eaea8row4_col3\" class=\"data row4 col3\" >0.5725</td>\n",
       "                        <td id=\"T_2cb20ca8_d6f0_11ea_b469_c038961eaea8row4_col4\" class=\"data row4 col4\" >0.6844</td>\n",
       "                        <td id=\"T_2cb20ca8_d6f0_11ea_b469_c038961eaea8row4_col5\" class=\"data row4 col5\" >0.6221</td>\n",
       "                        <td id=\"T_2cb20ca8_d6f0_11ea_b469_c038961eaea8row4_col6\" class=\"data row4 col6\" >0.4464</td>\n",
       "                        <td id=\"T_2cb20ca8_d6f0_11ea_b469_c038961eaea8row4_col7\" class=\"data row4 col7\" >0.4512</td>\n",
       "                        <td id=\"T_2cb20ca8_d6f0_11ea_b469_c038961eaea8row4_col8\" class=\"data row4 col8\" >0.2352</td>\n",
       "            </tr>\n",
       "            <tr>\n",
       "                        <th id=\"T_2cb20ca8_d6f0_11ea_b469_c038961eaea8level0_row5\" class=\"row_heading level0 row5\" >5</th>\n",
       "                        <td id=\"T_2cb20ca8_d6f0_11ea_b469_c038961eaea8row5_col0\" class=\"data row5 col0\" >Light Gradient Boosting Machine</td>\n",
       "                        <td id=\"T_2cb20ca8_d6f0_11ea_b469_c038961eaea8row5_col1\" class=\"data row5 col1\" >0.7559</td>\n",
       "                        <td id=\"T_2cb20ca8_d6f0_11ea_b469_c038961eaea8row5_col2\" class=\"data row5 col2\" >0.8143</td>\n",
       "                        <td id=\"T_2cb20ca8_d6f0_11ea_b469_c038961eaea8row5_col3\" class=\"data row5 col3\" >0.5877</td>\n",
       "                        <td id=\"T_2cb20ca8_d6f0_11ea_b469_c038961eaea8row5_col4\" class=\"data row5 col4\" >0.6847</td>\n",
       "                        <td id=\"T_2cb20ca8_d6f0_11ea_b469_c038961eaea8row5_col5\" class=\"data row5 col5\" >0.6243</td>\n",
       "                        <td id=\"T_2cb20ca8_d6f0_11ea_b469_c038961eaea8row5_col6\" class=\"data row5 col6\" >0.4466</td>\n",
       "                        <td id=\"T_2cb20ca8_d6f0_11ea_b469_c038961eaea8row5_col7\" class=\"data row5 col7\" >0.4547</td>\n",
       "                        <td id=\"T_2cb20ca8_d6f0_11ea_b469_c038961eaea8row5_col8\" class=\"data row5 col8\" >0.1140</td>\n",
       "            </tr>\n",
       "            <tr>\n",
       "                        <th id=\"T_2cb20ca8_d6f0_11ea_b469_c038961eaea8level0_row6\" class=\"row_heading level0 row6\" >6</th>\n",
       "                        <td id=\"T_2cb20ca8_d6f0_11ea_b469_c038961eaea8row6_col0\" class=\"data row6 col0\" >Extra Trees Classifier</td>\n",
       "                        <td id=\"T_2cb20ca8_d6f0_11ea_b469_c038961eaea8row6_col1\" class=\"data row6 col1\" >0.7541</td>\n",
       "                        <td id=\"T_2cb20ca8_d6f0_11ea_b469_c038961eaea8row6_col2\" class=\"data row6 col2\" >0.7993</td>\n",
       "                        <td id=\"T_2cb20ca8_d6f0_11ea_b469_c038961eaea8row6_col3\" class=\"data row6 col3\" >0.5284</td>\n",
       "                        <td id=\"T_2cb20ca8_d6f0_11ea_b469_c038961eaea8row6_col4\" class=\"data row6 col4\" >0.7097</td>\n",
       "                        <td id=\"T_2cb20ca8_d6f0_11ea_b469_c038961eaea8row6_col5\" class=\"data row6 col5\" >0.6000</td>\n",
       "                        <td id=\"T_2cb20ca8_d6f0_11ea_b469_c038961eaea8row6_col6\" class=\"data row6 col6\" >0.4277</td>\n",
       "                        <td id=\"T_2cb20ca8_d6f0_11ea_b469_c038961eaea8row6_col7\" class=\"data row6 col7\" >0.4419</td>\n",
       "                        <td id=\"T_2cb20ca8_d6f0_11ea_b469_c038961eaea8row6_col8\" class=\"data row6 col8\" >0.3318</td>\n",
       "            </tr>\n",
       "            <tr>\n",
       "                        <th id=\"T_2cb20ca8_d6f0_11ea_b469_c038961eaea8level0_row7\" class=\"row_heading level0 row7\" >7</th>\n",
       "                        <td id=\"T_2cb20ca8_d6f0_11ea_b469_c038961eaea8row7_col0\" class=\"data row7 col0\" >Extreme Gradient Boosting</td>\n",
       "                        <td id=\"T_2cb20ca8_d6f0_11ea_b469_c038961eaea8row7_col1\" class=\"data row7 col1\" >0.7392</td>\n",
       "                        <td id=\"T_2cb20ca8_d6f0_11ea_b469_c038961eaea8row7_col2\" class=\"data row7 col2\" >0.7956</td>\n",
       "                        <td id=\"T_2cb20ca8_d6f0_11ea_b469_c038961eaea8row7_col3\" class=\"data row7 col3\" >0.6152</td>\n",
       "                        <td id=\"T_2cb20ca8_d6f0_11ea_b469_c038961eaea8row7_col4\" class=\"data row7 col4\" >0.6332</td>\n",
       "                        <td id=\"T_2cb20ca8_d6f0_11ea_b469_c038961eaea8row7_col5\" class=\"data row7 col5\" >0.6222</td>\n",
       "                        <td id=\"T_2cb20ca8_d6f0_11ea_b469_c038961eaea8row7_col6\" class=\"data row7 col6\" >0.4237</td>\n",
       "                        <td id=\"T_2cb20ca8_d6f0_11ea_b469_c038961eaea8row7_col7\" class=\"data row7 col7\" >0.4252</td>\n",
       "                        <td id=\"T_2cb20ca8_d6f0_11ea_b469_c038961eaea8row7_col8\" class=\"data row7 col8\" >0.1332</td>\n",
       "            </tr>\n",
       "            <tr>\n",
       "                        <th id=\"T_2cb20ca8_d6f0_11ea_b469_c038961eaea8level0_row8\" class=\"row_heading level0 row8\" >8</th>\n",
       "                        <td id=\"T_2cb20ca8_d6f0_11ea_b469_c038961eaea8row8_col0\" class=\"data row8 col0\" >Ada Boost Classifier</td>\n",
       "                        <td id=\"T_2cb20ca8_d6f0_11ea_b469_c038961eaea8row8_col1\" class=\"data row8 col1\" >0.7338</td>\n",
       "                        <td id=\"T_2cb20ca8_d6f0_11ea_b469_c038961eaea8row8_col2\" class=\"data row8 col2\" >0.7954</td>\n",
       "                        <td id=\"T_2cb20ca8_d6f0_11ea_b469_c038961eaea8row8_col3\" class=\"data row8 col3\" >0.5456</td>\n",
       "                        <td id=\"T_2cb20ca8_d6f0_11ea_b469_c038961eaea8row8_col4\" class=\"data row8 col4\" >0.6419</td>\n",
       "                        <td id=\"T_2cb20ca8_d6f0_11ea_b469_c038961eaea8row8_col5\" class=\"data row8 col5\" >0.5878</td>\n",
       "                        <td id=\"T_2cb20ca8_d6f0_11ea_b469_c038961eaea8row8_col6\" class=\"data row8 col6\" >0.3934</td>\n",
       "                        <td id=\"T_2cb20ca8_d6f0_11ea_b469_c038961eaea8row8_col7\" class=\"data row8 col7\" >0.3976</td>\n",
       "                        <td id=\"T_2cb20ca8_d6f0_11ea_b469_c038961eaea8row8_col8\" class=\"data row8 col8\" >0.1710</td>\n",
       "            </tr>\n",
       "            <tr>\n",
       "                        <th id=\"T_2cb20ca8_d6f0_11ea_b469_c038961eaea8level0_row9\" class=\"row_heading level0 row9\" >9</th>\n",
       "                        <td id=\"T_2cb20ca8_d6f0_11ea_b469_c038961eaea8row9_col0\" class=\"data row9 col0\" >Random Forest Classifier</td>\n",
       "                        <td id=\"T_2cb20ca8_d6f0_11ea_b469_c038961eaea8row9_col1\" class=\"data row9 col1\" >0.7245</td>\n",
       "                        <td id=\"T_2cb20ca8_d6f0_11ea_b469_c038961eaea8row9_col2\" class=\"data row9 col2\" >0.7594</td>\n",
       "                        <td id=\"T_2cb20ca8_d6f0_11ea_b469_c038961eaea8row9_col3\" class=\"data row9 col3\" >0.4488</td>\n",
       "                        <td id=\"T_2cb20ca8_d6f0_11ea_b469_c038961eaea8row9_col4\" class=\"data row9 col4\" >0.6707</td>\n",
       "                        <td id=\"T_2cb20ca8_d6f0_11ea_b469_c038961eaea8row9_col5\" class=\"data row9 col5\" >0.5296</td>\n",
       "                        <td id=\"T_2cb20ca8_d6f0_11ea_b469_c038961eaea8row9_col6\" class=\"data row9 col6\" >0.3458</td>\n",
       "                        <td id=\"T_2cb20ca8_d6f0_11ea_b469_c038961eaea8row9_col7\" class=\"data row9 col7\" >0.3647</td>\n",
       "                        <td id=\"T_2cb20ca8_d6f0_11ea_b469_c038961eaea8row9_col8\" class=\"data row9 col8\" >0.1249</td>\n",
       "            </tr>\n",
       "            <tr>\n",
       "                        <th id=\"T_2cb20ca8_d6f0_11ea_b469_c038961eaea8level0_row10\" class=\"row_heading level0 row10\" >10</th>\n",
       "                        <td id=\"T_2cb20ca8_d6f0_11ea_b469_c038961eaea8row10_col0\" class=\"data row10 col0\" >K Neighbors Classifier</td>\n",
       "                        <td id=\"T_2cb20ca8_d6f0_11ea_b469_c038961eaea8row10_col1\" class=\"data row10 col1\" >0.7076</td>\n",
       "                        <td id=\"T_2cb20ca8_d6f0_11ea_b469_c038961eaea8row10_col2\" class=\"data row10 col2\" >0.7363</td>\n",
       "                        <td id=\"T_2cb20ca8_d6f0_11ea_b469_c038961eaea8row10_col3\" class=\"data row10 col3\" >0.5342</td>\n",
       "                        <td id=\"T_2cb20ca8_d6f0_11ea_b469_c038961eaea8row10_col4\" class=\"data row10 col4\" >0.5995</td>\n",
       "                        <td id=\"T_2cb20ca8_d6f0_11ea_b469_c038961eaea8row10_col5\" class=\"data row10 col5\" >0.5565</td>\n",
       "                        <td id=\"T_2cb20ca8_d6f0_11ea_b469_c038961eaea8row10_col6\" class=\"data row10 col6\" >0.3411</td>\n",
       "                        <td id=\"T_2cb20ca8_d6f0_11ea_b469_c038961eaea8row10_col7\" class=\"data row10 col7\" >0.3476</td>\n",
       "                        <td id=\"T_2cb20ca8_d6f0_11ea_b469_c038961eaea8row10_col8\" class=\"data row10 col8\" >0.0175</td>\n",
       "            </tr>\n",
       "            <tr>\n",
       "                        <th id=\"T_2cb20ca8_d6f0_11ea_b469_c038961eaea8level0_row11\" class=\"row_heading level0 row11\" >11</th>\n",
       "                        <td id=\"T_2cb20ca8_d6f0_11ea_b469_c038961eaea8row11_col0\" class=\"data row11 col0\" >Naive Bayes</td>\n",
       "                        <td id=\"T_2cb20ca8_d6f0_11ea_b469_c038961eaea8row11_col1\" class=\"data row11 col1\" >0.7001</td>\n",
       "                        <td id=\"T_2cb20ca8_d6f0_11ea_b469_c038961eaea8row11_col2\" class=\"data row11 col2\" >0.7557</td>\n",
       "                        <td id=\"T_2cb20ca8_d6f0_11ea_b469_c038961eaea8row11_col3\" class=\"data row11 col3\" >0.2234</td>\n",
       "                        <td id=\"T_2cb20ca8_d6f0_11ea_b469_c038961eaea8row11_col4\" class=\"data row11 col4\" >0.7558</td>\n",
       "                        <td id=\"T_2cb20ca8_d6f0_11ea_b469_c038961eaea8row11_col5\" class=\"data row11 col5\" >0.3334</td>\n",
       "                        <td id=\"T_2cb20ca8_d6f0_11ea_b469_c038961eaea8row11_col6\" class=\"data row11 col6\" >0.2101</td>\n",
       "                        <td id=\"T_2cb20ca8_d6f0_11ea_b469_c038961eaea8row11_col7\" class=\"data row11 col7\" >0.2779</td>\n",
       "                        <td id=\"T_2cb20ca8_d6f0_11ea_b469_c038961eaea8row11_col8\" class=\"data row11 col8\" >0.0082</td>\n",
       "            </tr>\n",
       "            <tr>\n",
       "                        <th id=\"T_2cb20ca8_d6f0_11ea_b469_c038961eaea8level0_row12\" class=\"row_heading level0 row12\" >12</th>\n",
       "                        <td id=\"T_2cb20ca8_d6f0_11ea_b469_c038961eaea8row12_col0\" class=\"data row12 col0\" >Decision Tree Classifier</td>\n",
       "                        <td id=\"T_2cb20ca8_d6f0_11ea_b469_c038961eaea8row12_col1\" class=\"data row12 col1\" >0.6924</td>\n",
       "                        <td id=\"T_2cb20ca8_d6f0_11ea_b469_c038961eaea8row12_col2\" class=\"data row12 col2\" >0.6653</td>\n",
       "                        <td id=\"T_2cb20ca8_d6f0_11ea_b469_c038961eaea8row12_col3\" class=\"data row12 col3\" >0.5763</td>\n",
       "                        <td id=\"T_2cb20ca8_d6f0_11ea_b469_c038961eaea8row12_col4\" class=\"data row12 col4\" >0.5615</td>\n",
       "                        <td id=\"T_2cb20ca8_d6f0_11ea_b469_c038961eaea8row12_col5\" class=\"data row12 col5\" >0.5657</td>\n",
       "                        <td id=\"T_2cb20ca8_d6f0_11ea_b469_c038961eaea8row12_col6\" class=\"data row12 col6\" >0.3287</td>\n",
       "                        <td id=\"T_2cb20ca8_d6f0_11ea_b469_c038961eaea8row12_col7\" class=\"data row12 col7\" >0.3311</td>\n",
       "                        <td id=\"T_2cb20ca8_d6f0_11ea_b469_c038961eaea8row12_col8\" class=\"data row12 col8\" >0.0118</td>\n",
       "            </tr>\n",
       "            <tr>\n",
       "                        <th id=\"T_2cb20ca8_d6f0_11ea_b469_c038961eaea8level0_row13\" class=\"row_heading level0 row13\" >13</th>\n",
       "                        <td id=\"T_2cb20ca8_d6f0_11ea_b469_c038961eaea8row13_col0\" class=\"data row13 col0\" >SVM - Linear Kernel</td>\n",
       "                        <td id=\"T_2cb20ca8_d6f0_11ea_b469_c038961eaea8row13_col1\" class=\"data row13 col1\" >0.5717</td>\n",
       "                        <td id=\"T_2cb20ca8_d6f0_11ea_b469_c038961eaea8row13_col2\" class=\"data row13 col2\" >0.0000</td>\n",
       "                        <td id=\"T_2cb20ca8_d6f0_11ea_b469_c038961eaea8row13_col3\" class=\"data row13 col3\" >0.4444</td>\n",
       "                        <td id=\"T_2cb20ca8_d6f0_11ea_b469_c038961eaea8row13_col4\" class=\"data row13 col4\" >0.3855</td>\n",
       "                        <td id=\"T_2cb20ca8_d6f0_11ea_b469_c038961eaea8row13_col5\" class=\"data row13 col5\" >0.3467</td>\n",
       "                        <td id=\"T_2cb20ca8_d6f0_11ea_b469_c038961eaea8row13_col6\" class=\"data row13 col6\" >0.0824</td>\n",
       "                        <td id=\"T_2cb20ca8_d6f0_11ea_b469_c038961eaea8row13_col7\" class=\"data row13 col7\" >0.1045</td>\n",
       "                        <td id=\"T_2cb20ca8_d6f0_11ea_b469_c038961eaea8row13_col8\" class=\"data row13 col8\" >0.0136</td>\n",
       "            </tr>\n",
       "            <tr>\n",
       "                        <th id=\"T_2cb20ca8_d6f0_11ea_b469_c038961eaea8level0_row14\" class=\"row_heading level0 row14\" >14</th>\n",
       "                        <td id=\"T_2cb20ca8_d6f0_11ea_b469_c038961eaea8row14_col0\" class=\"data row14 col0\" >Quadratic Discriminant Analysis</td>\n",
       "                        <td id=\"T_2cb20ca8_d6f0_11ea_b469_c038961eaea8row14_col1\" class=\"data row14 col1\" >0.5679</td>\n",
       "                        <td id=\"T_2cb20ca8_d6f0_11ea_b469_c038961eaea8row14_col2\" class=\"data row14 col2\" >0.5950</td>\n",
       "                        <td id=\"T_2cb20ca8_d6f0_11ea_b469_c038961eaea8row14_col3\" class=\"data row14 col3\" >0.4816</td>\n",
       "                        <td id=\"T_2cb20ca8_d6f0_11ea_b469_c038961eaea8row14_col4\" class=\"data row14 col4\" >0.4464</td>\n",
       "                        <td id=\"T_2cb20ca8_d6f0_11ea_b469_c038961eaea8row14_col5\" class=\"data row14 col5\" >0.4057</td>\n",
       "                        <td id=\"T_2cb20ca8_d6f0_11ea_b469_c038961eaea8row14_col6\" class=\"data row14 col6\" >0.0979</td>\n",
       "                        <td id=\"T_2cb20ca8_d6f0_11ea_b469_c038961eaea8row14_col7\" class=\"data row14 col7\" >0.1191</td>\n",
       "                        <td id=\"T_2cb20ca8_d6f0_11ea_b469_c038961eaea8row14_col8\" class=\"data row14 col8\" >0.0092</td>\n",
       "            </tr>\n",
       "    </tbody></table>"
      ],
      "text/plain": [
       "<pandas.io.formats.style.Styler at 0x5b85918948>"
      ]
     },
     "metadata": {},
     "output_type": "display_data"
    },
    {
     "data": {
      "text/plain": [
       "LogisticRegression(C=1.0, class_weight=None, dual=False, fit_intercept=True,\n",
       "                   intercept_scaling=1, l1_ratio=None, max_iter=100,\n",
       "                   multi_class='auto', n_jobs=None, penalty='l2',\n",
       "                   random_state=4573, solver='lbfgs', tol=0.0001, verbose=0,\n",
       "                   warm_start=False)"
      ]
     },
     "execution_count": 7,
     "metadata": {},
     "output_type": "execute_result"
    }
   ],
   "source": [
    "#### Comparing models\n",
    "compare_models()"
   ]
  },
  {
   "cell_type": "markdown",
   "metadata": {},
   "source": [
    "#### Regression Problem"
   ]
  },
  {
   "cell_type": "code",
   "execution_count": 8,
   "metadata": {},
   "outputs": [
    {
     "data": {
      "text/html": [
       "<div>\n",
       "<style scoped>\n",
       "    .dataframe tbody tr th:only-of-type {\n",
       "        vertical-align: middle;\n",
       "    }\n",
       "\n",
       "    .dataframe tbody tr th {\n",
       "        vertical-align: top;\n",
       "    }\n",
       "\n",
       "    .dataframe thead th {\n",
       "        text-align: right;\n",
       "    }\n",
       "</style>\n",
       "<table border=\"1\" class=\"dataframe\">\n",
       "  <thead>\n",
       "    <tr style=\"text-align: right;\">\n",
       "      <th></th>\n",
       "      <th>crim</th>\n",
       "      <th>zn</th>\n",
       "      <th>indus</th>\n",
       "      <th>chas</th>\n",
       "      <th>nox</th>\n",
       "      <th>rm</th>\n",
       "      <th>age</th>\n",
       "      <th>dis</th>\n",
       "      <th>rad</th>\n",
       "      <th>tax</th>\n",
       "      <th>ptratio</th>\n",
       "      <th>black</th>\n",
       "      <th>lstat</th>\n",
       "      <th>medv</th>\n",
       "    </tr>\n",
       "  </thead>\n",
       "  <tbody>\n",
       "    <tr>\n",
       "      <th>0</th>\n",
       "      <td>0.00632</td>\n",
       "      <td>18.0</td>\n",
       "      <td>2.31</td>\n",
       "      <td>0</td>\n",
       "      <td>0.538</td>\n",
       "      <td>6.575</td>\n",
       "      <td>65.2</td>\n",
       "      <td>4.0900</td>\n",
       "      <td>1</td>\n",
       "      <td>296</td>\n",
       "      <td>15.3</td>\n",
       "      <td>396.90</td>\n",
       "      <td>4.98</td>\n",
       "      <td>24.0</td>\n",
       "    </tr>\n",
       "    <tr>\n",
       "      <th>1</th>\n",
       "      <td>0.02731</td>\n",
       "      <td>0.0</td>\n",
       "      <td>7.07</td>\n",
       "      <td>0</td>\n",
       "      <td>0.469</td>\n",
       "      <td>6.421</td>\n",
       "      <td>78.9</td>\n",
       "      <td>4.9671</td>\n",
       "      <td>2</td>\n",
       "      <td>242</td>\n",
       "      <td>17.8</td>\n",
       "      <td>396.90</td>\n",
       "      <td>9.14</td>\n",
       "      <td>21.6</td>\n",
       "    </tr>\n",
       "    <tr>\n",
       "      <th>2</th>\n",
       "      <td>0.02729</td>\n",
       "      <td>0.0</td>\n",
       "      <td>7.07</td>\n",
       "      <td>0</td>\n",
       "      <td>0.469</td>\n",
       "      <td>7.185</td>\n",
       "      <td>61.1</td>\n",
       "      <td>4.9671</td>\n",
       "      <td>2</td>\n",
       "      <td>242</td>\n",
       "      <td>17.8</td>\n",
       "      <td>392.83</td>\n",
       "      <td>4.03</td>\n",
       "      <td>34.7</td>\n",
       "    </tr>\n",
       "    <tr>\n",
       "      <th>3</th>\n",
       "      <td>0.03237</td>\n",
       "      <td>0.0</td>\n",
       "      <td>2.18</td>\n",
       "      <td>0</td>\n",
       "      <td>0.458</td>\n",
       "      <td>6.998</td>\n",
       "      <td>45.8</td>\n",
       "      <td>6.0622</td>\n",
       "      <td>3</td>\n",
       "      <td>222</td>\n",
       "      <td>18.7</td>\n",
       "      <td>394.63</td>\n",
       "      <td>2.94</td>\n",
       "      <td>33.4</td>\n",
       "    </tr>\n",
       "    <tr>\n",
       "      <th>4</th>\n",
       "      <td>0.06905</td>\n",
       "      <td>0.0</td>\n",
       "      <td>2.18</td>\n",
       "      <td>0</td>\n",
       "      <td>0.458</td>\n",
       "      <td>7.147</td>\n",
       "      <td>54.2</td>\n",
       "      <td>6.0622</td>\n",
       "      <td>3</td>\n",
       "      <td>222</td>\n",
       "      <td>18.7</td>\n",
       "      <td>396.90</td>\n",
       "      <td>5.33</td>\n",
       "      <td>36.2</td>\n",
       "    </tr>\n",
       "  </tbody>\n",
       "</table>\n",
       "</div>"
      ],
      "text/plain": [
       "      crim    zn  indus  chas    nox     rm   age     dis  rad  tax  ptratio  \\\n",
       "0  0.00632  18.0   2.31     0  0.538  6.575  65.2  4.0900    1  296     15.3   \n",
       "1  0.02731   0.0   7.07     0  0.469  6.421  78.9  4.9671    2  242     17.8   \n",
       "2  0.02729   0.0   7.07     0  0.469  7.185  61.1  4.9671    2  242     17.8   \n",
       "3  0.03237   0.0   2.18     0  0.458  6.998  45.8  6.0622    3  222     18.7   \n",
       "4  0.06905   0.0   2.18     0  0.458  7.147  54.2  6.0622    3  222     18.7   \n",
       "\n",
       "    black  lstat  medv  \n",
       "0  396.90   4.98  24.0  \n",
       "1  396.90   9.14  21.6  \n",
       "2  392.83   4.03  34.7  \n",
       "3  394.63   2.94  33.4  \n",
       "4  396.90   5.33  36.2  "
      ]
     },
     "metadata": {},
     "output_type": "display_data"
    }
   ],
   "source": [
    "boston_df=get_data('boston')"
   ]
  },
  {
   "cell_type": "code",
   "execution_count": 10,
   "metadata": {},
   "outputs": [],
   "source": [
    "from pycaret.regression import *"
   ]
  },
  {
   "cell_type": "code",
   "execution_count": 11,
   "metadata": {},
   "outputs": [
    {
     "name": "stdout",
     "output_type": "stream",
     "text": [
      " \n",
      "Setup Succesfully Completed.\n"
     ]
    },
    {
     "data": {
      "text/html": [
       "<style  type=\"text/css\" >\n",
       "</style><table id=\"T_47d1443e_d6f0_11ea_b45b_c038961eaea8\" ><thead>    <tr>        <th class=\"blank level0\" ></th>        <th class=\"col_heading level0 col0\" >Description</th>        <th class=\"col_heading level0 col1\" >Value</th>    </tr></thead><tbody>\n",
       "                <tr>\n",
       "                        <th id=\"T_47d1443e_d6f0_11ea_b45b_c038961eaea8level0_row0\" class=\"row_heading level0 row0\" >0</th>\n",
       "                        <td id=\"T_47d1443e_d6f0_11ea_b45b_c038961eaea8row0_col0\" class=\"data row0 col0\" >session_id</td>\n",
       "                        <td id=\"T_47d1443e_d6f0_11ea_b45b_c038961eaea8row0_col1\" class=\"data row0 col1\" >3113</td>\n",
       "            </tr>\n",
       "            <tr>\n",
       "                        <th id=\"T_47d1443e_d6f0_11ea_b45b_c038961eaea8level0_row1\" class=\"row_heading level0 row1\" >1</th>\n",
       "                        <td id=\"T_47d1443e_d6f0_11ea_b45b_c038961eaea8row1_col0\" class=\"data row1 col0\" >Transform Target </td>\n",
       "                        <td id=\"T_47d1443e_d6f0_11ea_b45b_c038961eaea8row1_col1\" class=\"data row1 col1\" >False</td>\n",
       "            </tr>\n",
       "            <tr>\n",
       "                        <th id=\"T_47d1443e_d6f0_11ea_b45b_c038961eaea8level0_row2\" class=\"row_heading level0 row2\" >2</th>\n",
       "                        <td id=\"T_47d1443e_d6f0_11ea_b45b_c038961eaea8row2_col0\" class=\"data row2 col0\" >Transform Target Method</td>\n",
       "                        <td id=\"T_47d1443e_d6f0_11ea_b45b_c038961eaea8row2_col1\" class=\"data row2 col1\" >None</td>\n",
       "            </tr>\n",
       "            <tr>\n",
       "                        <th id=\"T_47d1443e_d6f0_11ea_b45b_c038961eaea8level0_row3\" class=\"row_heading level0 row3\" >3</th>\n",
       "                        <td id=\"T_47d1443e_d6f0_11ea_b45b_c038961eaea8row3_col0\" class=\"data row3 col0\" >Original Data</td>\n",
       "                        <td id=\"T_47d1443e_d6f0_11ea_b45b_c038961eaea8row3_col1\" class=\"data row3 col1\" >(506, 14)</td>\n",
       "            </tr>\n",
       "            <tr>\n",
       "                        <th id=\"T_47d1443e_d6f0_11ea_b45b_c038961eaea8level0_row4\" class=\"row_heading level0 row4\" >4</th>\n",
       "                        <td id=\"T_47d1443e_d6f0_11ea_b45b_c038961eaea8row4_col0\" class=\"data row4 col0\" >Missing Values </td>\n",
       "                        <td id=\"T_47d1443e_d6f0_11ea_b45b_c038961eaea8row4_col1\" class=\"data row4 col1\" >False</td>\n",
       "            </tr>\n",
       "            <tr>\n",
       "                        <th id=\"T_47d1443e_d6f0_11ea_b45b_c038961eaea8level0_row5\" class=\"row_heading level0 row5\" >5</th>\n",
       "                        <td id=\"T_47d1443e_d6f0_11ea_b45b_c038961eaea8row5_col0\" class=\"data row5 col0\" >Numeric Features </td>\n",
       "                        <td id=\"T_47d1443e_d6f0_11ea_b45b_c038961eaea8row5_col1\" class=\"data row5 col1\" >11</td>\n",
       "            </tr>\n",
       "            <tr>\n",
       "                        <th id=\"T_47d1443e_d6f0_11ea_b45b_c038961eaea8level0_row6\" class=\"row_heading level0 row6\" >6</th>\n",
       "                        <td id=\"T_47d1443e_d6f0_11ea_b45b_c038961eaea8row6_col0\" class=\"data row6 col0\" >Categorical Features </td>\n",
       "                        <td id=\"T_47d1443e_d6f0_11ea_b45b_c038961eaea8row6_col1\" class=\"data row6 col1\" >2</td>\n",
       "            </tr>\n",
       "            <tr>\n",
       "                        <th id=\"T_47d1443e_d6f0_11ea_b45b_c038961eaea8level0_row7\" class=\"row_heading level0 row7\" >7</th>\n",
       "                        <td id=\"T_47d1443e_d6f0_11ea_b45b_c038961eaea8row7_col0\" class=\"data row7 col0\" >Ordinal Features </td>\n",
       "                        <td id=\"T_47d1443e_d6f0_11ea_b45b_c038961eaea8row7_col1\" class=\"data row7 col1\" >False</td>\n",
       "            </tr>\n",
       "            <tr>\n",
       "                        <th id=\"T_47d1443e_d6f0_11ea_b45b_c038961eaea8level0_row8\" class=\"row_heading level0 row8\" >8</th>\n",
       "                        <td id=\"T_47d1443e_d6f0_11ea_b45b_c038961eaea8row8_col0\" class=\"data row8 col0\" >High Cardinality Features </td>\n",
       "                        <td id=\"T_47d1443e_d6f0_11ea_b45b_c038961eaea8row8_col1\" class=\"data row8 col1\" >False</td>\n",
       "            </tr>\n",
       "            <tr>\n",
       "                        <th id=\"T_47d1443e_d6f0_11ea_b45b_c038961eaea8level0_row9\" class=\"row_heading level0 row9\" >9</th>\n",
       "                        <td id=\"T_47d1443e_d6f0_11ea_b45b_c038961eaea8row9_col0\" class=\"data row9 col0\" >High Cardinality Method </td>\n",
       "                        <td id=\"T_47d1443e_d6f0_11ea_b45b_c038961eaea8row9_col1\" class=\"data row9 col1\" >None</td>\n",
       "            </tr>\n",
       "            <tr>\n",
       "                        <th id=\"T_47d1443e_d6f0_11ea_b45b_c038961eaea8level0_row10\" class=\"row_heading level0 row10\" >10</th>\n",
       "                        <td id=\"T_47d1443e_d6f0_11ea_b45b_c038961eaea8row10_col0\" class=\"data row10 col0\" >Sampled Data</td>\n",
       "                        <td id=\"T_47d1443e_d6f0_11ea_b45b_c038961eaea8row10_col1\" class=\"data row10 col1\" >(506, 14)</td>\n",
       "            </tr>\n",
       "            <tr>\n",
       "                        <th id=\"T_47d1443e_d6f0_11ea_b45b_c038961eaea8level0_row11\" class=\"row_heading level0 row11\" >11</th>\n",
       "                        <td id=\"T_47d1443e_d6f0_11ea_b45b_c038961eaea8row11_col0\" class=\"data row11 col0\" >Transformed Train Set</td>\n",
       "                        <td id=\"T_47d1443e_d6f0_11ea_b45b_c038961eaea8row11_col1\" class=\"data row11 col1\" >(354, 22)</td>\n",
       "            </tr>\n",
       "            <tr>\n",
       "                        <th id=\"T_47d1443e_d6f0_11ea_b45b_c038961eaea8level0_row12\" class=\"row_heading level0 row12\" >12</th>\n",
       "                        <td id=\"T_47d1443e_d6f0_11ea_b45b_c038961eaea8row12_col0\" class=\"data row12 col0\" >Transformed Test Set</td>\n",
       "                        <td id=\"T_47d1443e_d6f0_11ea_b45b_c038961eaea8row12_col1\" class=\"data row12 col1\" >(152, 22)</td>\n",
       "            </tr>\n",
       "            <tr>\n",
       "                        <th id=\"T_47d1443e_d6f0_11ea_b45b_c038961eaea8level0_row13\" class=\"row_heading level0 row13\" >13</th>\n",
       "                        <td id=\"T_47d1443e_d6f0_11ea_b45b_c038961eaea8row13_col0\" class=\"data row13 col0\" >Numeric Imputer </td>\n",
       "                        <td id=\"T_47d1443e_d6f0_11ea_b45b_c038961eaea8row13_col1\" class=\"data row13 col1\" >mean</td>\n",
       "            </tr>\n",
       "            <tr>\n",
       "                        <th id=\"T_47d1443e_d6f0_11ea_b45b_c038961eaea8level0_row14\" class=\"row_heading level0 row14\" >14</th>\n",
       "                        <td id=\"T_47d1443e_d6f0_11ea_b45b_c038961eaea8row14_col0\" class=\"data row14 col0\" >Categorical Imputer </td>\n",
       "                        <td id=\"T_47d1443e_d6f0_11ea_b45b_c038961eaea8row14_col1\" class=\"data row14 col1\" >constant</td>\n",
       "            </tr>\n",
       "            <tr>\n",
       "                        <th id=\"T_47d1443e_d6f0_11ea_b45b_c038961eaea8level0_row15\" class=\"row_heading level0 row15\" >15</th>\n",
       "                        <td id=\"T_47d1443e_d6f0_11ea_b45b_c038961eaea8row15_col0\" class=\"data row15 col0\" >Normalize </td>\n",
       "                        <td id=\"T_47d1443e_d6f0_11ea_b45b_c038961eaea8row15_col1\" class=\"data row15 col1\" >False</td>\n",
       "            </tr>\n",
       "            <tr>\n",
       "                        <th id=\"T_47d1443e_d6f0_11ea_b45b_c038961eaea8level0_row16\" class=\"row_heading level0 row16\" >16</th>\n",
       "                        <td id=\"T_47d1443e_d6f0_11ea_b45b_c038961eaea8row16_col0\" class=\"data row16 col0\" >Normalize Method </td>\n",
       "                        <td id=\"T_47d1443e_d6f0_11ea_b45b_c038961eaea8row16_col1\" class=\"data row16 col1\" >None</td>\n",
       "            </tr>\n",
       "            <tr>\n",
       "                        <th id=\"T_47d1443e_d6f0_11ea_b45b_c038961eaea8level0_row17\" class=\"row_heading level0 row17\" >17</th>\n",
       "                        <td id=\"T_47d1443e_d6f0_11ea_b45b_c038961eaea8row17_col0\" class=\"data row17 col0\" >Transformation </td>\n",
       "                        <td id=\"T_47d1443e_d6f0_11ea_b45b_c038961eaea8row17_col1\" class=\"data row17 col1\" >False</td>\n",
       "            </tr>\n",
       "            <tr>\n",
       "                        <th id=\"T_47d1443e_d6f0_11ea_b45b_c038961eaea8level0_row18\" class=\"row_heading level0 row18\" >18</th>\n",
       "                        <td id=\"T_47d1443e_d6f0_11ea_b45b_c038961eaea8row18_col0\" class=\"data row18 col0\" >Transformation Method </td>\n",
       "                        <td id=\"T_47d1443e_d6f0_11ea_b45b_c038961eaea8row18_col1\" class=\"data row18 col1\" >None</td>\n",
       "            </tr>\n",
       "            <tr>\n",
       "                        <th id=\"T_47d1443e_d6f0_11ea_b45b_c038961eaea8level0_row19\" class=\"row_heading level0 row19\" >19</th>\n",
       "                        <td id=\"T_47d1443e_d6f0_11ea_b45b_c038961eaea8row19_col0\" class=\"data row19 col0\" >PCA </td>\n",
       "                        <td id=\"T_47d1443e_d6f0_11ea_b45b_c038961eaea8row19_col1\" class=\"data row19 col1\" >False</td>\n",
       "            </tr>\n",
       "            <tr>\n",
       "                        <th id=\"T_47d1443e_d6f0_11ea_b45b_c038961eaea8level0_row20\" class=\"row_heading level0 row20\" >20</th>\n",
       "                        <td id=\"T_47d1443e_d6f0_11ea_b45b_c038961eaea8row20_col0\" class=\"data row20 col0\" >PCA Method </td>\n",
       "                        <td id=\"T_47d1443e_d6f0_11ea_b45b_c038961eaea8row20_col1\" class=\"data row20 col1\" >None</td>\n",
       "            </tr>\n",
       "            <tr>\n",
       "                        <th id=\"T_47d1443e_d6f0_11ea_b45b_c038961eaea8level0_row21\" class=\"row_heading level0 row21\" >21</th>\n",
       "                        <td id=\"T_47d1443e_d6f0_11ea_b45b_c038961eaea8row21_col0\" class=\"data row21 col0\" >PCA Components </td>\n",
       "                        <td id=\"T_47d1443e_d6f0_11ea_b45b_c038961eaea8row21_col1\" class=\"data row21 col1\" >None</td>\n",
       "            </tr>\n",
       "            <tr>\n",
       "                        <th id=\"T_47d1443e_d6f0_11ea_b45b_c038961eaea8level0_row22\" class=\"row_heading level0 row22\" >22</th>\n",
       "                        <td id=\"T_47d1443e_d6f0_11ea_b45b_c038961eaea8row22_col0\" class=\"data row22 col0\" >Ignore Low Variance </td>\n",
       "                        <td id=\"T_47d1443e_d6f0_11ea_b45b_c038961eaea8row22_col1\" class=\"data row22 col1\" >False</td>\n",
       "            </tr>\n",
       "            <tr>\n",
       "                        <th id=\"T_47d1443e_d6f0_11ea_b45b_c038961eaea8level0_row23\" class=\"row_heading level0 row23\" >23</th>\n",
       "                        <td id=\"T_47d1443e_d6f0_11ea_b45b_c038961eaea8row23_col0\" class=\"data row23 col0\" >Combine Rare Levels </td>\n",
       "                        <td id=\"T_47d1443e_d6f0_11ea_b45b_c038961eaea8row23_col1\" class=\"data row23 col1\" >False</td>\n",
       "            </tr>\n",
       "            <tr>\n",
       "                        <th id=\"T_47d1443e_d6f0_11ea_b45b_c038961eaea8level0_row24\" class=\"row_heading level0 row24\" >24</th>\n",
       "                        <td id=\"T_47d1443e_d6f0_11ea_b45b_c038961eaea8row24_col0\" class=\"data row24 col0\" >Rare Level Threshold </td>\n",
       "                        <td id=\"T_47d1443e_d6f0_11ea_b45b_c038961eaea8row24_col1\" class=\"data row24 col1\" >None</td>\n",
       "            </tr>\n",
       "            <tr>\n",
       "                        <th id=\"T_47d1443e_d6f0_11ea_b45b_c038961eaea8level0_row25\" class=\"row_heading level0 row25\" >25</th>\n",
       "                        <td id=\"T_47d1443e_d6f0_11ea_b45b_c038961eaea8row25_col0\" class=\"data row25 col0\" >Numeric Binning </td>\n",
       "                        <td id=\"T_47d1443e_d6f0_11ea_b45b_c038961eaea8row25_col1\" class=\"data row25 col1\" >False</td>\n",
       "            </tr>\n",
       "            <tr>\n",
       "                        <th id=\"T_47d1443e_d6f0_11ea_b45b_c038961eaea8level0_row26\" class=\"row_heading level0 row26\" >26</th>\n",
       "                        <td id=\"T_47d1443e_d6f0_11ea_b45b_c038961eaea8row26_col0\" class=\"data row26 col0\" >Remove Outliers </td>\n",
       "                        <td id=\"T_47d1443e_d6f0_11ea_b45b_c038961eaea8row26_col1\" class=\"data row26 col1\" >False</td>\n",
       "            </tr>\n",
       "            <tr>\n",
       "                        <th id=\"T_47d1443e_d6f0_11ea_b45b_c038961eaea8level0_row27\" class=\"row_heading level0 row27\" >27</th>\n",
       "                        <td id=\"T_47d1443e_d6f0_11ea_b45b_c038961eaea8row27_col0\" class=\"data row27 col0\" >Outliers Threshold </td>\n",
       "                        <td id=\"T_47d1443e_d6f0_11ea_b45b_c038961eaea8row27_col1\" class=\"data row27 col1\" >None</td>\n",
       "            </tr>\n",
       "            <tr>\n",
       "                        <th id=\"T_47d1443e_d6f0_11ea_b45b_c038961eaea8level0_row28\" class=\"row_heading level0 row28\" >28</th>\n",
       "                        <td id=\"T_47d1443e_d6f0_11ea_b45b_c038961eaea8row28_col0\" class=\"data row28 col0\" >Remove Multicollinearity </td>\n",
       "                        <td id=\"T_47d1443e_d6f0_11ea_b45b_c038961eaea8row28_col1\" class=\"data row28 col1\" >False</td>\n",
       "            </tr>\n",
       "            <tr>\n",
       "                        <th id=\"T_47d1443e_d6f0_11ea_b45b_c038961eaea8level0_row29\" class=\"row_heading level0 row29\" >29</th>\n",
       "                        <td id=\"T_47d1443e_d6f0_11ea_b45b_c038961eaea8row29_col0\" class=\"data row29 col0\" >Multicollinearity Threshold </td>\n",
       "                        <td id=\"T_47d1443e_d6f0_11ea_b45b_c038961eaea8row29_col1\" class=\"data row29 col1\" >None</td>\n",
       "            </tr>\n",
       "            <tr>\n",
       "                        <th id=\"T_47d1443e_d6f0_11ea_b45b_c038961eaea8level0_row30\" class=\"row_heading level0 row30\" >30</th>\n",
       "                        <td id=\"T_47d1443e_d6f0_11ea_b45b_c038961eaea8row30_col0\" class=\"data row30 col0\" >Clustering </td>\n",
       "                        <td id=\"T_47d1443e_d6f0_11ea_b45b_c038961eaea8row30_col1\" class=\"data row30 col1\" >False</td>\n",
       "            </tr>\n",
       "            <tr>\n",
       "                        <th id=\"T_47d1443e_d6f0_11ea_b45b_c038961eaea8level0_row31\" class=\"row_heading level0 row31\" >31</th>\n",
       "                        <td id=\"T_47d1443e_d6f0_11ea_b45b_c038961eaea8row31_col0\" class=\"data row31 col0\" >Clustering Iteration </td>\n",
       "                        <td id=\"T_47d1443e_d6f0_11ea_b45b_c038961eaea8row31_col1\" class=\"data row31 col1\" >None</td>\n",
       "            </tr>\n",
       "            <tr>\n",
       "                        <th id=\"T_47d1443e_d6f0_11ea_b45b_c038961eaea8level0_row32\" class=\"row_heading level0 row32\" >32</th>\n",
       "                        <td id=\"T_47d1443e_d6f0_11ea_b45b_c038961eaea8row32_col0\" class=\"data row32 col0\" >Polynomial Features </td>\n",
       "                        <td id=\"T_47d1443e_d6f0_11ea_b45b_c038961eaea8row32_col1\" class=\"data row32 col1\" >False</td>\n",
       "            </tr>\n",
       "            <tr>\n",
       "                        <th id=\"T_47d1443e_d6f0_11ea_b45b_c038961eaea8level0_row33\" class=\"row_heading level0 row33\" >33</th>\n",
       "                        <td id=\"T_47d1443e_d6f0_11ea_b45b_c038961eaea8row33_col0\" class=\"data row33 col0\" >Polynomial Degree </td>\n",
       "                        <td id=\"T_47d1443e_d6f0_11ea_b45b_c038961eaea8row33_col1\" class=\"data row33 col1\" >None</td>\n",
       "            </tr>\n",
       "            <tr>\n",
       "                        <th id=\"T_47d1443e_d6f0_11ea_b45b_c038961eaea8level0_row34\" class=\"row_heading level0 row34\" >34</th>\n",
       "                        <td id=\"T_47d1443e_d6f0_11ea_b45b_c038961eaea8row34_col0\" class=\"data row34 col0\" >Trignometry Features </td>\n",
       "                        <td id=\"T_47d1443e_d6f0_11ea_b45b_c038961eaea8row34_col1\" class=\"data row34 col1\" >False</td>\n",
       "            </tr>\n",
       "            <tr>\n",
       "                        <th id=\"T_47d1443e_d6f0_11ea_b45b_c038961eaea8level0_row35\" class=\"row_heading level0 row35\" >35</th>\n",
       "                        <td id=\"T_47d1443e_d6f0_11ea_b45b_c038961eaea8row35_col0\" class=\"data row35 col0\" >Polynomial Threshold </td>\n",
       "                        <td id=\"T_47d1443e_d6f0_11ea_b45b_c038961eaea8row35_col1\" class=\"data row35 col1\" >None</td>\n",
       "            </tr>\n",
       "            <tr>\n",
       "                        <th id=\"T_47d1443e_d6f0_11ea_b45b_c038961eaea8level0_row36\" class=\"row_heading level0 row36\" >36</th>\n",
       "                        <td id=\"T_47d1443e_d6f0_11ea_b45b_c038961eaea8row36_col0\" class=\"data row36 col0\" >Group Features </td>\n",
       "                        <td id=\"T_47d1443e_d6f0_11ea_b45b_c038961eaea8row36_col1\" class=\"data row36 col1\" >False</td>\n",
       "            </tr>\n",
       "            <tr>\n",
       "                        <th id=\"T_47d1443e_d6f0_11ea_b45b_c038961eaea8level0_row37\" class=\"row_heading level0 row37\" >37</th>\n",
       "                        <td id=\"T_47d1443e_d6f0_11ea_b45b_c038961eaea8row37_col0\" class=\"data row37 col0\" >Feature Selection </td>\n",
       "                        <td id=\"T_47d1443e_d6f0_11ea_b45b_c038961eaea8row37_col1\" class=\"data row37 col1\" >False</td>\n",
       "            </tr>\n",
       "            <tr>\n",
       "                        <th id=\"T_47d1443e_d6f0_11ea_b45b_c038961eaea8level0_row38\" class=\"row_heading level0 row38\" >38</th>\n",
       "                        <td id=\"T_47d1443e_d6f0_11ea_b45b_c038961eaea8row38_col0\" class=\"data row38 col0\" >Features Selection Threshold </td>\n",
       "                        <td id=\"T_47d1443e_d6f0_11ea_b45b_c038961eaea8row38_col1\" class=\"data row38 col1\" >None</td>\n",
       "            </tr>\n",
       "            <tr>\n",
       "                        <th id=\"T_47d1443e_d6f0_11ea_b45b_c038961eaea8level0_row39\" class=\"row_heading level0 row39\" >39</th>\n",
       "                        <td id=\"T_47d1443e_d6f0_11ea_b45b_c038961eaea8row39_col0\" class=\"data row39 col0\" >Feature Interaction </td>\n",
       "                        <td id=\"T_47d1443e_d6f0_11ea_b45b_c038961eaea8row39_col1\" class=\"data row39 col1\" >False</td>\n",
       "            </tr>\n",
       "            <tr>\n",
       "                        <th id=\"T_47d1443e_d6f0_11ea_b45b_c038961eaea8level0_row40\" class=\"row_heading level0 row40\" >40</th>\n",
       "                        <td id=\"T_47d1443e_d6f0_11ea_b45b_c038961eaea8row40_col0\" class=\"data row40 col0\" >Feature Ratio </td>\n",
       "                        <td id=\"T_47d1443e_d6f0_11ea_b45b_c038961eaea8row40_col1\" class=\"data row40 col1\" >False</td>\n",
       "            </tr>\n",
       "            <tr>\n",
       "                        <th id=\"T_47d1443e_d6f0_11ea_b45b_c038961eaea8level0_row41\" class=\"row_heading level0 row41\" >41</th>\n",
       "                        <td id=\"T_47d1443e_d6f0_11ea_b45b_c038961eaea8row41_col0\" class=\"data row41 col0\" >Interaction Threshold </td>\n",
       "                        <td id=\"T_47d1443e_d6f0_11ea_b45b_c038961eaea8row41_col1\" class=\"data row41 col1\" >None</td>\n",
       "            </tr>\n",
       "    </tbody></table>"
      ],
      "text/plain": [
       "<pandas.io.formats.style.Styler at 0x5b85907e88>"
      ]
     },
     "metadata": {},
     "output_type": "display_data"
    }
   ],
   "source": [
    "reg=setup(data=boston_df,target='medv')"
   ]
  },
  {
   "cell_type": "code",
   "execution_count": 12,
   "metadata": {},
   "outputs": [
    {
     "data": {
      "text/html": [
       "<style  type=\"text/css\" >\n",
       "    #T_8752f70c_d6f0_11ea_b9d7_c038961eaea8 th {\n",
       "          text-align: left;\n",
       "    }#T_8752f70c_d6f0_11ea_b9d7_c038961eaea8row0_col0,#T_8752f70c_d6f0_11ea_b9d7_c038961eaea8row1_col0,#T_8752f70c_d6f0_11ea_b9d7_c038961eaea8row1_col1,#T_8752f70c_d6f0_11ea_b9d7_c038961eaea8row1_col2,#T_8752f70c_d6f0_11ea_b9d7_c038961eaea8row1_col3,#T_8752f70c_d6f0_11ea_b9d7_c038961eaea8row1_col4,#T_8752f70c_d6f0_11ea_b9d7_c038961eaea8row1_col5,#T_8752f70c_d6f0_11ea_b9d7_c038961eaea8row1_col6,#T_8752f70c_d6f0_11ea_b9d7_c038961eaea8row2_col0,#T_8752f70c_d6f0_11ea_b9d7_c038961eaea8row2_col1,#T_8752f70c_d6f0_11ea_b9d7_c038961eaea8row2_col2,#T_8752f70c_d6f0_11ea_b9d7_c038961eaea8row2_col3,#T_8752f70c_d6f0_11ea_b9d7_c038961eaea8row2_col4,#T_8752f70c_d6f0_11ea_b9d7_c038961eaea8row2_col5,#T_8752f70c_d6f0_11ea_b9d7_c038961eaea8row2_col6,#T_8752f70c_d6f0_11ea_b9d7_c038961eaea8row3_col0,#T_8752f70c_d6f0_11ea_b9d7_c038961eaea8row3_col1,#T_8752f70c_d6f0_11ea_b9d7_c038961eaea8row3_col2,#T_8752f70c_d6f0_11ea_b9d7_c038961eaea8row3_col3,#T_8752f70c_d6f0_11ea_b9d7_c038961eaea8row3_col4,#T_8752f70c_d6f0_11ea_b9d7_c038961eaea8row3_col5,#T_8752f70c_d6f0_11ea_b9d7_c038961eaea8row3_col6,#T_8752f70c_d6f0_11ea_b9d7_c038961eaea8row4_col0,#T_8752f70c_d6f0_11ea_b9d7_c038961eaea8row4_col1,#T_8752f70c_d6f0_11ea_b9d7_c038961eaea8row4_col2,#T_8752f70c_d6f0_11ea_b9d7_c038961eaea8row4_col3,#T_8752f70c_d6f0_11ea_b9d7_c038961eaea8row4_col4,#T_8752f70c_d6f0_11ea_b9d7_c038961eaea8row4_col5,#T_8752f70c_d6f0_11ea_b9d7_c038961eaea8row4_col6,#T_8752f70c_d6f0_11ea_b9d7_c038961eaea8row5_col0,#T_8752f70c_d6f0_11ea_b9d7_c038961eaea8row5_col1,#T_8752f70c_d6f0_11ea_b9d7_c038961eaea8row5_col2,#T_8752f70c_d6f0_11ea_b9d7_c038961eaea8row5_col3,#T_8752f70c_d6f0_11ea_b9d7_c038961eaea8row5_col4,#T_8752f70c_d6f0_11ea_b9d7_c038961eaea8row5_col5,#T_8752f70c_d6f0_11ea_b9d7_c038961eaea8row5_col6,#T_8752f70c_d6f0_11ea_b9d7_c038961eaea8row6_col0,#T_8752f70c_d6f0_11ea_b9d7_c038961eaea8row6_col1,#T_8752f70c_d6f0_11ea_b9d7_c038961eaea8row6_col2,#T_8752f70c_d6f0_11ea_b9d7_c038961eaea8row6_col3,#T_8752f70c_d6f0_11ea_b9d7_c038961eaea8row6_col4,#T_8752f70c_d6f0_11ea_b9d7_c038961eaea8row6_col5,#T_8752f70c_d6f0_11ea_b9d7_c038961eaea8row6_col6,#T_8752f70c_d6f0_11ea_b9d7_c038961eaea8row7_col0,#T_8752f70c_d6f0_11ea_b9d7_c038961eaea8row7_col1,#T_8752f70c_d6f0_11ea_b9d7_c038961eaea8row7_col2,#T_8752f70c_d6f0_11ea_b9d7_c038961eaea8row7_col3,#T_8752f70c_d6f0_11ea_b9d7_c038961eaea8row7_col4,#T_8752f70c_d6f0_11ea_b9d7_c038961eaea8row7_col5,#T_8752f70c_d6f0_11ea_b9d7_c038961eaea8row7_col6,#T_8752f70c_d6f0_11ea_b9d7_c038961eaea8row8_col0,#T_8752f70c_d6f0_11ea_b9d7_c038961eaea8row8_col1,#T_8752f70c_d6f0_11ea_b9d7_c038961eaea8row8_col2,#T_8752f70c_d6f0_11ea_b9d7_c038961eaea8row8_col3,#T_8752f70c_d6f0_11ea_b9d7_c038961eaea8row8_col4,#T_8752f70c_d6f0_11ea_b9d7_c038961eaea8row8_col5,#T_8752f70c_d6f0_11ea_b9d7_c038961eaea8row8_col6,#T_8752f70c_d6f0_11ea_b9d7_c038961eaea8row9_col0,#T_8752f70c_d6f0_11ea_b9d7_c038961eaea8row9_col1,#T_8752f70c_d6f0_11ea_b9d7_c038961eaea8row9_col2,#T_8752f70c_d6f0_11ea_b9d7_c038961eaea8row9_col3,#T_8752f70c_d6f0_11ea_b9d7_c038961eaea8row9_col4,#T_8752f70c_d6f0_11ea_b9d7_c038961eaea8row9_col5,#T_8752f70c_d6f0_11ea_b9d7_c038961eaea8row9_col6,#T_8752f70c_d6f0_11ea_b9d7_c038961eaea8row10_col0,#T_8752f70c_d6f0_11ea_b9d7_c038961eaea8row10_col1,#T_8752f70c_d6f0_11ea_b9d7_c038961eaea8row10_col2,#T_8752f70c_d6f0_11ea_b9d7_c038961eaea8row10_col3,#T_8752f70c_d6f0_11ea_b9d7_c038961eaea8row10_col4,#T_8752f70c_d6f0_11ea_b9d7_c038961eaea8row10_col5,#T_8752f70c_d6f0_11ea_b9d7_c038961eaea8row10_col6,#T_8752f70c_d6f0_11ea_b9d7_c038961eaea8row11_col0,#T_8752f70c_d6f0_11ea_b9d7_c038961eaea8row11_col1,#T_8752f70c_d6f0_11ea_b9d7_c038961eaea8row11_col2,#T_8752f70c_d6f0_11ea_b9d7_c038961eaea8row11_col3,#T_8752f70c_d6f0_11ea_b9d7_c038961eaea8row11_col4,#T_8752f70c_d6f0_11ea_b9d7_c038961eaea8row11_col5,#T_8752f70c_d6f0_11ea_b9d7_c038961eaea8row11_col6,#T_8752f70c_d6f0_11ea_b9d7_c038961eaea8row12_col0,#T_8752f70c_d6f0_11ea_b9d7_c038961eaea8row12_col1,#T_8752f70c_d6f0_11ea_b9d7_c038961eaea8row12_col2,#T_8752f70c_d6f0_11ea_b9d7_c038961eaea8row12_col3,#T_8752f70c_d6f0_11ea_b9d7_c038961eaea8row12_col4,#T_8752f70c_d6f0_11ea_b9d7_c038961eaea8row12_col5,#T_8752f70c_d6f0_11ea_b9d7_c038961eaea8row12_col6,#T_8752f70c_d6f0_11ea_b9d7_c038961eaea8row13_col0,#T_8752f70c_d6f0_11ea_b9d7_c038961eaea8row13_col1,#T_8752f70c_d6f0_11ea_b9d7_c038961eaea8row13_col2,#T_8752f70c_d6f0_11ea_b9d7_c038961eaea8row13_col3,#T_8752f70c_d6f0_11ea_b9d7_c038961eaea8row13_col4,#T_8752f70c_d6f0_11ea_b9d7_c038961eaea8row13_col5,#T_8752f70c_d6f0_11ea_b9d7_c038961eaea8row13_col6,#T_8752f70c_d6f0_11ea_b9d7_c038961eaea8row14_col0,#T_8752f70c_d6f0_11ea_b9d7_c038961eaea8row14_col1,#T_8752f70c_d6f0_11ea_b9d7_c038961eaea8row14_col2,#T_8752f70c_d6f0_11ea_b9d7_c038961eaea8row14_col3,#T_8752f70c_d6f0_11ea_b9d7_c038961eaea8row14_col4,#T_8752f70c_d6f0_11ea_b9d7_c038961eaea8row14_col5,#T_8752f70c_d6f0_11ea_b9d7_c038961eaea8row14_col6,#T_8752f70c_d6f0_11ea_b9d7_c038961eaea8row15_col0,#T_8752f70c_d6f0_11ea_b9d7_c038961eaea8row15_col1,#T_8752f70c_d6f0_11ea_b9d7_c038961eaea8row15_col2,#T_8752f70c_d6f0_11ea_b9d7_c038961eaea8row15_col3,#T_8752f70c_d6f0_11ea_b9d7_c038961eaea8row15_col4,#T_8752f70c_d6f0_11ea_b9d7_c038961eaea8row15_col5,#T_8752f70c_d6f0_11ea_b9d7_c038961eaea8row15_col6,#T_8752f70c_d6f0_11ea_b9d7_c038961eaea8row16_col0,#T_8752f70c_d6f0_11ea_b9d7_c038961eaea8row16_col1,#T_8752f70c_d6f0_11ea_b9d7_c038961eaea8row16_col2,#T_8752f70c_d6f0_11ea_b9d7_c038961eaea8row16_col3,#T_8752f70c_d6f0_11ea_b9d7_c038961eaea8row16_col4,#T_8752f70c_d6f0_11ea_b9d7_c038961eaea8row16_col5,#T_8752f70c_d6f0_11ea_b9d7_c038961eaea8row16_col6,#T_8752f70c_d6f0_11ea_b9d7_c038961eaea8row17_col0,#T_8752f70c_d6f0_11ea_b9d7_c038961eaea8row17_col1,#T_8752f70c_d6f0_11ea_b9d7_c038961eaea8row17_col2,#T_8752f70c_d6f0_11ea_b9d7_c038961eaea8row17_col3,#T_8752f70c_d6f0_11ea_b9d7_c038961eaea8row17_col4,#T_8752f70c_d6f0_11ea_b9d7_c038961eaea8row17_col5,#T_8752f70c_d6f0_11ea_b9d7_c038961eaea8row17_col6,#T_8752f70c_d6f0_11ea_b9d7_c038961eaea8row18_col0,#T_8752f70c_d6f0_11ea_b9d7_c038961eaea8row18_col1,#T_8752f70c_d6f0_11ea_b9d7_c038961eaea8row18_col2,#T_8752f70c_d6f0_11ea_b9d7_c038961eaea8row18_col3,#T_8752f70c_d6f0_11ea_b9d7_c038961eaea8row18_col4,#T_8752f70c_d6f0_11ea_b9d7_c038961eaea8row18_col5,#T_8752f70c_d6f0_11ea_b9d7_c038961eaea8row18_col6,#T_8752f70c_d6f0_11ea_b9d7_c038961eaea8row19_col0,#T_8752f70c_d6f0_11ea_b9d7_c038961eaea8row19_col1,#T_8752f70c_d6f0_11ea_b9d7_c038961eaea8row19_col2,#T_8752f70c_d6f0_11ea_b9d7_c038961eaea8row19_col3,#T_8752f70c_d6f0_11ea_b9d7_c038961eaea8row19_col4,#T_8752f70c_d6f0_11ea_b9d7_c038961eaea8row19_col5,#T_8752f70c_d6f0_11ea_b9d7_c038961eaea8row19_col6,#T_8752f70c_d6f0_11ea_b9d7_c038961eaea8row20_col0,#T_8752f70c_d6f0_11ea_b9d7_c038961eaea8row20_col1,#T_8752f70c_d6f0_11ea_b9d7_c038961eaea8row20_col2,#T_8752f70c_d6f0_11ea_b9d7_c038961eaea8row20_col3,#T_8752f70c_d6f0_11ea_b9d7_c038961eaea8row20_col4,#T_8752f70c_d6f0_11ea_b9d7_c038961eaea8row20_col5,#T_8752f70c_d6f0_11ea_b9d7_c038961eaea8row20_col6,#T_8752f70c_d6f0_11ea_b9d7_c038961eaea8row21_col0,#T_8752f70c_d6f0_11ea_b9d7_c038961eaea8row21_col1,#T_8752f70c_d6f0_11ea_b9d7_c038961eaea8row21_col2,#T_8752f70c_d6f0_11ea_b9d7_c038961eaea8row21_col3,#T_8752f70c_d6f0_11ea_b9d7_c038961eaea8row21_col4,#T_8752f70c_d6f0_11ea_b9d7_c038961eaea8row21_col5,#T_8752f70c_d6f0_11ea_b9d7_c038961eaea8row21_col6{\n",
       "            text-align:  left;\n",
       "        }#T_8752f70c_d6f0_11ea_b9d7_c038961eaea8row0_col1,#T_8752f70c_d6f0_11ea_b9d7_c038961eaea8row0_col2,#T_8752f70c_d6f0_11ea_b9d7_c038961eaea8row0_col3,#T_8752f70c_d6f0_11ea_b9d7_c038961eaea8row0_col4,#T_8752f70c_d6f0_11ea_b9d7_c038961eaea8row0_col5,#T_8752f70c_d6f0_11ea_b9d7_c038961eaea8row0_col6{\n",
       "            background-color:  yellow;\n",
       "            text-align:  left;\n",
       "        }#T_8752f70c_d6f0_11ea_b9d7_c038961eaea8row0_col7,#T_8752f70c_d6f0_11ea_b9d7_c038961eaea8row1_col7,#T_8752f70c_d6f0_11ea_b9d7_c038961eaea8row2_col7,#T_8752f70c_d6f0_11ea_b9d7_c038961eaea8row3_col7,#T_8752f70c_d6f0_11ea_b9d7_c038961eaea8row4_col7,#T_8752f70c_d6f0_11ea_b9d7_c038961eaea8row5_col7,#T_8752f70c_d6f0_11ea_b9d7_c038961eaea8row6_col7,#T_8752f70c_d6f0_11ea_b9d7_c038961eaea8row7_col7,#T_8752f70c_d6f0_11ea_b9d7_c038961eaea8row8_col7,#T_8752f70c_d6f0_11ea_b9d7_c038961eaea8row9_col7,#T_8752f70c_d6f0_11ea_b9d7_c038961eaea8row10_col7,#T_8752f70c_d6f0_11ea_b9d7_c038961eaea8row11_col7,#T_8752f70c_d6f0_11ea_b9d7_c038961eaea8row12_col7,#T_8752f70c_d6f0_11ea_b9d7_c038961eaea8row13_col7,#T_8752f70c_d6f0_11ea_b9d7_c038961eaea8row14_col7,#T_8752f70c_d6f0_11ea_b9d7_c038961eaea8row15_col7,#T_8752f70c_d6f0_11ea_b9d7_c038961eaea8row16_col7,#T_8752f70c_d6f0_11ea_b9d7_c038961eaea8row17_col7,#T_8752f70c_d6f0_11ea_b9d7_c038961eaea8row18_col7,#T_8752f70c_d6f0_11ea_b9d7_c038961eaea8row19_col7,#T_8752f70c_d6f0_11ea_b9d7_c038961eaea8row20_col7,#T_8752f70c_d6f0_11ea_b9d7_c038961eaea8row21_col7{\n",
       "            background-color:  lightgrey;\n",
       "            text-align:  left;\n",
       "        }</style><table id=\"T_8752f70c_d6f0_11ea_b9d7_c038961eaea8\" ><thead>    <tr>        <th class=\"blank level0\" ></th>        <th class=\"col_heading level0 col0\" >Model</th>        <th class=\"col_heading level0 col1\" >MAE</th>        <th class=\"col_heading level0 col2\" >MSE</th>        <th class=\"col_heading level0 col3\" >RMSE</th>        <th class=\"col_heading level0 col4\" >R2</th>        <th class=\"col_heading level0 col5\" >RMSLE</th>        <th class=\"col_heading level0 col6\" >MAPE</th>        <th class=\"col_heading level0 col7\" >TT (Sec)</th>    </tr></thead><tbody>\n",
       "                <tr>\n",
       "                        <th id=\"T_8752f70c_d6f0_11ea_b9d7_c038961eaea8level0_row0\" class=\"row_heading level0 row0\" >0</th>\n",
       "                        <td id=\"T_8752f70c_d6f0_11ea_b9d7_c038961eaea8row0_col0\" class=\"data row0 col0\" >Extra Trees Regressor</td>\n",
       "                        <td id=\"T_8752f70c_d6f0_11ea_b9d7_c038961eaea8row0_col1\" class=\"data row0 col1\" >1.9686</td>\n",
       "                        <td id=\"T_8752f70c_d6f0_11ea_b9d7_c038961eaea8row0_col2\" class=\"data row0 col2\" >8.1094</td>\n",
       "                        <td id=\"T_8752f70c_d6f0_11ea_b9d7_c038961eaea8row0_col3\" class=\"data row0 col3\" >2.7689</td>\n",
       "                        <td id=\"T_8752f70c_d6f0_11ea_b9d7_c038961eaea8row0_col4\" class=\"data row0 col4\" >0.8981</td>\n",
       "                        <td id=\"T_8752f70c_d6f0_11ea_b9d7_c038961eaea8row0_col5\" class=\"data row0 col5\" >0.1293</td>\n",
       "                        <td id=\"T_8752f70c_d6f0_11ea_b9d7_c038961eaea8row0_col6\" class=\"data row0 col6\" >0.1026</td>\n",
       "                        <td id=\"T_8752f70c_d6f0_11ea_b9d7_c038961eaea8row0_col7\" class=\"data row0 col7\" >0.3077</td>\n",
       "            </tr>\n",
       "            <tr>\n",
       "                        <th id=\"T_8752f70c_d6f0_11ea_b9d7_c038961eaea8level0_row1\" class=\"row_heading level0 row1\" >1</th>\n",
       "                        <td id=\"T_8752f70c_d6f0_11ea_b9d7_c038961eaea8row1_col0\" class=\"data row1 col0\" >CatBoost Regressor</td>\n",
       "                        <td id=\"T_8752f70c_d6f0_11ea_b9d7_c038961eaea8row1_col1\" class=\"data row1 col1\" >1.9984</td>\n",
       "                        <td id=\"T_8752f70c_d6f0_11ea_b9d7_c038961eaea8row1_col2\" class=\"data row1 col2\" >8.5218</td>\n",
       "                        <td id=\"T_8752f70c_d6f0_11ea_b9d7_c038961eaea8row1_col3\" class=\"data row1 col3\" >2.8211</td>\n",
       "                        <td id=\"T_8752f70c_d6f0_11ea_b9d7_c038961eaea8row1_col4\" class=\"data row1 col4\" >0.8943</td>\n",
       "                        <td id=\"T_8752f70c_d6f0_11ea_b9d7_c038961eaea8row1_col5\" class=\"data row1 col5\" >0.1343</td>\n",
       "                        <td id=\"T_8752f70c_d6f0_11ea_b9d7_c038961eaea8row1_col6\" class=\"data row1 col6\" >0.1039</td>\n",
       "                        <td id=\"T_8752f70c_d6f0_11ea_b9d7_c038961eaea8row1_col7\" class=\"data row1 col7\" >4.4208</td>\n",
       "            </tr>\n",
       "            <tr>\n",
       "                        <th id=\"T_8752f70c_d6f0_11ea_b9d7_c038961eaea8level0_row2\" class=\"row_heading level0 row2\" >2</th>\n",
       "                        <td id=\"T_8752f70c_d6f0_11ea_b9d7_c038961eaea8row2_col0\" class=\"data row2 col0\" >Gradient Boosting Regressor</td>\n",
       "                        <td id=\"T_8752f70c_d6f0_11ea_b9d7_c038961eaea8row2_col1\" class=\"data row2 col1\" >2.1822</td>\n",
       "                        <td id=\"T_8752f70c_d6f0_11ea_b9d7_c038961eaea8row2_col2\" class=\"data row2 col2\" >9.6106</td>\n",
       "                        <td id=\"T_8752f70c_d6f0_11ea_b9d7_c038961eaea8row2_col3\" class=\"data row2 col3\" >3.0498</td>\n",
       "                        <td id=\"T_8752f70c_d6f0_11ea_b9d7_c038961eaea8row2_col4\" class=\"data row2 col4\" >0.8783</td>\n",
       "                        <td id=\"T_8752f70c_d6f0_11ea_b9d7_c038961eaea8row2_col5\" class=\"data row2 col5\" >0.1426</td>\n",
       "                        <td id=\"T_8752f70c_d6f0_11ea_b9d7_c038961eaea8row2_col6\" class=\"data row2 col6\" >0.1136</td>\n",
       "                        <td id=\"T_8752f70c_d6f0_11ea_b9d7_c038961eaea8row2_col7\" class=\"data row2 col7\" >0.1943</td>\n",
       "            </tr>\n",
       "            <tr>\n",
       "                        <th id=\"T_8752f70c_d6f0_11ea_b9d7_c038961eaea8level0_row3\" class=\"row_heading level0 row3\" >3</th>\n",
       "                        <td id=\"T_8752f70c_d6f0_11ea_b9d7_c038961eaea8row3_col0\" class=\"data row3 col0\" >Light Gradient Boosting Machine</td>\n",
       "                        <td id=\"T_8752f70c_d6f0_11ea_b9d7_c038961eaea8row3_col1\" class=\"data row3 col1\" >2.2323</td>\n",
       "                        <td id=\"T_8752f70c_d6f0_11ea_b9d7_c038961eaea8row3_col2\" class=\"data row3 col2\" >9.9189</td>\n",
       "                        <td id=\"T_8752f70c_d6f0_11ea_b9d7_c038961eaea8row3_col3\" class=\"data row3 col3\" >3.0715</td>\n",
       "                        <td id=\"T_8752f70c_d6f0_11ea_b9d7_c038961eaea8row3_col4\" class=\"data row3 col4\" >0.8741</td>\n",
       "                        <td id=\"T_8752f70c_d6f0_11ea_b9d7_c038961eaea8row3_col5\" class=\"data row3 col5\" >0.1423</td>\n",
       "                        <td id=\"T_8752f70c_d6f0_11ea_b9d7_c038961eaea8row3_col6\" class=\"data row3 col6\" >0.1139</td>\n",
       "                        <td id=\"T_8752f70c_d6f0_11ea_b9d7_c038961eaea8row3_col7\" class=\"data row3 col7\" >0.0837</td>\n",
       "            </tr>\n",
       "            <tr>\n",
       "                        <th id=\"T_8752f70c_d6f0_11ea_b9d7_c038961eaea8level0_row4\" class=\"row_heading level0 row4\" >4</th>\n",
       "                        <td id=\"T_8752f70c_d6f0_11ea_b9d7_c038961eaea8row4_col0\" class=\"data row4 col0\" >Extreme Gradient Boosting</td>\n",
       "                        <td id=\"T_8752f70c_d6f0_11ea_b9d7_c038961eaea8row4_col1\" class=\"data row4 col1\" >2.2304</td>\n",
       "                        <td id=\"T_8752f70c_d6f0_11ea_b9d7_c038961eaea8row4_col2\" class=\"data row4 col2\" >9.7497</td>\n",
       "                        <td id=\"T_8752f70c_d6f0_11ea_b9d7_c038961eaea8row4_col3\" class=\"data row4 col3\" >3.0709</td>\n",
       "                        <td id=\"T_8752f70c_d6f0_11ea_b9d7_c038961eaea8row4_col4\" class=\"data row4 col4\" >0.8719</td>\n",
       "                        <td id=\"T_8752f70c_d6f0_11ea_b9d7_c038961eaea8row4_col5\" class=\"data row4 col5\" >0.1459</td>\n",
       "                        <td id=\"T_8752f70c_d6f0_11ea_b9d7_c038961eaea8row4_col6\" class=\"data row4 col6\" >0.1160</td>\n",
       "                        <td id=\"T_8752f70c_d6f0_11ea_b9d7_c038961eaea8row4_col7\" class=\"data row4 col7\" >0.1290</td>\n",
       "            </tr>\n",
       "            <tr>\n",
       "                        <th id=\"T_8752f70c_d6f0_11ea_b9d7_c038961eaea8level0_row5\" class=\"row_heading level0 row5\" >5</th>\n",
       "                        <td id=\"T_8752f70c_d6f0_11ea_b9d7_c038961eaea8row5_col0\" class=\"data row5 col0\" >Random Forest</td>\n",
       "                        <td id=\"T_8752f70c_d6f0_11ea_b9d7_c038961eaea8row5_col1\" class=\"data row5 col1\" >2.1943</td>\n",
       "                        <td id=\"T_8752f70c_d6f0_11ea_b9d7_c038961eaea8row5_col2\" class=\"data row5 col2\" >10.2030</td>\n",
       "                        <td id=\"T_8752f70c_d6f0_11ea_b9d7_c038961eaea8row5_col3\" class=\"data row5 col3\" >3.1164</td>\n",
       "                        <td id=\"T_8752f70c_d6f0_11ea_b9d7_c038961eaea8row5_col4\" class=\"data row5 col4\" >0.8712</td>\n",
       "                        <td id=\"T_8752f70c_d6f0_11ea_b9d7_c038961eaea8row5_col5\" class=\"data row5 col5\" >0.1429</td>\n",
       "                        <td id=\"T_8752f70c_d6f0_11ea_b9d7_c038961eaea8row5_col6\" class=\"data row5 col6\" >0.1137</td>\n",
       "                        <td id=\"T_8752f70c_d6f0_11ea_b9d7_c038961eaea8row5_col7\" class=\"data row5 col7\" >0.4023</td>\n",
       "            </tr>\n",
       "            <tr>\n",
       "                        <th id=\"T_8752f70c_d6f0_11ea_b9d7_c038961eaea8level0_row6\" class=\"row_heading level0 row6\" >6</th>\n",
       "                        <td id=\"T_8752f70c_d6f0_11ea_b9d7_c038961eaea8row6_col0\" class=\"data row6 col0\" >AdaBoost Regressor</td>\n",
       "                        <td id=\"T_8752f70c_d6f0_11ea_b9d7_c038961eaea8row6_col1\" class=\"data row6 col1\" >2.6720</td>\n",
       "                        <td id=\"T_8752f70c_d6f0_11ea_b9d7_c038961eaea8row6_col2\" class=\"data row6 col2\" >11.7829</td>\n",
       "                        <td id=\"T_8752f70c_d6f0_11ea_b9d7_c038961eaea8row6_col3\" class=\"data row6 col3\" >3.3871</td>\n",
       "                        <td id=\"T_8752f70c_d6f0_11ea_b9d7_c038961eaea8row6_col4\" class=\"data row6 col4\" >0.8447</td>\n",
       "                        <td id=\"T_8752f70c_d6f0_11ea_b9d7_c038961eaea8row6_col5\" class=\"data row6 col5\" >0.1712</td>\n",
       "                        <td id=\"T_8752f70c_d6f0_11ea_b9d7_c038961eaea8row6_col6\" class=\"data row6 col6\" >0.1452</td>\n",
       "                        <td id=\"T_8752f70c_d6f0_11ea_b9d7_c038961eaea8row6_col7\" class=\"data row6 col7\" >0.1806</td>\n",
       "            </tr>\n",
       "            <tr>\n",
       "                        <th id=\"T_8752f70c_d6f0_11ea_b9d7_c038961eaea8level0_row7\" class=\"row_heading level0 row7\" >7</th>\n",
       "                        <td id=\"T_8752f70c_d6f0_11ea_b9d7_c038961eaea8row7_col0\" class=\"data row7 col0\" >Linear Regression</td>\n",
       "                        <td id=\"T_8752f70c_d6f0_11ea_b9d7_c038961eaea8row7_col1\" class=\"data row7 col1\" >3.2014</td>\n",
       "                        <td id=\"T_8752f70c_d6f0_11ea_b9d7_c038961eaea8row7_col2\" class=\"data row7 col2\" >21.3387</td>\n",
       "                        <td id=\"T_8752f70c_d6f0_11ea_b9d7_c038961eaea8row7_col3\" class=\"data row7 col3\" >4.4749</td>\n",
       "                        <td id=\"T_8752f70c_d6f0_11ea_b9d7_c038961eaea8row7_col4\" class=\"data row7 col4\" >0.7417</td>\n",
       "                        <td id=\"T_8752f70c_d6f0_11ea_b9d7_c038961eaea8row7_col5\" class=\"data row7 col5\" >0.2395</td>\n",
       "                        <td id=\"T_8752f70c_d6f0_11ea_b9d7_c038961eaea8row7_col6\" class=\"data row7 col6\" >0.1636</td>\n",
       "                        <td id=\"T_8752f70c_d6f0_11ea_b9d7_c038961eaea8row7_col7\" class=\"data row7 col7\" >0.0068</td>\n",
       "            </tr>\n",
       "            <tr>\n",
       "                        <th id=\"T_8752f70c_d6f0_11ea_b9d7_c038961eaea8level0_row8\" class=\"row_heading level0 row8\" >8</th>\n",
       "                        <td id=\"T_8752f70c_d6f0_11ea_b9d7_c038961eaea8row8_col0\" class=\"data row8 col0\" >Ridge Regression</td>\n",
       "                        <td id=\"T_8752f70c_d6f0_11ea_b9d7_c038961eaea8row8_col1\" class=\"data row8 col1\" >3.1843</td>\n",
       "                        <td id=\"T_8752f70c_d6f0_11ea_b9d7_c038961eaea8row8_col2\" class=\"data row8 col2\" >21.7565</td>\n",
       "                        <td id=\"T_8752f70c_d6f0_11ea_b9d7_c038961eaea8row8_col3\" class=\"data row8 col3\" >4.4972</td>\n",
       "                        <td id=\"T_8752f70c_d6f0_11ea_b9d7_c038961eaea8row8_col4\" class=\"data row8 col4\" >0.7385</td>\n",
       "                        <td id=\"T_8752f70c_d6f0_11ea_b9d7_c038961eaea8row8_col5\" class=\"data row8 col5\" >0.2496</td>\n",
       "                        <td id=\"T_8752f70c_d6f0_11ea_b9d7_c038961eaea8row8_col6\" class=\"data row8 col6\" >0.1631</td>\n",
       "                        <td id=\"T_8752f70c_d6f0_11ea_b9d7_c038961eaea8row8_col7\" class=\"data row8 col7\" >0.0070</td>\n",
       "            </tr>\n",
       "            <tr>\n",
       "                        <th id=\"T_8752f70c_d6f0_11ea_b9d7_c038961eaea8level0_row9\" class=\"row_heading level0 row9\" >9</th>\n",
       "                        <td id=\"T_8752f70c_d6f0_11ea_b9d7_c038961eaea8row9_col0\" class=\"data row9 col0\" >Least Angle Regression</td>\n",
       "                        <td id=\"T_8752f70c_d6f0_11ea_b9d7_c038961eaea8row9_col1\" class=\"data row9 col1\" >3.3046</td>\n",
       "                        <td id=\"T_8752f70c_d6f0_11ea_b9d7_c038961eaea8row9_col2\" class=\"data row9 col2\" >22.1254</td>\n",
       "                        <td id=\"T_8752f70c_d6f0_11ea_b9d7_c038961eaea8row9_col3\" class=\"data row9 col3\" >4.5433</td>\n",
       "                        <td id=\"T_8752f70c_d6f0_11ea_b9d7_c038961eaea8row9_col4\" class=\"data row9 col4\" >0.7330</td>\n",
       "                        <td id=\"T_8752f70c_d6f0_11ea_b9d7_c038961eaea8row9_col5\" class=\"data row9 col5\" >0.2606</td>\n",
       "                        <td id=\"T_8752f70c_d6f0_11ea_b9d7_c038961eaea8row9_col6\" class=\"data row9 col6\" >0.1692</td>\n",
       "                        <td id=\"T_8752f70c_d6f0_11ea_b9d7_c038961eaea8row9_col7\" class=\"data row9 col7\" >0.0163</td>\n",
       "            </tr>\n",
       "            <tr>\n",
       "                        <th id=\"T_8752f70c_d6f0_11ea_b9d7_c038961eaea8level0_row10\" class=\"row_heading level0 row10\" >10</th>\n",
       "                        <td id=\"T_8752f70c_d6f0_11ea_b9d7_c038961eaea8row10_col0\" class=\"data row10 col0\" >Bayesian Ridge</td>\n",
       "                        <td id=\"T_8752f70c_d6f0_11ea_b9d7_c038961eaea8row10_col1\" class=\"data row10 col1\" >3.2262</td>\n",
       "                        <td id=\"T_8752f70c_d6f0_11ea_b9d7_c038961eaea8row10_col2\" class=\"data row10 col2\" >22.5496</td>\n",
       "                        <td id=\"T_8752f70c_d6f0_11ea_b9d7_c038961eaea8row10_col3\" class=\"data row10 col3\" >4.5665</td>\n",
       "                        <td id=\"T_8752f70c_d6f0_11ea_b9d7_c038961eaea8row10_col4\" class=\"data row10 col4\" >0.7304</td>\n",
       "                        <td id=\"T_8752f70c_d6f0_11ea_b9d7_c038961eaea8row10_col5\" class=\"data row10 col5\" >0.2457</td>\n",
       "                        <td id=\"T_8752f70c_d6f0_11ea_b9d7_c038961eaea8row10_col6\" class=\"data row10 col6\" >0.1651</td>\n",
       "                        <td id=\"T_8752f70c_d6f0_11ea_b9d7_c038961eaea8row10_col7\" class=\"data row10 col7\" >0.0094</td>\n",
       "            </tr>\n",
       "            <tr>\n",
       "                        <th id=\"T_8752f70c_d6f0_11ea_b9d7_c038961eaea8level0_row11\" class=\"row_heading level0 row11\" >11</th>\n",
       "                        <td id=\"T_8752f70c_d6f0_11ea_b9d7_c038961eaea8row11_col0\" class=\"data row11 col0\" >Random Sample Consensus</td>\n",
       "                        <td id=\"T_8752f70c_d6f0_11ea_b9d7_c038961eaea8row11_col1\" class=\"data row11 col1\" >3.0573</td>\n",
       "                        <td id=\"T_8752f70c_d6f0_11ea_b9d7_c038961eaea8row11_col2\" class=\"data row11 col2\" >23.4191</td>\n",
       "                        <td id=\"T_8752f70c_d6f0_11ea_b9d7_c038961eaea8row11_col3\" class=\"data row11 col3\" >4.6237</td>\n",
       "                        <td id=\"T_8752f70c_d6f0_11ea_b9d7_c038961eaea8row11_col4\" class=\"data row11 col4\" >0.7275</td>\n",
       "                        <td id=\"T_8752f70c_d6f0_11ea_b9d7_c038961eaea8row11_col5\" class=\"data row11 col5\" >0.2404</td>\n",
       "                        <td id=\"T_8752f70c_d6f0_11ea_b9d7_c038961eaea8row11_col6\" class=\"data row11 col6\" >0.1499</td>\n",
       "                        <td id=\"T_8752f70c_d6f0_11ea_b9d7_c038961eaea8row11_col7\" class=\"data row11 col7\" >0.1558</td>\n",
       "            </tr>\n",
       "            <tr>\n",
       "                        <th id=\"T_8752f70c_d6f0_11ea_b9d7_c038961eaea8level0_row12\" class=\"row_heading level0 row12\" >12</th>\n",
       "                        <td id=\"T_8752f70c_d6f0_11ea_b9d7_c038961eaea8row12_col0\" class=\"data row12 col0\" >Decision Tree</td>\n",
       "                        <td id=\"T_8752f70c_d6f0_11ea_b9d7_c038961eaea8row12_col1\" class=\"data row12 col1\" >3.1560</td>\n",
       "                        <td id=\"T_8752f70c_d6f0_11ea_b9d7_c038961eaea8row12_col2\" class=\"data row12 col2\" >22.2317</td>\n",
       "                        <td id=\"T_8752f70c_d6f0_11ea_b9d7_c038961eaea8row12_col3\" class=\"data row12 col3\" >4.5378</td>\n",
       "                        <td id=\"T_8752f70c_d6f0_11ea_b9d7_c038961eaea8row12_col4\" class=\"data row12 col4\" >0.7217</td>\n",
       "                        <td id=\"T_8752f70c_d6f0_11ea_b9d7_c038961eaea8row12_col5\" class=\"data row12 col5\" >0.2060</td>\n",
       "                        <td id=\"T_8752f70c_d6f0_11ea_b9d7_c038961eaea8row12_col6\" class=\"data row12 col6\" >0.1618</td>\n",
       "                        <td id=\"T_8752f70c_d6f0_11ea_b9d7_c038961eaea8row12_col7\" class=\"data row12 col7\" >0.0115</td>\n",
       "            </tr>\n",
       "            <tr>\n",
       "                        <th id=\"T_8752f70c_d6f0_11ea_b9d7_c038961eaea8level0_row13\" class=\"row_heading level0 row13\" >13</th>\n",
       "                        <td id=\"T_8752f70c_d6f0_11ea_b9d7_c038961eaea8row13_col0\" class=\"data row13 col0\" >TheilSen Regressor</td>\n",
       "                        <td id=\"T_8752f70c_d6f0_11ea_b9d7_c038961eaea8row13_col1\" class=\"data row13 col1\" >3.1712</td>\n",
       "                        <td id=\"T_8752f70c_d6f0_11ea_b9d7_c038961eaea8row13_col2\" class=\"data row13 col2\" >24.3075</td>\n",
       "                        <td id=\"T_8752f70c_d6f0_11ea_b9d7_c038961eaea8row13_col3\" class=\"data row13 col3\" >4.6635</td>\n",
       "                        <td id=\"T_8752f70c_d6f0_11ea_b9d7_c038961eaea8row13_col4\" class=\"data row13 col4\" >0.7208</td>\n",
       "                        <td id=\"T_8752f70c_d6f0_11ea_b9d7_c038961eaea8row13_col5\" class=\"data row13 col5\" >0.2549</td>\n",
       "                        <td id=\"T_8752f70c_d6f0_11ea_b9d7_c038961eaea8row13_col6\" class=\"data row13 col6\" >0.1598</td>\n",
       "                        <td id=\"T_8752f70c_d6f0_11ea_b9d7_c038961eaea8row13_col7\" class=\"data row13 col7\" >2.5692</td>\n",
       "            </tr>\n",
       "            <tr>\n",
       "                        <th id=\"T_8752f70c_d6f0_11ea_b9d7_c038961eaea8level0_row14\" class=\"row_heading level0 row14\" >14</th>\n",
       "                        <td id=\"T_8752f70c_d6f0_11ea_b9d7_c038961eaea8row14_col0\" class=\"data row14 col0\" >Elastic Net</td>\n",
       "                        <td id=\"T_8752f70c_d6f0_11ea_b9d7_c038961eaea8row14_col1\" class=\"data row14 col1\" >3.6751</td>\n",
       "                        <td id=\"T_8752f70c_d6f0_11ea_b9d7_c038961eaea8row14_col2\" class=\"data row14 col2\" >27.7229</td>\n",
       "                        <td id=\"T_8752f70c_d6f0_11ea_b9d7_c038961eaea8row14_col3\" class=\"data row14 col3\" >5.1168</td>\n",
       "                        <td id=\"T_8752f70c_d6f0_11ea_b9d7_c038961eaea8row14_col4\" class=\"data row14 col4\" >0.6680</td>\n",
       "                        <td id=\"T_8752f70c_d6f0_11ea_b9d7_c038961eaea8row14_col5\" class=\"data row14 col5\" >0.2590</td>\n",
       "                        <td id=\"T_8752f70c_d6f0_11ea_b9d7_c038961eaea8row14_col6\" class=\"data row14 col6\" >0.1794</td>\n",
       "                        <td id=\"T_8752f70c_d6f0_11ea_b9d7_c038961eaea8row14_col7\" class=\"data row14 col7\" >0.0089</td>\n",
       "            </tr>\n",
       "            <tr>\n",
       "                        <th id=\"T_8752f70c_d6f0_11ea_b9d7_c038961eaea8level0_row15\" class=\"row_heading level0 row15\" >15</th>\n",
       "                        <td id=\"T_8752f70c_d6f0_11ea_b9d7_c038961eaea8row15_col0\" class=\"data row15 col0\" >Lasso Regression</td>\n",
       "                        <td id=\"T_8752f70c_d6f0_11ea_b9d7_c038961eaea8row15_col1\" class=\"data row15 col1\" >3.7231</td>\n",
       "                        <td id=\"T_8752f70c_d6f0_11ea_b9d7_c038961eaea8row15_col2\" class=\"data row15 col2\" >28.5735</td>\n",
       "                        <td id=\"T_8752f70c_d6f0_11ea_b9d7_c038961eaea8row15_col3\" class=\"data row15 col3\" >5.1949</td>\n",
       "                        <td id=\"T_8752f70c_d6f0_11ea_b9d7_c038961eaea8row15_col4\" class=\"data row15 col4\" >0.6581</td>\n",
       "                        <td id=\"T_8752f70c_d6f0_11ea_b9d7_c038961eaea8row15_col5\" class=\"data row15 col5\" >0.2625</td>\n",
       "                        <td id=\"T_8752f70c_d6f0_11ea_b9d7_c038961eaea8row15_col6\" class=\"data row15 col6\" >0.1814</td>\n",
       "                        <td id=\"T_8752f70c_d6f0_11ea_b9d7_c038961eaea8row15_col7\" class=\"data row15 col7\" >0.0085</td>\n",
       "            </tr>\n",
       "            <tr>\n",
       "                        <th id=\"T_8752f70c_d6f0_11ea_b9d7_c038961eaea8level0_row16\" class=\"row_heading level0 row16\" >16</th>\n",
       "                        <td id=\"T_8752f70c_d6f0_11ea_b9d7_c038961eaea8row16_col0\" class=\"data row16 col0\" >Huber Regressor</td>\n",
       "                        <td id=\"T_8752f70c_d6f0_11ea_b9d7_c038961eaea8row16_col1\" class=\"data row16 col1\" >3.5628</td>\n",
       "                        <td id=\"T_8752f70c_d6f0_11ea_b9d7_c038961eaea8row16_col2\" class=\"data row16 col2\" >29.6347</td>\n",
       "                        <td id=\"T_8752f70c_d6f0_11ea_b9d7_c038961eaea8row16_col3\" class=\"data row16 col3\" >5.1967</td>\n",
       "                        <td id=\"T_8752f70c_d6f0_11ea_b9d7_c038961eaea8row16_col4\" class=\"data row16 col4\" >0.6470</td>\n",
       "                        <td id=\"T_8752f70c_d6f0_11ea_b9d7_c038961eaea8row16_col5\" class=\"data row16 col5\" >0.2513</td>\n",
       "                        <td id=\"T_8752f70c_d6f0_11ea_b9d7_c038961eaea8row16_col6\" class=\"data row16 col6\" >0.1778</td>\n",
       "                        <td id=\"T_8752f70c_d6f0_11ea_b9d7_c038961eaea8row16_col7\" class=\"data row16 col7\" >0.0732</td>\n",
       "            </tr>\n",
       "            <tr>\n",
       "                        <th id=\"T_8752f70c_d6f0_11ea_b9d7_c038961eaea8level0_row17\" class=\"row_heading level0 row17\" >17</th>\n",
       "                        <td id=\"T_8752f70c_d6f0_11ea_b9d7_c038961eaea8row17_col0\" class=\"data row17 col0\" >Orthogonal Matching Pursuit</td>\n",
       "                        <td id=\"T_8752f70c_d6f0_11ea_b9d7_c038961eaea8row17_col1\" class=\"data row17 col1\" >4.0276</td>\n",
       "                        <td id=\"T_8752f70c_d6f0_11ea_b9d7_c038961eaea8row17_col2\" class=\"data row17 col2\" >31.4190</td>\n",
       "                        <td id=\"T_8752f70c_d6f0_11ea_b9d7_c038961eaea8row17_col3\" class=\"data row17 col3\" >5.4641</td>\n",
       "                        <td id=\"T_8752f70c_d6f0_11ea_b9d7_c038961eaea8row17_col4\" class=\"data row17 col4\" >0.6193</td>\n",
       "                        <td id=\"T_8752f70c_d6f0_11ea_b9d7_c038961eaea8row17_col5\" class=\"data row17 col5\" >0.2783</td>\n",
       "                        <td id=\"T_8752f70c_d6f0_11ea_b9d7_c038961eaea8row17_col6\" class=\"data row17 col6\" >0.1986</td>\n",
       "                        <td id=\"T_8752f70c_d6f0_11ea_b9d7_c038961eaea8row17_col7\" class=\"data row17 col7\" >0.0073</td>\n",
       "            </tr>\n",
       "            <tr>\n",
       "                        <th id=\"T_8752f70c_d6f0_11ea_b9d7_c038961eaea8level0_row18\" class=\"row_heading level0 row18\" >18</th>\n",
       "                        <td id=\"T_8752f70c_d6f0_11ea_b9d7_c038961eaea8row18_col0\" class=\"data row18 col0\" >K Neighbors Regressor</td>\n",
       "                        <td id=\"T_8752f70c_d6f0_11ea_b9d7_c038961eaea8row18_col1\" class=\"data row18 col1\" >4.3207</td>\n",
       "                        <td id=\"T_8752f70c_d6f0_11ea_b9d7_c038961eaea8row18_col2\" class=\"data row18 col2\" >41.4179</td>\n",
       "                        <td id=\"T_8752f70c_d6f0_11ea_b9d7_c038961eaea8row18_col3\" class=\"data row18 col3\" >6.2851</td>\n",
       "                        <td id=\"T_8752f70c_d6f0_11ea_b9d7_c038961eaea8row18_col4\" class=\"data row18 col4\" >0.4891</td>\n",
       "                        <td id=\"T_8752f70c_d6f0_11ea_b9d7_c038961eaea8row18_col5\" class=\"data row18 col5\" >0.2430</td>\n",
       "                        <td id=\"T_8752f70c_d6f0_11ea_b9d7_c038961eaea8row18_col6\" class=\"data row18 col6\" >0.2022</td>\n",
       "                        <td id=\"T_8752f70c_d6f0_11ea_b9d7_c038961eaea8row18_col7\" class=\"data row18 col7\" >0.0083</td>\n",
       "            </tr>\n",
       "            <tr>\n",
       "                        <th id=\"T_8752f70c_d6f0_11ea_b9d7_c038961eaea8level0_row19\" class=\"row_heading level0 row19\" >19</th>\n",
       "                        <td id=\"T_8752f70c_d6f0_11ea_b9d7_c038961eaea8row19_col0\" class=\"data row19 col0\" >Support Vector Machine</td>\n",
       "                        <td id=\"T_8752f70c_d6f0_11ea_b9d7_c038961eaea8row19_col1\" class=\"data row19 col1\" >5.1779</td>\n",
       "                        <td id=\"T_8752f70c_d6f0_11ea_b9d7_c038961eaea8row19_col2\" class=\"data row19 col2\" >62.7551</td>\n",
       "                        <td id=\"T_8752f70c_d6f0_11ea_b9d7_c038961eaea8row19_col3\" class=\"data row19 col3\" >7.7347</td>\n",
       "                        <td id=\"T_8752f70c_d6f0_11ea_b9d7_c038961eaea8row19_col4\" class=\"data row19 col4\" >0.2497</td>\n",
       "                        <td id=\"T_8752f70c_d6f0_11ea_b9d7_c038961eaea8row19_col5\" class=\"data row19 col5\" >0.3060</td>\n",
       "                        <td id=\"T_8752f70c_d6f0_11ea_b9d7_c038961eaea8row19_col6\" class=\"data row19 col6\" >0.2425</td>\n",
       "                        <td id=\"T_8752f70c_d6f0_11ea_b9d7_c038961eaea8row19_col7\" class=\"data row19 col7\" >0.0187</td>\n",
       "            </tr>\n",
       "            <tr>\n",
       "                        <th id=\"T_8752f70c_d6f0_11ea_b9d7_c038961eaea8level0_row20\" class=\"row_heading level0 row20\" >20</th>\n",
       "                        <td id=\"T_8752f70c_d6f0_11ea_b9d7_c038961eaea8row20_col0\" class=\"data row20 col0\" >Lasso Least Angle Regression</td>\n",
       "                        <td id=\"T_8752f70c_d6f0_11ea_b9d7_c038961eaea8row20_col1\" class=\"data row20 col1\" >6.5775</td>\n",
       "                        <td id=\"T_8752f70c_d6f0_11ea_b9d7_c038961eaea8row20_col2\" class=\"data row20 col2\" >82.6552</td>\n",
       "                        <td id=\"T_8752f70c_d6f0_11ea_b9d7_c038961eaea8row20_col3\" class=\"data row20 col3\" >9.0054</td>\n",
       "                        <td id=\"T_8752f70c_d6f0_11ea_b9d7_c038961eaea8row20_col4\" class=\"data row20 col4\" >-0.0246</td>\n",
       "                        <td id=\"T_8752f70c_d6f0_11ea_b9d7_c038961eaea8row20_col5\" class=\"data row20 col5\" >0.3922</td>\n",
       "                        <td id=\"T_8752f70c_d6f0_11ea_b9d7_c038961eaea8row20_col6\" class=\"data row20 col6\" >0.3680</td>\n",
       "                        <td id=\"T_8752f70c_d6f0_11ea_b9d7_c038961eaea8row20_col7\" class=\"data row20 col7\" >0.0068</td>\n",
       "            </tr>\n",
       "            <tr>\n",
       "                        <th id=\"T_8752f70c_d6f0_11ea_b9d7_c038961eaea8level0_row21\" class=\"row_heading level0 row21\" >21</th>\n",
       "                        <td id=\"T_8752f70c_d6f0_11ea_b9d7_c038961eaea8row21_col0\" class=\"data row21 col0\" >Passive Aggressive Regressor</td>\n",
       "                        <td id=\"T_8752f70c_d6f0_11ea_b9d7_c038961eaea8row21_col1\" class=\"data row21 col1\" >6.5027</td>\n",
       "                        <td id=\"T_8752f70c_d6f0_11ea_b9d7_c038961eaea8row21_col2\" class=\"data row21 col2\" >87.8517</td>\n",
       "                        <td id=\"T_8752f70c_d6f0_11ea_b9d7_c038961eaea8row21_col3\" class=\"data row21 col3\" >9.0797</td>\n",
       "                        <td id=\"T_8752f70c_d6f0_11ea_b9d7_c038961eaea8row21_col4\" class=\"data row21 col4\" >-0.0451</td>\n",
       "                        <td id=\"T_8752f70c_d6f0_11ea_b9d7_c038961eaea8row21_col5\" class=\"data row21 col5\" >0.4167</td>\n",
       "                        <td id=\"T_8752f70c_d6f0_11ea_b9d7_c038961eaea8row21_col6\" class=\"data row21 col6\" >0.3385</td>\n",
       "                        <td id=\"T_8752f70c_d6f0_11ea_b9d7_c038961eaea8row21_col7\" class=\"data row21 col7\" >0.0075</td>\n",
       "            </tr>\n",
       "    </tbody></table>"
      ],
      "text/plain": [
       "<pandas.io.formats.style.Styler at 0x5b858f3948>"
      ]
     },
     "metadata": {},
     "output_type": "display_data"
    },
    {
     "data": {
      "text/plain": [
       "ExtraTreesRegressor(bootstrap=False, ccp_alpha=0.0, criterion='mse',\n",
       "                    max_depth=None, max_features='auto', max_leaf_nodes=None,\n",
       "                    max_samples=None, min_impurity_decrease=0.0,\n",
       "                    min_impurity_split=None, min_samples_leaf=1,\n",
       "                    min_samples_split=2, min_weight_fraction_leaf=0.0,\n",
       "                    n_estimators=100, n_jobs=-1, oob_score=False,\n",
       "                    random_state=3113, verbose=0, warm_start=False)"
      ]
     },
     "execution_count": 12,
     "metadata": {},
     "output_type": "execute_result"
    }
   ],
   "source": [
    "compare_models()"
   ]
  },
  {
   "cell_type": "code",
   "execution_count": 14,
   "metadata": {},
   "outputs": [
    {
     "data": {
      "text/html": [
       "<style  type=\"text/css\" >\n",
       "#T_08a31324_d6f1_11ea_9042_c038961eaea8row10_col0,#T_08a31324_d6f1_11ea_9042_c038961eaea8row10_col1,#T_08a31324_d6f1_11ea_9042_c038961eaea8row10_col2,#T_08a31324_d6f1_11ea_9042_c038961eaea8row10_col3,#T_08a31324_d6f1_11ea_9042_c038961eaea8row10_col4,#T_08a31324_d6f1_11ea_9042_c038961eaea8row10_col5{\n",
       "            background:  yellow;\n",
       "        }</style><table id=\"T_08a31324_d6f1_11ea_9042_c038961eaea8\" ><thead>    <tr>        <th class=\"blank level0\" ></th>        <th class=\"col_heading level0 col0\" >MAE</th>        <th class=\"col_heading level0 col1\" >MSE</th>        <th class=\"col_heading level0 col2\" >RMSE</th>        <th class=\"col_heading level0 col3\" >R2</th>        <th class=\"col_heading level0 col4\" >RMSLE</th>        <th class=\"col_heading level0 col5\" >MAPE</th>    </tr></thead><tbody>\n",
       "                <tr>\n",
       "                        <th id=\"T_08a31324_d6f1_11ea_9042_c038961eaea8level0_row0\" class=\"row_heading level0 row0\" >0</th>\n",
       "                        <td id=\"T_08a31324_d6f1_11ea_9042_c038961eaea8row0_col0\" class=\"data row0 col0\" >1.5799</td>\n",
       "                        <td id=\"T_08a31324_d6f1_11ea_9042_c038961eaea8row0_col1\" class=\"data row0 col1\" >4.3522</td>\n",
       "                        <td id=\"T_08a31324_d6f1_11ea_9042_c038961eaea8row0_col2\" class=\"data row0 col2\" >2.0862</td>\n",
       "                        <td id=\"T_08a31324_d6f1_11ea_9042_c038961eaea8row0_col3\" class=\"data row0 col3\" >0.9486</td>\n",
       "                        <td id=\"T_08a31324_d6f1_11ea_9042_c038961eaea8row0_col4\" class=\"data row0 col4\" >0.0843</td>\n",
       "                        <td id=\"T_08a31324_d6f1_11ea_9042_c038961eaea8row0_col5\" class=\"data row0 col5\" >0.0703</td>\n",
       "            </tr>\n",
       "            <tr>\n",
       "                        <th id=\"T_08a31324_d6f1_11ea_9042_c038961eaea8level0_row1\" class=\"row_heading level0 row1\" >1</th>\n",
       "                        <td id=\"T_08a31324_d6f1_11ea_9042_c038961eaea8row1_col0\" class=\"data row1 col0\" >2.6637</td>\n",
       "                        <td id=\"T_08a31324_d6f1_11ea_9042_c038961eaea8row1_col1\" class=\"data row1 col1\" >16.5973</td>\n",
       "                        <td id=\"T_08a31324_d6f1_11ea_9042_c038961eaea8row1_col2\" class=\"data row1 col2\" >4.0740</td>\n",
       "                        <td id=\"T_08a31324_d6f1_11ea_9042_c038961eaea8row1_col3\" class=\"data row1 col3\" >0.8834</td>\n",
       "                        <td id=\"T_08a31324_d6f1_11ea_9042_c038961eaea8row1_col4\" class=\"data row1 col4\" >0.1902</td>\n",
       "                        <td id=\"T_08a31324_d6f1_11ea_9042_c038961eaea8row1_col5\" class=\"data row1 col5\" >0.1577</td>\n",
       "            </tr>\n",
       "            <tr>\n",
       "                        <th id=\"T_08a31324_d6f1_11ea_9042_c038961eaea8level0_row2\" class=\"row_heading level0 row2\" >2</th>\n",
       "                        <td id=\"T_08a31324_d6f1_11ea_9042_c038961eaea8row2_col0\" class=\"data row2 col0\" >2.0787</td>\n",
       "                        <td id=\"T_08a31324_d6f1_11ea_9042_c038961eaea8row2_col1\" class=\"data row2 col1\" >7.8657</td>\n",
       "                        <td id=\"T_08a31324_d6f1_11ea_9042_c038961eaea8row2_col2\" class=\"data row2 col2\" >2.8046</td>\n",
       "                        <td id=\"T_08a31324_d6f1_11ea_9042_c038961eaea8row2_col3\" class=\"data row2 col3\" >0.8889</td>\n",
       "                        <td id=\"T_08a31324_d6f1_11ea_9042_c038961eaea8row2_col4\" class=\"data row2 col4\" >0.1257</td>\n",
       "                        <td id=\"T_08a31324_d6f1_11ea_9042_c038961eaea8row2_col5\" class=\"data row2 col5\" >0.1068</td>\n",
       "            </tr>\n",
       "            <tr>\n",
       "                        <th id=\"T_08a31324_d6f1_11ea_9042_c038961eaea8level0_row3\" class=\"row_heading level0 row3\" >3</th>\n",
       "                        <td id=\"T_08a31324_d6f1_11ea_9042_c038961eaea8row3_col0\" class=\"data row3 col0\" >1.8731</td>\n",
       "                        <td id=\"T_08a31324_d6f1_11ea_9042_c038961eaea8row3_col1\" class=\"data row3 col1\" >5.5914</td>\n",
       "                        <td id=\"T_08a31324_d6f1_11ea_9042_c038961eaea8row3_col2\" class=\"data row3 col2\" >2.3646</td>\n",
       "                        <td id=\"T_08a31324_d6f1_11ea_9042_c038961eaea8row3_col3\" class=\"data row3 col3\" >0.9294</td>\n",
       "                        <td id=\"T_08a31324_d6f1_11ea_9042_c038961eaea8row3_col4\" class=\"data row3 col4\" >0.1346</td>\n",
       "                        <td id=\"T_08a31324_d6f1_11ea_9042_c038961eaea8row3_col5\" class=\"data row3 col5\" >0.1111</td>\n",
       "            </tr>\n",
       "            <tr>\n",
       "                        <th id=\"T_08a31324_d6f1_11ea_9042_c038961eaea8level0_row4\" class=\"row_heading level0 row4\" >4</th>\n",
       "                        <td id=\"T_08a31324_d6f1_11ea_9042_c038961eaea8row4_col0\" class=\"data row4 col0\" >2.0513</td>\n",
       "                        <td id=\"T_08a31324_d6f1_11ea_9042_c038961eaea8row4_col1\" class=\"data row4 col1\" >6.8166</td>\n",
       "                        <td id=\"T_08a31324_d6f1_11ea_9042_c038961eaea8row4_col2\" class=\"data row4 col2\" >2.6109</td>\n",
       "                        <td id=\"T_08a31324_d6f1_11ea_9042_c038961eaea8row4_col3\" class=\"data row4 col3\" >0.8880</td>\n",
       "                        <td id=\"T_08a31324_d6f1_11ea_9042_c038961eaea8row4_col4\" class=\"data row4 col4\" >0.1543</td>\n",
       "                        <td id=\"T_08a31324_d6f1_11ea_9042_c038961eaea8row4_col5\" class=\"data row4 col5\" >0.1241</td>\n",
       "            </tr>\n",
       "            <tr>\n",
       "                        <th id=\"T_08a31324_d6f1_11ea_9042_c038961eaea8level0_row5\" class=\"row_heading level0 row5\" >5</th>\n",
       "                        <td id=\"T_08a31324_d6f1_11ea_9042_c038961eaea8row5_col0\" class=\"data row5 col0\" >2.1266</td>\n",
       "                        <td id=\"T_08a31324_d6f1_11ea_9042_c038961eaea8row5_col1\" class=\"data row5 col1\" >10.1894</td>\n",
       "                        <td id=\"T_08a31324_d6f1_11ea_9042_c038961eaea8row5_col2\" class=\"data row5 col2\" >3.1921</td>\n",
       "                        <td id=\"T_08a31324_d6f1_11ea_9042_c038961eaea8row5_col3\" class=\"data row5 col3\" >0.8809</td>\n",
       "                        <td id=\"T_08a31324_d6f1_11ea_9042_c038961eaea8row5_col4\" class=\"data row5 col4\" >0.1501</td>\n",
       "                        <td id=\"T_08a31324_d6f1_11ea_9042_c038961eaea8row5_col5\" class=\"data row5 col5\" >0.1065</td>\n",
       "            </tr>\n",
       "            <tr>\n",
       "                        <th id=\"T_08a31324_d6f1_11ea_9042_c038961eaea8level0_row6\" class=\"row_heading level0 row6\" >6</th>\n",
       "                        <td id=\"T_08a31324_d6f1_11ea_9042_c038961eaea8row6_col0\" class=\"data row6 col0\" >1.4533</td>\n",
       "                        <td id=\"T_08a31324_d6f1_11ea_9042_c038961eaea8row6_col1\" class=\"data row6 col1\" >3.5307</td>\n",
       "                        <td id=\"T_08a31324_d6f1_11ea_9042_c038961eaea8row6_col2\" class=\"data row6 col2\" >1.8790</td>\n",
       "                        <td id=\"T_08a31324_d6f1_11ea_9042_c038961eaea8row6_col3\" class=\"data row6 col3\" >0.9611</td>\n",
       "                        <td id=\"T_08a31324_d6f1_11ea_9042_c038961eaea8row6_col4\" class=\"data row6 col4\" >0.0758</td>\n",
       "                        <td id=\"T_08a31324_d6f1_11ea_9042_c038961eaea8row6_col5\" class=\"data row6 col5\" >0.0639</td>\n",
       "            </tr>\n",
       "            <tr>\n",
       "                        <th id=\"T_08a31324_d6f1_11ea_9042_c038961eaea8level0_row7\" class=\"row_heading level0 row7\" >7</th>\n",
       "                        <td id=\"T_08a31324_d6f1_11ea_9042_c038961eaea8row7_col0\" class=\"data row7 col0\" >2.2722</td>\n",
       "                        <td id=\"T_08a31324_d6f1_11ea_9042_c038961eaea8row7_col1\" class=\"data row7 col1\" >13.6873</td>\n",
       "                        <td id=\"T_08a31324_d6f1_11ea_9042_c038961eaea8row7_col2\" class=\"data row7 col2\" >3.6996</td>\n",
       "                        <td id=\"T_08a31324_d6f1_11ea_9042_c038961eaea8row7_col3\" class=\"data row7 col3\" >0.8241</td>\n",
       "                        <td id=\"T_08a31324_d6f1_11ea_9042_c038961eaea8row7_col4\" class=\"data row7 col4\" >0.1426</td>\n",
       "                        <td id=\"T_08a31324_d6f1_11ea_9042_c038961eaea8row7_col5\" class=\"data row7 col5\" >0.0984</td>\n",
       "            </tr>\n",
       "            <tr>\n",
       "                        <th id=\"T_08a31324_d6f1_11ea_9042_c038961eaea8level0_row8\" class=\"row_heading level0 row8\" >8</th>\n",
       "                        <td id=\"T_08a31324_d6f1_11ea_9042_c038961eaea8row8_col0\" class=\"data row8 col0\" >1.5255</td>\n",
       "                        <td id=\"T_08a31324_d6f1_11ea_9042_c038961eaea8row8_col1\" class=\"data row8 col1\" >5.2818</td>\n",
       "                        <td id=\"T_08a31324_d6f1_11ea_9042_c038961eaea8row8_col2\" class=\"data row8 col2\" >2.2982</td>\n",
       "                        <td id=\"T_08a31324_d6f1_11ea_9042_c038961eaea8row8_col3\" class=\"data row8 col3\" >0.9169</td>\n",
       "                        <td id=\"T_08a31324_d6f1_11ea_9042_c038961eaea8row8_col4\" class=\"data row8 col4\" >0.1140</td>\n",
       "                        <td id=\"T_08a31324_d6f1_11ea_9042_c038961eaea8row8_col5\" class=\"data row8 col5\" >0.0784</td>\n",
       "            </tr>\n",
       "            <tr>\n",
       "                        <th id=\"T_08a31324_d6f1_11ea_9042_c038961eaea8level0_row9\" class=\"row_heading level0 row9\" >9</th>\n",
       "                        <td id=\"T_08a31324_d6f1_11ea_9042_c038961eaea8row9_col0\" class=\"data row9 col0\" >2.0613</td>\n",
       "                        <td id=\"T_08a31324_d6f1_11ea_9042_c038961eaea8row9_col1\" class=\"data row9 col1\" >7.1818</td>\n",
       "                        <td id=\"T_08a31324_d6f1_11ea_9042_c038961eaea8row9_col2\" class=\"data row9 col2\" >2.6799</td>\n",
       "                        <td id=\"T_08a31324_d6f1_11ea_9042_c038961eaea8row9_col3\" class=\"data row9 col3\" >0.8598</td>\n",
       "                        <td id=\"T_08a31324_d6f1_11ea_9042_c038961eaea8row9_col4\" class=\"data row9 col4\" >0.1213</td>\n",
       "                        <td id=\"T_08a31324_d6f1_11ea_9042_c038961eaea8row9_col5\" class=\"data row9 col5\" >0.1089</td>\n",
       "            </tr>\n",
       "            <tr>\n",
       "                        <th id=\"T_08a31324_d6f1_11ea_9042_c038961eaea8level0_row10\" class=\"row_heading level0 row10\" >Mean</th>\n",
       "                        <td id=\"T_08a31324_d6f1_11ea_9042_c038961eaea8row10_col0\" class=\"data row10 col0\" >1.9686</td>\n",
       "                        <td id=\"T_08a31324_d6f1_11ea_9042_c038961eaea8row10_col1\" class=\"data row10 col1\" >8.1094</td>\n",
       "                        <td id=\"T_08a31324_d6f1_11ea_9042_c038961eaea8row10_col2\" class=\"data row10 col2\" >2.7689</td>\n",
       "                        <td id=\"T_08a31324_d6f1_11ea_9042_c038961eaea8row10_col3\" class=\"data row10 col3\" >0.8981</td>\n",
       "                        <td id=\"T_08a31324_d6f1_11ea_9042_c038961eaea8row10_col4\" class=\"data row10 col4\" >0.1293</td>\n",
       "                        <td id=\"T_08a31324_d6f1_11ea_9042_c038961eaea8row10_col5\" class=\"data row10 col5\" >0.1026</td>\n",
       "            </tr>\n",
       "            <tr>\n",
       "                        <th id=\"T_08a31324_d6f1_11ea_9042_c038961eaea8level0_row11\" class=\"row_heading level0 row11\" >SD</th>\n",
       "                        <td id=\"T_08a31324_d6f1_11ea_9042_c038961eaea8row11_col0\" class=\"data row11 col0\" >0.3535</td>\n",
       "                        <td id=\"T_08a31324_d6f1_11ea_9042_c038961eaea8row11_col1\" class=\"data row11 col1\" >3.9936</td>\n",
       "                        <td id=\"T_08a31324_d6f1_11ea_9042_c038961eaea8row11_col2\" class=\"data row11 col2\" >0.6653</td>\n",
       "                        <td id=\"T_08a31324_d6f1_11ea_9042_c038961eaea8row11_col3\" class=\"data row11 col3\" >0.0394</td>\n",
       "                        <td id=\"T_08a31324_d6f1_11ea_9042_c038961eaea8row11_col4\" class=\"data row11 col4\" >0.0319</td>\n",
       "                        <td id=\"T_08a31324_d6f1_11ea_9042_c038961eaea8row11_col5\" class=\"data row11 col5\" >0.0260</td>\n",
       "            </tr>\n",
       "    </tbody></table>"
      ],
      "text/plain": [
       "<pandas.io.formats.style.Styler at 0x5b81315508>"
      ]
     },
     "metadata": {},
     "output_type": "display_data"
    }
   ],
   "source": [
    "reg_model=create_model('et')"
   ]
  },
  {
   "cell_type": "markdown",
   "metadata": {},
   "source": [
    "### Clustering"
   ]
  },
  {
   "cell_type": "code",
   "execution_count": 16,
   "metadata": {},
   "outputs": [
    {
     "data": {
      "text/html": [
       "<div>\n",
       "<style scoped>\n",
       "    .dataframe tbody tr th:only-of-type {\n",
       "        vertical-align: middle;\n",
       "    }\n",
       "\n",
       "    .dataframe tbody tr th {\n",
       "        vertical-align: top;\n",
       "    }\n",
       "\n",
       "    .dataframe thead th {\n",
       "        text-align: right;\n",
       "    }\n",
       "</style>\n",
       "<table border=\"1\" class=\"dataframe\">\n",
       "  <thead>\n",
       "    <tr style=\"text-align: right;\">\n",
       "      <th></th>\n",
       "      <th>Age</th>\n",
       "      <th>Income</th>\n",
       "      <th>SpendingScore</th>\n",
       "      <th>Savings</th>\n",
       "    </tr>\n",
       "  </thead>\n",
       "  <tbody>\n",
       "    <tr>\n",
       "      <th>0</th>\n",
       "      <td>58</td>\n",
       "      <td>77769</td>\n",
       "      <td>0.791329</td>\n",
       "      <td>6559.829923</td>\n",
       "    </tr>\n",
       "    <tr>\n",
       "      <th>1</th>\n",
       "      <td>59</td>\n",
       "      <td>81799</td>\n",
       "      <td>0.791082</td>\n",
       "      <td>5417.661426</td>\n",
       "    </tr>\n",
       "    <tr>\n",
       "      <th>2</th>\n",
       "      <td>62</td>\n",
       "      <td>74751</td>\n",
       "      <td>0.702657</td>\n",
       "      <td>9258.992965</td>\n",
       "    </tr>\n",
       "    <tr>\n",
       "      <th>3</th>\n",
       "      <td>59</td>\n",
       "      <td>74373</td>\n",
       "      <td>0.765680</td>\n",
       "      <td>7346.334504</td>\n",
       "    </tr>\n",
       "    <tr>\n",
       "      <th>4</th>\n",
       "      <td>87</td>\n",
       "      <td>17760</td>\n",
       "      <td>0.348778</td>\n",
       "      <td>16869.507130</td>\n",
       "    </tr>\n",
       "  </tbody>\n",
       "</table>\n",
       "</div>"
      ],
      "text/plain": [
       "   Age  Income  SpendingScore       Savings\n",
       "0   58   77769       0.791329   6559.829923\n",
       "1   59   81799       0.791082   5417.661426\n",
       "2   62   74751       0.702657   9258.992965\n",
       "3   59   74373       0.765680   7346.334504\n",
       "4   87   17760       0.348778  16869.507130"
      ]
     },
     "metadata": {},
     "output_type": "display_data"
    }
   ],
   "source": [
    "#### Clustering Techniques\n",
    "jewellery=get_data('jewellery')"
   ]
  },
  {
   "cell_type": "code",
   "execution_count": 17,
   "metadata": {},
   "outputs": [
    {
     "name": "stdout",
     "output_type": "stream",
     "text": [
      "Setup Succesfully Completed!\n"
     ]
    },
    {
     "data": {
      "text/html": [
       "<style  type=\"text/css\" >\n",
       "</style><table id=\"T_44947858_d6f1_11ea_a943_c038961eaea8\" ><thead>    <tr>        <th class=\"blank level0\" ></th>        <th class=\"col_heading level0 col0\" >Description</th>        <th class=\"col_heading level0 col1\" >Value</th>    </tr></thead><tbody>\n",
       "                <tr>\n",
       "                        <th id=\"T_44947858_d6f1_11ea_a943_c038961eaea8level0_row0\" class=\"row_heading level0 row0\" >0</th>\n",
       "                        <td id=\"T_44947858_d6f1_11ea_a943_c038961eaea8row0_col0\" class=\"data row0 col0\" >session_id </td>\n",
       "                        <td id=\"T_44947858_d6f1_11ea_a943_c038961eaea8row0_col1\" class=\"data row0 col1\" >2272</td>\n",
       "            </tr>\n",
       "            <tr>\n",
       "                        <th id=\"T_44947858_d6f1_11ea_a943_c038961eaea8level0_row1\" class=\"row_heading level0 row1\" >1</th>\n",
       "                        <td id=\"T_44947858_d6f1_11ea_a943_c038961eaea8row1_col0\" class=\"data row1 col0\" >Original Data </td>\n",
       "                        <td id=\"T_44947858_d6f1_11ea_a943_c038961eaea8row1_col1\" class=\"data row1 col1\" >(505, 4)</td>\n",
       "            </tr>\n",
       "            <tr>\n",
       "                        <th id=\"T_44947858_d6f1_11ea_a943_c038961eaea8level0_row2\" class=\"row_heading level0 row2\" >2</th>\n",
       "                        <td id=\"T_44947858_d6f1_11ea_a943_c038961eaea8row2_col0\" class=\"data row2 col0\" >Missing Values </td>\n",
       "                        <td id=\"T_44947858_d6f1_11ea_a943_c038961eaea8row2_col1\" class=\"data row2 col1\" >False</td>\n",
       "            </tr>\n",
       "            <tr>\n",
       "                        <th id=\"T_44947858_d6f1_11ea_a943_c038961eaea8level0_row3\" class=\"row_heading level0 row3\" >3</th>\n",
       "                        <td id=\"T_44947858_d6f1_11ea_a943_c038961eaea8row3_col0\" class=\"data row3 col0\" >Numeric Features </td>\n",
       "                        <td id=\"T_44947858_d6f1_11ea_a943_c038961eaea8row3_col1\" class=\"data row3 col1\" >4</td>\n",
       "            </tr>\n",
       "            <tr>\n",
       "                        <th id=\"T_44947858_d6f1_11ea_a943_c038961eaea8level0_row4\" class=\"row_heading level0 row4\" >4</th>\n",
       "                        <td id=\"T_44947858_d6f1_11ea_a943_c038961eaea8row4_col0\" class=\"data row4 col0\" >Categorical Features </td>\n",
       "                        <td id=\"T_44947858_d6f1_11ea_a943_c038961eaea8row4_col1\" class=\"data row4 col1\" >0</td>\n",
       "            </tr>\n",
       "            <tr>\n",
       "                        <th id=\"T_44947858_d6f1_11ea_a943_c038961eaea8level0_row5\" class=\"row_heading level0 row5\" >5</th>\n",
       "                        <td id=\"T_44947858_d6f1_11ea_a943_c038961eaea8row5_col0\" class=\"data row5 col0\" >Ordinal Features </td>\n",
       "                        <td id=\"T_44947858_d6f1_11ea_a943_c038961eaea8row5_col1\" class=\"data row5 col1\" >False</td>\n",
       "            </tr>\n",
       "            <tr>\n",
       "                        <th id=\"T_44947858_d6f1_11ea_a943_c038961eaea8level0_row6\" class=\"row_heading level0 row6\" >6</th>\n",
       "                        <td id=\"T_44947858_d6f1_11ea_a943_c038961eaea8row6_col0\" class=\"data row6 col0\" >High Cardinality Features </td>\n",
       "                        <td id=\"T_44947858_d6f1_11ea_a943_c038961eaea8row6_col1\" class=\"data row6 col1\" >False</td>\n",
       "            </tr>\n",
       "            <tr>\n",
       "                        <th id=\"T_44947858_d6f1_11ea_a943_c038961eaea8level0_row7\" class=\"row_heading level0 row7\" >7</th>\n",
       "                        <td id=\"T_44947858_d6f1_11ea_a943_c038961eaea8row7_col0\" class=\"data row7 col0\" >Transformed Data </td>\n",
       "                        <td id=\"T_44947858_d6f1_11ea_a943_c038961eaea8row7_col1\" class=\"data row7 col1\" >(505, 4)</td>\n",
       "            </tr>\n",
       "            <tr>\n",
       "                        <th id=\"T_44947858_d6f1_11ea_a943_c038961eaea8level0_row8\" class=\"row_heading level0 row8\" >8</th>\n",
       "                        <td id=\"T_44947858_d6f1_11ea_a943_c038961eaea8row8_col0\" class=\"data row8 col0\" >Numeric Imputer </td>\n",
       "                        <td id=\"T_44947858_d6f1_11ea_a943_c038961eaea8row8_col1\" class=\"data row8 col1\" >mean</td>\n",
       "            </tr>\n",
       "            <tr>\n",
       "                        <th id=\"T_44947858_d6f1_11ea_a943_c038961eaea8level0_row9\" class=\"row_heading level0 row9\" >9</th>\n",
       "                        <td id=\"T_44947858_d6f1_11ea_a943_c038961eaea8row9_col0\" class=\"data row9 col0\" >Categorical Imputer </td>\n",
       "                        <td id=\"T_44947858_d6f1_11ea_a943_c038961eaea8row9_col1\" class=\"data row9 col1\" >constant</td>\n",
       "            </tr>\n",
       "            <tr>\n",
       "                        <th id=\"T_44947858_d6f1_11ea_a943_c038961eaea8level0_row10\" class=\"row_heading level0 row10\" >10</th>\n",
       "                        <td id=\"T_44947858_d6f1_11ea_a943_c038961eaea8row10_col0\" class=\"data row10 col0\" >Normalize </td>\n",
       "                        <td id=\"T_44947858_d6f1_11ea_a943_c038961eaea8row10_col1\" class=\"data row10 col1\" >False</td>\n",
       "            </tr>\n",
       "            <tr>\n",
       "                        <th id=\"T_44947858_d6f1_11ea_a943_c038961eaea8level0_row11\" class=\"row_heading level0 row11\" >11</th>\n",
       "                        <td id=\"T_44947858_d6f1_11ea_a943_c038961eaea8row11_col0\" class=\"data row11 col0\" >Normalize Method </td>\n",
       "                        <td id=\"T_44947858_d6f1_11ea_a943_c038961eaea8row11_col1\" class=\"data row11 col1\" >None</td>\n",
       "            </tr>\n",
       "            <tr>\n",
       "                        <th id=\"T_44947858_d6f1_11ea_a943_c038961eaea8level0_row12\" class=\"row_heading level0 row12\" >12</th>\n",
       "                        <td id=\"T_44947858_d6f1_11ea_a943_c038961eaea8row12_col0\" class=\"data row12 col0\" >Transformation </td>\n",
       "                        <td id=\"T_44947858_d6f1_11ea_a943_c038961eaea8row12_col1\" class=\"data row12 col1\" >False</td>\n",
       "            </tr>\n",
       "            <tr>\n",
       "                        <th id=\"T_44947858_d6f1_11ea_a943_c038961eaea8level0_row13\" class=\"row_heading level0 row13\" >13</th>\n",
       "                        <td id=\"T_44947858_d6f1_11ea_a943_c038961eaea8row13_col0\" class=\"data row13 col0\" >Transformation Method </td>\n",
       "                        <td id=\"T_44947858_d6f1_11ea_a943_c038961eaea8row13_col1\" class=\"data row13 col1\" >None</td>\n",
       "            </tr>\n",
       "            <tr>\n",
       "                        <th id=\"T_44947858_d6f1_11ea_a943_c038961eaea8level0_row14\" class=\"row_heading level0 row14\" >14</th>\n",
       "                        <td id=\"T_44947858_d6f1_11ea_a943_c038961eaea8row14_col0\" class=\"data row14 col0\" >PCA </td>\n",
       "                        <td id=\"T_44947858_d6f1_11ea_a943_c038961eaea8row14_col1\" class=\"data row14 col1\" >False</td>\n",
       "            </tr>\n",
       "            <tr>\n",
       "                        <th id=\"T_44947858_d6f1_11ea_a943_c038961eaea8level0_row15\" class=\"row_heading level0 row15\" >15</th>\n",
       "                        <td id=\"T_44947858_d6f1_11ea_a943_c038961eaea8row15_col0\" class=\"data row15 col0\" >PCA Method </td>\n",
       "                        <td id=\"T_44947858_d6f1_11ea_a943_c038961eaea8row15_col1\" class=\"data row15 col1\" >None</td>\n",
       "            </tr>\n",
       "            <tr>\n",
       "                        <th id=\"T_44947858_d6f1_11ea_a943_c038961eaea8level0_row16\" class=\"row_heading level0 row16\" >16</th>\n",
       "                        <td id=\"T_44947858_d6f1_11ea_a943_c038961eaea8row16_col0\" class=\"data row16 col0\" >PCA components </td>\n",
       "                        <td id=\"T_44947858_d6f1_11ea_a943_c038961eaea8row16_col1\" class=\"data row16 col1\" >None</td>\n",
       "            </tr>\n",
       "            <tr>\n",
       "                        <th id=\"T_44947858_d6f1_11ea_a943_c038961eaea8level0_row17\" class=\"row_heading level0 row17\" >17</th>\n",
       "                        <td id=\"T_44947858_d6f1_11ea_a943_c038961eaea8row17_col0\" class=\"data row17 col0\" >Ignore Low Variance </td>\n",
       "                        <td id=\"T_44947858_d6f1_11ea_a943_c038961eaea8row17_col1\" class=\"data row17 col1\" >False</td>\n",
       "            </tr>\n",
       "            <tr>\n",
       "                        <th id=\"T_44947858_d6f1_11ea_a943_c038961eaea8level0_row18\" class=\"row_heading level0 row18\" >18</th>\n",
       "                        <td id=\"T_44947858_d6f1_11ea_a943_c038961eaea8row18_col0\" class=\"data row18 col0\" >Combine Rare Levels </td>\n",
       "                        <td id=\"T_44947858_d6f1_11ea_a943_c038961eaea8row18_col1\" class=\"data row18 col1\" >False</td>\n",
       "            </tr>\n",
       "            <tr>\n",
       "                        <th id=\"T_44947858_d6f1_11ea_a943_c038961eaea8level0_row19\" class=\"row_heading level0 row19\" >19</th>\n",
       "                        <td id=\"T_44947858_d6f1_11ea_a943_c038961eaea8row19_col0\" class=\"data row19 col0\" >Rare Level Threshold </td>\n",
       "                        <td id=\"T_44947858_d6f1_11ea_a943_c038961eaea8row19_col1\" class=\"data row19 col1\" >None</td>\n",
       "            </tr>\n",
       "            <tr>\n",
       "                        <th id=\"T_44947858_d6f1_11ea_a943_c038961eaea8level0_row20\" class=\"row_heading level0 row20\" >20</th>\n",
       "                        <td id=\"T_44947858_d6f1_11ea_a943_c038961eaea8row20_col0\" class=\"data row20 col0\" >Numeric Binning </td>\n",
       "                        <td id=\"T_44947858_d6f1_11ea_a943_c038961eaea8row20_col1\" class=\"data row20 col1\" >False</td>\n",
       "            </tr>\n",
       "            <tr>\n",
       "                        <th id=\"T_44947858_d6f1_11ea_a943_c038961eaea8level0_row21\" class=\"row_heading level0 row21\" >21</th>\n",
       "                        <td id=\"T_44947858_d6f1_11ea_a943_c038961eaea8row21_col0\" class=\"data row21 col0\" >Remove Multicollinearity </td>\n",
       "                        <td id=\"T_44947858_d6f1_11ea_a943_c038961eaea8row21_col1\" class=\"data row21 col1\" >False</td>\n",
       "            </tr>\n",
       "            <tr>\n",
       "                        <th id=\"T_44947858_d6f1_11ea_a943_c038961eaea8level0_row22\" class=\"row_heading level0 row22\" >22</th>\n",
       "                        <td id=\"T_44947858_d6f1_11ea_a943_c038961eaea8row22_col0\" class=\"data row22 col0\" >Multicollinearity Threshold </td>\n",
       "                        <td id=\"T_44947858_d6f1_11ea_a943_c038961eaea8row22_col1\" class=\"data row22 col1\" >None</td>\n",
       "            </tr>\n",
       "            <tr>\n",
       "                        <th id=\"T_44947858_d6f1_11ea_a943_c038961eaea8level0_row23\" class=\"row_heading level0 row23\" >23</th>\n",
       "                        <td id=\"T_44947858_d6f1_11ea_a943_c038961eaea8row23_col0\" class=\"data row23 col0\" >Group Features </td>\n",
       "                        <td id=\"T_44947858_d6f1_11ea_a943_c038961eaea8row23_col1\" class=\"data row23 col1\" >False</td>\n",
       "            </tr>\n",
       "    </tbody></table>"
      ],
      "text/plain": [
       "<pandas.io.formats.style.Styler at 0x5b8133a648>"
      ]
     },
     "metadata": {},
     "output_type": "display_data"
    }
   ],
   "source": [
    "from pycaret.clustering import *\n",
    "clust_algo=setup(jewellery)"
   ]
  },
  {
   "cell_type": "code",
   "execution_count": 18,
   "metadata": {},
   "outputs": [
    {
     "data": {
      "text/html": [
       "<div>\n",
       "<style scoped>\n",
       "    .dataframe tbody tr th:only-of-type {\n",
       "        vertical-align: middle;\n",
       "    }\n",
       "\n",
       "    .dataframe tbody tr th {\n",
       "        vertical-align: top;\n",
       "    }\n",
       "\n",
       "    .dataframe thead th {\n",
       "        text-align: right;\n",
       "    }\n",
       "</style>\n",
       "<table border=\"1\" class=\"dataframe\">\n",
       "  <thead>\n",
       "    <tr style=\"text-align: right;\">\n",
       "      <th></th>\n",
       "      <th>Metric</th>\n",
       "    </tr>\n",
       "  </thead>\n",
       "  <tbody>\n",
       "    <tr>\n",
       "      <th>Silhouette</th>\n",
       "      <td>0.7207</td>\n",
       "    </tr>\n",
       "    <tr>\n",
       "      <th>Calinski-Harabasz</th>\n",
       "      <td>5011.8115</td>\n",
       "    </tr>\n",
       "    <tr>\n",
       "      <th>Davies-Bouldin</th>\n",
       "      <td>0.4114</td>\n",
       "    </tr>\n",
       "  </tbody>\n",
       "</table>\n",
       "</div>"
      ],
      "text/plain": [
       "                      Metric\n",
       "Silhouette            0.7207\n",
       "Calinski-Harabasz  5011.8115\n",
       "Davies-Bouldin        0.4114"
      ]
     },
     "metadata": {},
     "output_type": "display_data"
    }
   ],
   "source": [
    "kmeans=create_model('kmeans')"
   ]
  },
  {
   "cell_type": "code",
   "execution_count": 19,
   "metadata": {},
   "outputs": [
    {
     "data": {
      "text/plain": [
       "KMeans(algorithm='auto', copy_x=True, init='k-means++', max_iter=300,\n",
       "       n_clusters=4, n_init=10, n_jobs=-1, precompute_distances='deprecated',\n",
       "       random_state=2272, tol=0.0001, verbose=0)"
      ]
     },
     "execution_count": 19,
     "metadata": {},
     "output_type": "execute_result"
    }
   ],
   "source": [
    "kmeans"
   ]
  },
  {
   "cell_type": "code",
   "execution_count": 20,
   "metadata": {},
   "outputs": [],
   "source": [
    "### Assig the labels to the dataframe\n",
    "kmeans_df=assign_model(kmeans)"
   ]
  },
  {
   "cell_type": "code",
   "execution_count": 21,
   "metadata": {},
   "outputs": [
    {
     "data": {
      "text/html": [
       "<div>\n",
       "<style scoped>\n",
       "    .dataframe tbody tr th:only-of-type {\n",
       "        vertical-align: middle;\n",
       "    }\n",
       "\n",
       "    .dataframe tbody tr th {\n",
       "        vertical-align: top;\n",
       "    }\n",
       "\n",
       "    .dataframe thead th {\n",
       "        text-align: right;\n",
       "    }\n",
       "</style>\n",
       "<table border=\"1\" class=\"dataframe\">\n",
       "  <thead>\n",
       "    <tr style=\"text-align: right;\">\n",
       "      <th></th>\n",
       "      <th>Age</th>\n",
       "      <th>Income</th>\n",
       "      <th>SpendingScore</th>\n",
       "      <th>Savings</th>\n",
       "      <th>Cluster</th>\n",
       "    </tr>\n",
       "  </thead>\n",
       "  <tbody>\n",
       "    <tr>\n",
       "      <th>0</th>\n",
       "      <td>58</td>\n",
       "      <td>77769</td>\n",
       "      <td>0.791329</td>\n",
       "      <td>6559.829923</td>\n",
       "      <td>Cluster 0</td>\n",
       "    </tr>\n",
       "    <tr>\n",
       "      <th>1</th>\n",
       "      <td>59</td>\n",
       "      <td>81799</td>\n",
       "      <td>0.791082</td>\n",
       "      <td>5417.661426</td>\n",
       "      <td>Cluster 0</td>\n",
       "    </tr>\n",
       "    <tr>\n",
       "      <th>2</th>\n",
       "      <td>62</td>\n",
       "      <td>74751</td>\n",
       "      <td>0.702657</td>\n",
       "      <td>9258.992965</td>\n",
       "      <td>Cluster 0</td>\n",
       "    </tr>\n",
       "    <tr>\n",
       "      <th>3</th>\n",
       "      <td>59</td>\n",
       "      <td>74373</td>\n",
       "      <td>0.765680</td>\n",
       "      <td>7346.334504</td>\n",
       "      <td>Cluster 0</td>\n",
       "    </tr>\n",
       "    <tr>\n",
       "      <th>4</th>\n",
       "      <td>87</td>\n",
       "      <td>17760</td>\n",
       "      <td>0.348778</td>\n",
       "      <td>16869.507130</td>\n",
       "      <td>Cluster 1</td>\n",
       "    </tr>\n",
       "    <tr>\n",
       "      <th>...</th>\n",
       "      <td>...</td>\n",
       "      <td>...</td>\n",
       "      <td>...</td>\n",
       "      <td>...</td>\n",
       "      <td>...</td>\n",
       "    </tr>\n",
       "    <tr>\n",
       "      <th>500</th>\n",
       "      <td>28</td>\n",
       "      <td>101206</td>\n",
       "      <td>0.387441</td>\n",
       "      <td>14936.775389</td>\n",
       "      <td>Cluster 3</td>\n",
       "    </tr>\n",
       "    <tr>\n",
       "      <th>501</th>\n",
       "      <td>93</td>\n",
       "      <td>19934</td>\n",
       "      <td>0.203140</td>\n",
       "      <td>17969.693769</td>\n",
       "      <td>Cluster 1</td>\n",
       "    </tr>\n",
       "    <tr>\n",
       "      <th>502</th>\n",
       "      <td>90</td>\n",
       "      <td>35297</td>\n",
       "      <td>0.355149</td>\n",
       "      <td>16091.401954</td>\n",
       "      <td>Cluster 1</td>\n",
       "    </tr>\n",
       "    <tr>\n",
       "      <th>503</th>\n",
       "      <td>91</td>\n",
       "      <td>20681</td>\n",
       "      <td>0.354679</td>\n",
       "      <td>18401.088445</td>\n",
       "      <td>Cluster 1</td>\n",
       "    </tr>\n",
       "    <tr>\n",
       "      <th>504</th>\n",
       "      <td>89</td>\n",
       "      <td>30267</td>\n",
       "      <td>0.289310</td>\n",
       "      <td>14386.351880</td>\n",
       "      <td>Cluster 1</td>\n",
       "    </tr>\n",
       "  </tbody>\n",
       "</table>\n",
       "<p>505 rows × 5 columns</p>\n",
       "</div>"
      ],
      "text/plain": [
       "     Age  Income  SpendingScore       Savings    Cluster\n",
       "0     58   77769       0.791329   6559.829923  Cluster 0\n",
       "1     59   81799       0.791082   5417.661426  Cluster 0\n",
       "2     62   74751       0.702657   9258.992965  Cluster 0\n",
       "3     59   74373       0.765680   7346.334504  Cluster 0\n",
       "4     87   17760       0.348778  16869.507130  Cluster 1\n",
       "..   ...     ...            ...           ...        ...\n",
       "500   28  101206       0.387441  14936.775389  Cluster 3\n",
       "501   93   19934       0.203140  17969.693769  Cluster 1\n",
       "502   90   35297       0.355149  16091.401954  Cluster 1\n",
       "503   91   20681       0.354679  18401.088445  Cluster 1\n",
       "504   89   30267       0.289310  14386.351880  Cluster 1\n",
       "\n",
       "[505 rows x 5 columns]"
      ]
     },
     "execution_count": 21,
     "metadata": {},
     "output_type": "execute_result"
    }
   ],
   "source": [
    "kmeans_df"
   ]
  },
  {
   "cell_type": "code",
   "execution_count": 22,
   "metadata": {},
   "outputs": [
    {
     "data": {
      "text/html": [
       "        <script type=\"text/javascript\">\n",
       "        window.PlotlyConfig = {MathJaxConfig: 'local'};\n",
       "        if (window.MathJax) {MathJax.Hub.Config({SVG: {font: \"STIX-Web\"}});}\n",
       "        if (typeof require !== 'undefined') {\n",
       "        require.undef(\"plotly\");\n",
       "        requirejs.config({\n",
       "            paths: {\n",
       "                'plotly': ['https://cdn.plot.ly/plotly-latest.min']\n",
       "            }\n",
       "        });\n",
       "        require(['plotly'], function(Plotly) {\n",
       "            window._Plotly = Plotly;\n",
       "        });\n",
       "        }\n",
       "        </script>\n",
       "        "
      ]
     },
     "metadata": {},
     "output_type": "display_data"
    },
    {
     "data": {
      "application/vnd.plotly.v1+json": {
       "config": {
        "plotlyServerURL": "https://plot.ly"
       },
       "data": [
        {
         "customdata": [
          [
           58
          ],
          [
           58
          ],
          [
           55
          ],
          [
           60
          ],
          [
           56
          ],
          [
           60
          ],
          [
           58
          ],
          [
           56
          ],
          [
           64
          ],
          [
           63
          ],
          [
           62
          ],
          [
           59
          ],
          [
           67
          ],
          [
           58
          ],
          [
           58
          ],
          [
           57
          ],
          [
           66
          ],
          [
           64
          ],
          [
           59
          ],
          [
           68
          ],
          [
           61
          ],
          [
           64
          ],
          [
           63
          ],
          [
           55
          ],
          [
           57
          ],
          [
           57
          ],
          [
           53
          ],
          [
           61
          ],
          [
           61
          ],
          [
           62
          ],
          [
           62
          ],
          [
           62
          ],
          [
           60
          ],
          [
           65
          ],
          [
           60
          ],
          [
           63
          ],
          [
           56
          ],
          [
           58
          ],
          [
           62
          ],
          [
           56
          ],
          [
           59
          ],
          [
           65
          ],
          [
           62
          ],
          [
           59
          ],
          [
           66
          ],
          [
           64
          ],
          [
           62
          ],
          [
           61
          ],
          [
           56
          ],
          [
           62
          ],
          [
           60
          ],
          [
           62
          ],
          [
           64
          ],
          [
           63
          ],
          [
           58
          ],
          [
           59
          ],
          [
           59
          ],
          [
           59
          ],
          [
           59
          ],
          [
           55
          ],
          [
           51
          ],
          [
           57
          ],
          [
           61
          ],
          [
           60
          ],
          [
           64
          ],
          [
           65
          ],
          [
           59
          ],
          [
           58
          ],
          [
           63
          ],
          [
           61
          ],
          [
           59
          ],
          [
           56
          ],
          [
           61
          ],
          [
           63
          ],
          [
           58
          ],
          [
           62
          ],
          [
           60
          ],
          [
           62
          ],
          [
           65
          ],
          [
           59
          ],
          [
           65
          ],
          [
           58
          ],
          [
           61
          ],
          [
           66
          ],
          [
           58
          ],
          [
           68
          ],
          [
           58
          ],
          [
           67
          ],
          [
           58
          ],
          [
           56
          ],
          [
           61
          ],
          [
           56
          ],
          [
           61
          ],
          [
           59
          ],
          [
           62
          ],
          [
           59
          ],
          [
           59
          ],
          [
           59
          ],
          [
           57
          ],
          [
           59
          ],
          [
           64
          ],
          [
           61
          ],
          [
           63
          ],
          [
           56
          ],
          [
           59
          ],
          [
           58
          ],
          [
           61
          ],
          [
           55
          ],
          [
           59
          ],
          [
           60
          ],
          [
           60
          ],
          [
           67
          ],
          [
           57
          ],
          [
           56
          ],
          [
           67
          ],
          [
           63
          ],
          [
           57
          ],
          [
           53
          ],
          [
           55
          ],
          [
           59
          ],
          [
           53
          ],
          [
           58
          ],
          [
           55
          ],
          [
           55
          ],
          [
           61
          ],
          [
           59
          ],
          [
           66
          ],
          [
           59
          ],
          [
           62
          ],
          [
           59
          ],
          [
           56
          ],
          [
           58
          ],
          [
           61
          ],
          [
           60
          ],
          [
           64
          ],
          [
           61
          ],
          [
           62
          ],
          [
           57
          ],
          [
           58
          ],
          [
           63
          ],
          [
           56
          ],
          [
           58
          ],
          [
           61
          ],
          [
           57
          ],
          [
           61
          ],
          [
           60
          ],
          [
           66
          ],
          [
           64
          ],
          [
           61
          ],
          [
           55
          ],
          [
           59
          ],
          [
           62
          ],
          [
           59
          ],
          [
           54
          ],
          [
           58
          ],
          [
           57
          ]
         ],
         "hovertemplate": "Cluster=Cluster 0<br>PCA1=%{x}<br>PCA2=%{y}<br>Feature=%{customdata[0]}<extra></extra>",
         "legendgroup": "Cluster 0",
         "marker": {
          "color": "#636efa",
          "opacity": 0.5,
          "symbol": "circle"
         },
         "mode": "markers",
         "name": "Cluster 0",
         "orientation": "v",
         "showlegend": true,
         "textposition": "top center",
         "type": "scatter",
         "x": [
          2555.784235160261,
          8122.080380415545,
          871.0561448640472,
          -7740.904879089721,
          -15159.90191624567,
          -9955.599000501968,
          5073.487356522347,
          -7927.279393999562,
          -10817.514881421734,
          -182.87509706289833,
          -12401.01261442263,
          384.4886537787887,
          -15876.014194933867,
          2392.9514000132344,
          -4856.160277619079,
          -9604.976101231396,
          -3578.641166763734,
          3594.042421690832,
          -5713.304475031715,
          2456.1149429108823,
          -4025.5345868614927,
          1223.3332842063564,
          -18377.08091916089,
          -1254.7961050822737,
          1380.9095854822622,
          -5506.504775277298,
          -284.9346161317465,
          -1867.501195205515,
          -4335.121223668247,
          -8175.944783841652,
          -11570.01362947229,
          -12594.175242128531,
          -3881.279223544832,
          -9447.56695701966,
          -4595.725467462923,
          5567.478117111808,
          9121.20832982618,
          499.4966180961362,
          -4176.722631704309,
          -6529.597912750252,
          -7423.928769536229,
          -9153.992100917842,
          4864.683651412999,
          -7249.028129796928,
          7325.256189492691,
          1198.2155272857258,
          -6945.490220855899,
          -5628.983771409207,
          -6874.447300583782,
          3175.7301008876816,
          -10072.87511880353,
          -5806.077052611819,
          11039.026942031709,
          -5414.849621380295,
          3385.8220491313223,
          -3902.6507601274034,
          277.3194547180382,
          -18832.323089995094,
          -7793.454352086524,
          -10419.650727093273,
          -3127.7464754071802,
          -3147.971690102397,
          3607.6218475354476,
          -805.5182840466938,
          -12402.61400603574,
          -811.2733012583036,
          -7981.746810683437,
          2868.675335891813,
          7034.566991846876,
          -7827.504392605745,
          -7225.656651496554,
          -9823.292971418652,
          -3197.770674931708,
          -4661.643199436443,
          -4588.845682887327,
          -1424.2968527852477,
          -11770.096221904689,
          -7431.169946592948,
          -4794.7301859724585,
          -5787.584457334288,
          -4114.665812502666,
          -4883.720561797811,
          -967.1345292294807,
          1855.047986918684,
          3333.0370081988926,
          -6270.1300577046395,
          -6075.723945911872,
          3574.8676282851325,
          834.6063416853558,
          375.6120252474172,
          -3222.0284971176457,
          3735.222300120547,
          -9600.009525716894,
          2663.814142724261,
          -5898.744479681149,
          -6051.798027149634,
          5619.125538763628,
          -2220.6354506100643,
          -10371.487057071712,
          -1864.5940590614414,
          -3536.624899618866,
          -9270.983246113969,
          -7793.211508914163,
          5122.28256229892,
          7017.407229806953,
          4968.764645874576,
          -6214.354917756371,
          1547.912439559428,
          -1709.0067116984378,
          -5149.41455296631,
          -9176.939917160442,
          5679.9350322555565,
          4615.604589783897,
          -1755.3663563989885,
          -6586.375015596346,
          -2329.6167597527665,
          -1148.5927138363113,
          1535.3200349238698,
          -3652.051627219516,
          -2601.8696283459435,
          -13124.391604038405,
          1797.8692846207548,
          3442.067865401048,
          -847.3002227743357,
          1691.1469990055025,
          -9514.742122293766,
          -2630.7941352081816,
          -5495.930030665683,
          -1710.009100629774,
          -860.435447795382,
          -11393.26428138904,
          -5327.512619806881,
          -1006.794280892693,
          4848.442764387983,
          13091.374153516677,
          -2009.7086141751709,
          -5414.451723823094,
          106.44730783000088,
          -4972.922141129966,
          10499.40729594558,
          11129.424149229611,
          -4333.3531714953115,
          -11385.807297750884,
          4241.7758951530495,
          -3354.4093954920513,
          -5228.773548143096,
          -10238.837928743036,
          -14757.626854505608,
          -6112.701966838934,
          -4197.995995572502,
          6644.597612798234,
          -611.892076683546,
          -879.6961231840177,
          1270.592618636515,
          -907.6690876091155,
          1381.2925438038976
         ],
         "xaxis": "x",
         "y": [
          5164.690387393601,
          4731.012058760929,
          5689.000453091911,
          5133.63947168739,
          5573.243592768729,
          4085.3122504461226,
          5244.436809348919,
          5673.527728610805,
          6677.482101590938,
          4411.324353776286,
          6731.622371228143,
          6845.141814371283,
          7337.4625843307695,
          5992.68409410971,
          6861.841710581507,
          5517.456998799793,
          4687.331305792247,
          5244.223767536207,
          6098.40717149921,
          5539.978254276128,
          5644.552199614271,
          5666.367954752703,
          5086.374324713104,
          6380.9154942927935,
          5567.112673818733,
          6298.430178867737,
          4064.0083360808107,
          2685.662685436797,
          2658.2975188904143,
          5599.274828311294,
          6393.584927460237,
          5058.593507665867,
          3532.7508016456372,
          6026.370137728773,
          4575.315245883316,
          6399.67945792858,
          4076.1888638584996,
          4450.572465085803,
          5121.948177991021,
          5174.060016070752,
          5595.425208078429,
          6237.4550067498,
          4834.953991865888,
          5030.101509904846,
          5245.750156657966,
          6031.597780098121,
          5240.283697626606,
          3413.4609900340347,
          3266.4701832643796,
          4727.07981305535,
          7033.832306225475,
          5686.132349951809,
          4384.687289531573,
          4509.378948047732,
          4513.159427781258,
          5499.339332721768,
          5152.077722121316,
          6823.253328040568,
          5788.853893383749,
          5982.858221439133,
          5318.281993622225,
          5506.996622913863,
          4852.444518767339,
          4348.095679784138,
          4277.420432790431,
          4771.515153180695,
          3467.5659749114207,
          5223.642330390358,
          3374.2871342934286,
          5701.697575023513,
          4564.617621855318,
          6862.24757208061,
          5127.949261280456,
          4875.412034392042,
          4468.268102563844,
          7267.328542397006,
          5001.4207831968515,
          6342.036901878029,
          5174.470545977294,
          5711.62839326697,
          3078.8964384945934,
          4688.370746949258,
          4638.7242406741525,
          5468.743274286699,
          4012.2154933423167,
          5401.82169696717,
          3500.596454313255,
          6638.189488143048,
          5141.101367432593,
          5049.606296947776,
          4129.181189416358,
          4370.467828822719,
          4923.281603355224,
          3399.120354730324,
          5205.840154213879,
          6221.683453940021,
          4314.80390898497,
          4177.140129281851,
          6211.274488459201,
          5267.352553209777,
          5070.413098436326,
          5996.549152653395,
          6334.2432519820495,
          3424.073603905289,
          5588.800602998207,
          3943.117073633913,
          8154.200533863809,
          3973.9069974865133,
          3684.6952959403598,
          5556.66613913382,
          7146.662858252779,
          4711.285967238694,
          5713.442041909505,
          4273.205301847636,
          4795.6596223076,
          6502.207882775594,
          6154.518606181516,
          6617.1434044688585,
          4298.147934215799,
          5720.0639106318495,
          5122.298575466134,
          3616.9066222648635,
          3293.9257098257863,
          5435.293808150465,
          4305.60551337014,
          5484.062210130751,
          5512.809888472103,
          5033.927181148625,
          5692.091704359402,
          1366.2175061913908,
          4760.726683836121,
          5507.674538617935,
          6827.73675228087,
          6716.389270082329,
          3878.0740056043546,
          4571.311601888516,
          6401.496850378557,
          5019.545071865862,
          5053.9743944823085,
          4092.586810582497,
          2451.395645635494,
          6791.121727987131,
          5239.834486252132,
          4854.373611538008,
          4039.049708218609,
          4906.82136911701,
          7423.315368546436,
          5008.0121037786075,
          7150.2656862042095,
          4646.423038232097,
          6074.108821940041,
          2642.8564628733116,
          4574.029852480233,
          4918.861099714737,
          4662.571801362163,
          5207.221097509011
         ],
         "yaxis": "y"
        },
        {
         "customdata": [
          [
           91
          ],
          [
           87
          ],
          [
           89
          ],
          [
           93
          ],
          [
           90
          ],
          [
           88
          ],
          [
           94
          ],
          [
           90
          ],
          [
           92
          ],
          [
           83
          ],
          [
           86
          ],
          [
           83
          ],
          [
           82
          ],
          [
           94
          ],
          [
           87
          ],
          [
           83
          ],
          [
           86
          ],
          [
           88
          ],
          [
           84
          ],
          [
           87
          ],
          [
           91
          ],
          [
           90
          ],
          [
           88
          ],
          [
           83
          ],
          [
           85
          ],
          [
           87
          ],
          [
           91
          ],
          [
           88
          ],
          [
           91
          ],
          [
           86
          ],
          [
           88
          ],
          [
           84
          ],
          [
           90
          ],
          [
           91
          ],
          [
           90
          ],
          [
           87
          ],
          [
           87
          ],
          [
           84
          ],
          [
           91
          ],
          [
           88
          ],
          [
           85
          ],
          [
           91
          ],
          [
           83
          ],
          [
           92
          ],
          [
           87
          ],
          [
           85
          ],
          [
           94
          ],
          [
           86
          ],
          [
           92
          ],
          [
           84
          ],
          [
           83
          ],
          [
           87
          ],
          [
           90
          ],
          [
           87
          ],
          [
           88
          ],
          [
           86
          ],
          [
           84
          ],
          [
           90
          ],
          [
           91
          ],
          [
           92
          ],
          [
           97
          ],
          [
           84
          ],
          [
           92
          ],
          [
           87
          ],
          [
           91
          ],
          [
           93
          ],
          [
           90
          ],
          [
           84
          ],
          [
           87
          ],
          [
           82
          ],
          [
           90
          ],
          [
           83
          ],
          [
           91
          ],
          [
           84
          ],
          [
           88
          ],
          [
           91
          ],
          [
           84
          ],
          [
           87
          ],
          [
           89
          ],
          [
           94
          ],
          [
           86
          ],
          [
           79
          ],
          [
           86
          ],
          [
           85
          ],
          [
           92
          ],
          [
           89
          ],
          [
           88
          ],
          [
           87
          ],
          [
           90
          ],
          [
           89
          ],
          [
           79
          ],
          [
           82
          ],
          [
           87
          ],
          [
           91
          ],
          [
           86
          ],
          [
           89
          ],
          [
           83
          ],
          [
           82
          ],
          [
           89
          ],
          [
           91
          ],
          [
           94
          ],
          [
           85
          ],
          [
           85
          ],
          [
           85
          ],
          [
           88
          ],
          [
           94
          ],
          [
           90
          ],
          [
           88
          ],
          [
           91
          ],
          [
           89
          ],
          [
           88
          ],
          [
           87
          ],
          [
           93
          ],
          [
           88
          ],
          [
           82
          ],
          [
           85
          ],
          [
           89
          ],
          [
           89
          ],
          [
           84
          ],
          [
           87
          ],
          [
           87
          ],
          [
           85
          ],
          [
           86
          ],
          [
           89
          ],
          [
           95
          ],
          [
           88
          ],
          [
           87
          ],
          [
           92
          ],
          [
           91
          ],
          [
           89
          ],
          [
           92
          ],
          [
           83
          ],
          [
           91
          ],
          [
           91
          ],
          [
           85
          ],
          [
           81
          ],
          [
           88
          ],
          [
           91
          ],
          [
           85
          ],
          [
           84
          ],
          [
           94
          ],
          [
           88
          ],
          [
           83
          ],
          [
           89
          ],
          [
           88
          ],
          [
           84
          ],
          [
           84
          ]
         ],
         "hovertemplate": "Cluster=Cluster 1<br>PCA1=%{x}<br>PCA2=%{y}<br>Feature=%{customdata[0]}<extra></extra>",
         "legendgroup": "Cluster 1",
         "marker": {
          "color": "#EF553B",
          "opacity": 0.5,
          "symbol": "circle"
         },
         "mode": "markers",
         "name": "Cluster 1",
         "orientation": "v",
         "showlegend": true,
         "textposition": "top center",
         "type": "scatter",
         "x": [
          -50504.82314273774,
          -45504.928216643886,
          -48762.36466827122,
          -58127.503870270055,
          -42253.87287795825,
          -57750.75774612393,
          -48448.189821393426,
          -42485.19893050842,
          -53329.08890863797,
          -52508.30353343576,
          -39916.59061152693,
          -45053.50115134019,
          -42172.09142372817,
          -56820.08755360428,
          -52745.27199507387,
          -42546.30928703386,
          -43811.47262039392,
          -40724.15688509666,
          -37730.7693406082,
          -28723.99191956603,
          -48867.334224124774,
          -45508.35388587769,
          -43012.76978349143,
          -47072.832708278824,
          -46206.7607091729,
          -44821.271955370976,
          -51304.42079121022,
          -56178.67327005181,
          -63634.72200273959,
          -56854.24491468413,
          -49206.07297923623,
          -57516.27318363644,
          -53514.36608306828,
          -39063.28667619093,
          -50029.04867348445,
          -63656.347589980156,
          -52350.13688160771,
          -53484.99044797623,
          -49274.442396159335,
          -48459.57885316468,
          -54413.15855352478,
          -47000.171708792936,
          -57495.82751822282,
          -40276.44813108958,
          -49083.9890444835,
          -53905.330808706705,
          -51858.95285225978,
          -48031.60033869837,
          -53120.54070874585,
          -48086.47161506784,
          -41229.085326467924,
          -33223.78792758694,
          -46621.6751899209,
          -57945.294009393816,
          -44316.39097613654,
          -52219.788910263276,
          -45243.33599570983,
          -52877.3816460334,
          -47591.225111220025,
          -56895.33602609469,
          -48338.70466261935,
          -39255.47386551349,
          -39730.754923732005,
          -45889.161245283976,
          -44891.726940178174,
          -55837.896212559106,
          -40392.523538135785,
          -51590.972058113046,
          -44207.36919669008,
          -42152.50281937877,
          -51240.79467490212,
          -45148.062146087934,
          -46108.564418073154,
          -55003.11473536297,
          -53103.84791289734,
          -48496.847924973066,
          -48329.37521986345,
          -50055.78756429359,
          -50446.68725850562,
          -36822.8827299011,
          -46897.287204841865,
          -37510.588011321204,
          -39708.64698966351,
          -47211.30921897943,
          -42194.79873495245,
          -41047.37636685034,
          -57888.98693798619,
          -45592.66271459649,
          -38257.01252267872,
          -47490.05337363709,
          -43219.570630798,
          -51335.696362198054,
          -59885.18345080092,
          -52957.616291781,
          -60035.35573518635,
          -53680.72058527793,
          -48890.162042831675,
          -51459.51350546345,
          -45316.581406095596,
          -58771.330100436215,
          -47366.64939309716,
          -49427.52413702615,
          -47271.41327624214,
          -46522.919419751204,
          -47129.84416342064,
          -47975.629894303725,
          -42382.698832036236,
          -42594.243001933,
          -45489.12002421865,
          -42432.64509966229,
          -47339.947334108285,
          -57176.867806106064,
          -55300.43835611651,
          -46888.40589877379,
          -43231.47790879882,
          -41090.43271162368,
          -56491.72616160147,
          -55368.98427568013,
          -48469.75822555579,
          -49952.56386424758,
          -51191.183110267986,
          -47927.75615335328,
          -28705.21282676983,
          -49610.67501015972,
          -48754.55322293149,
          -42334.04767150636,
          -49618.56425158393,
          -39882.02333138306,
          -38870.67264138037,
          -51006.625967171814,
          -42805.174693662324,
          -47148.04950665262,
          -46752.17189114911,
          -49855.3602390612,
          -44945.69901444303,
          -41272.89533986183,
          -58306.89374121135,
          -55116.83601816841,
          -40907.25147798811,
          -46294.69652581512,
          -54957.49098917237,
          -49640.51633393594,
          -41183.65207165714,
          -44680.89350931927,
          -41654.28537091673,
          -33685.823037835034,
          -48254.00622992492
         ],
         "xaxis": "x",
         "y": [
          -2541.1040744024194,
          -1656.4250558163035,
          -1902.3037525718112,
          -3329.424155750388,
          -2813.4088657561015,
          -1546.7860227984631,
          -424.49445160246916,
          -1573.1293339464667,
          -3704.1152030668813,
          -2003.3795586148929,
          -5860.406970913428,
          -3267.853088065966,
          -3482.9509244203127,
          -2626.4947601230397,
          -3270.250012030124,
          -2323.9550250667403,
          -3844.0506429942807,
          -3403.3549980948774,
          -3447.522865699351,
          -1283.249341684218,
          -3330.095089314261,
          -1716.095751517993,
          -2388.3975155671847,
          -3652.143022077503,
          -3972.4372911141963,
          -809.247850406612,
          -1341.642150499336,
          -1450.7318688866608,
          -958.5365645110754,
          -1039.8869670204483,
          646.5438723752051,
          -2662.2379174130565,
          -3511.6505427575576,
          -2178.9512608782647,
          -2907.79818013549,
          -672.1303645870983,
          -1271.8366968001806,
          -2964.8711615389416,
          -1819.1411133435647,
          -623.0248233972338,
          -1055.996893175367,
          -3258.592731249428,
          -874.5938320396222,
          -3159.403065288737,
          -2706.95424585954,
          776.7213551828818,
          -1998.3145148841247,
          -2520.8796709258963,
          -2373.906852113614,
          -3267.664533478743,
          -559.8887343311553,
          -4327.599800404023,
          -1061.3928297006262,
          -1690.2235244245387,
          -1681.1078093986146,
          -361.82287722905875,
          -2386.744670387968,
          -1034.046286118067,
          -2876.0168218541603,
          -219.83567344031889,
          -296.9479102201345,
          -2456.062469507204,
          -3215.3117531036173,
          -3656.8600405231196,
          -1059.5099705589153,
          -2913.1513261933897,
          -1918.0706539765345,
          -1709.6809922654022,
          -1788.595019255137,
          -3595.426499455153,
          -337.5831102994571,
          -918.443541374456,
          -4704.900718140076,
          -1806.3716349634747,
          -1838.6646455566588,
          -1255.0231217175185,
          -2106.9565485318553,
          -458.73293797346736,
          -1789.8310613735036,
          -3004.13592503573,
          -1500.5997535503452,
          -2385.93067359997,
          -2812.640832274525,
          -497.02873214681364,
          -2831.2449726497744,
          163.00860194240784,
          -2297.410428456014,
          -1858.7415428672732,
          -3209.70569985512,
          -1025.6556377131574,
          -982.637404545742,
          -2253.3249547903124,
          968.1821841701767,
          -512.1681616652345,
          -2067.785202202857,
          -1523.1531827794754,
          -3117.043572435123,
          -1443.6312210611663,
          72.34189620852707,
          -1946.425634881532,
          -2226.523883594681,
          -3282.4967836895153,
          -1422.2632521531448,
          -2395.1506203279087,
          -2166.9455265130227,
          -2697.4806496368706,
          -1026.2178281219408,
          -4573.135949676129,
          -857.2365574199104,
          -2804.317598781816,
          -2756.2104567652136,
          -500.38222602903465,
          -2379.4453929525334,
          -1747.2845158743742,
          -2464.366506729346,
          -2507.468037848856,
          -1529.9495201383818,
          -990.6075970316525,
          -975.0110199269358,
          -1016.3628176053346,
          -2999.0481368530045,
          1139.0677249894093,
          -2125.5165732968308,
          -2494.3460158547678,
          -3476.7575329414044,
          -946.4427010468262,
          -1200.4987085746998,
          -3145.8388116696287,
          -4966.632983631627,
          1229.6342021038008,
          -2383.9235864924326,
          -948.170032003413,
          -4260.667936777422,
          -2551.640945867299,
          -2663.436303414357,
          -2039.0519450914762,
          -1498.3070625904002,
          -3386.6313874278344,
          -2247.723098069758,
          -3445.1407626668743,
          -1273.034090967152,
          -2403.4526565005253,
          -2299.1775764582503,
          -3320.2381091067405,
          -1284.2763352326,
          -2359.9810608524353,
          -3586.39291233936
         ],
         "yaxis": "y"
        },
        {
         "customdata": [
          [
           21
          ],
          [
           34
          ],
          [
           17
          ],
          [
           20
          ],
          [
           77
          ],
          [
           91
          ],
          [
           93
          ],
          [
           21
          ],
          [
           28
          ],
          [
           30
          ],
          [
           20
          ],
          [
           26
          ],
          [
           26
          ],
          [
           88
          ],
          [
           92
          ],
          [
           27
          ],
          [
           25
          ],
          [
           88
          ],
          [
           87
          ],
          [
           24
          ],
          [
           20
          ],
          [
           23
          ],
          [
           84
          ],
          [
           27
          ],
          [
           31
          ],
          [
           17
          ],
          [
           86
          ],
          [
           24
          ],
          [
           86
          ],
          [
           25
          ],
          [
           28
          ],
          [
           24
          ],
          [
           28
          ],
          [
           17
          ],
          [
           24
          ],
          [
           89
          ],
          [
           17
          ],
          [
           82
          ],
          [
           27
          ],
          [
           29
          ],
          [
           24
          ],
          [
           29
          ],
          [
           24
          ],
          [
           22
          ],
          [
           26
          ],
          [
           83
          ],
          [
           90
          ],
          [
           82
          ],
          [
           22
          ],
          [
           25
          ],
          [
           23
          ],
          [
           28
          ],
          [
           90
          ],
          [
           26
          ],
          [
           25
          ],
          [
           24
          ],
          [
           29
          ],
          [
           28
          ],
          [
           83
          ],
          [
           22
          ],
          [
           25
          ],
          [
           29
          ],
          [
           23
          ],
          [
           83
          ],
          [
           18
          ],
          [
           26
          ],
          [
           32
          ],
          [
           85
          ],
          [
           25
          ],
          [
           23
          ],
          [
           18
          ],
          [
           28
          ]
         ],
         "hovertemplate": "Cluster=Cluster 2<br>PCA1=%{x}<br>PCA2=%{y}<br>Feature=%{customdata[0]}<extra></extra>",
         "legendgroup": "Cluster 2",
         "marker": {
          "color": "#00cc96",
          "opacity": 0.5,
          "symbol": "circle"
         },
         "mode": "markers",
         "name": "Cluster 2",
         "orientation": "v",
         "showlegend": true,
         "textposition": "top center",
         "type": "scatter",
         "x": [
          48602.57111184025,
          44074.744322679515,
          48697.328544410004,
          53899.234059979615,
          52844.214540832145,
          43084.43130106837,
          50874.59373315185,
          54542.560260911334,
          52465.03358665995,
          47549.762546227124,
          47415.38916240537,
          52086.38065892726,
          50397.08389773139,
          47964.55226138693,
          47182.0685815558,
          47518.88131856797,
          55783.428858014966,
          44952.90203538894,
          41859.154369975586,
          61617.256021857254,
          54230.31142047666,
          45049.71303774852,
          46993.64108790839,
          49923.232402586356,
          47836.448391826896,
          61085.16181542695,
          48577.245944563685,
          45280.29645748767,
          52679.13742245059,
          45728.401144344156,
          48281.96476402195,
          55795.997914964,
          41933.87634909214,
          59798.174828499774,
          59239.853528398184,
          43861.7470910255,
          59803.045579193065,
          50433.851384533344,
          46271.749990668155,
          56449.67813828146,
          52263.4941087445,
          43600.21618030979,
          53976.79000263134,
          58984.55027496732,
          47842.883679066545,
          41580.27174463823,
          48410.00929047229,
          45920.3038460076,
          57857.289056922345,
          55809.60825993985,
          51395.22435599955,
          48029.23598296095,
          42045.7957025714,
          56651.45548374753,
          53422.55248570129,
          59196.593086339155,
          66750.62108457659,
          53924.59703955881,
          42157.805428700995,
          45302.57090416747,
          55168.45154506193,
          47210.611284129656,
          63317.06653244297,
          43629.01273923754,
          48551.89779119269,
          51532.47005840455,
          41328.252663310006,
          42414.13984409394,
          62912.45709780574,
          54778.91990969148,
          55587.35173073364,
          46000.8024846996
         ],
         "xaxis": "x",
         "y": [
          6249.537360930083,
          -6307.669140625975,
          5282.497809754309,
          3176.7468854090907,
          -5677.667475551909,
          -4660.855622444506,
          -5178.052813440067,
          4193.8829993723075,
          3371.533065013099,
          3437.8964823947813,
          4709.388807631827,
          3388.4270346813755,
          2890.550968564705,
          -4397.186114919675,
          -4557.716601791874,
          4941.999362973272,
          4732.087714707707,
          -4985.5148012203945,
          -4543.326267067192,
          6726.313750520615,
          3238.428770323685,
          4590.872583456106,
          -4647.1290885886465,
          6048.724079227708,
          6059.98332337455,
          4243.721728508765,
          -6305.307759672726,
          4437.356566167741,
          -4749.057025715362,
          3658.306501252221,
          8499.966944599806,
          4252.8975407069975,
          4717.997205237609,
          4315.751792559066,
          4745.144589124809,
          -6877.035883382065,
          8450.307562492613,
          -6854.206134077954,
          4207.414796612183,
          5101.398697367522,
          5916.358054129832,
          -5657.478831520006,
          5488.389984582108,
          3350.711617933647,
          4758.188729714916,
          -5615.5607724086385,
          -5693.665441157445,
          -4953.921129423358,
          5717.501137167644,
          3879.149733262659,
          5657.241494980818,
          5422.323757682563,
          -3106.1034758683554,
          4271.292185091136,
          3894.235479127751,
          3903.974926815371,
          2693.008186621752,
          5765.842845736466,
          -5954.454601851142,
          3778.181421309608,
          4016.9816222016157,
          6674.234677495917,
          4946.177510120511,
          -6254.840941209122,
          4668.214697412172,
          6006.733833662532,
          -4823.6458993355955,
          -5432.2818195096415,
          5261.355213266391,
          4629.791365281098,
          3427.1351952588097,
          3884.4528513190853
         ],
         "yaxis": "y"
        },
        {
         "customdata": [
          [
           28
          ],
          [
           30
          ],
          [
           31
          ],
          [
           31
          ],
          [
           35
          ],
          [
           28
          ],
          [
           86
          ],
          [
           34
          ],
          [
           30
          ],
          [
           36
          ],
          [
           28
          ],
          [
           31
          ],
          [
           35
          ],
          [
           33
          ],
          [
           28
          ],
          [
           27
          ],
          [
           39
          ],
          [
           30
          ],
          [
           30
          ],
          [
           32
          ],
          [
           37
          ],
          [
           36
          ],
          [
           33
          ],
          [
           22
          ],
          [
           34
          ],
          [
           31
          ],
          [
           34
          ],
          [
           38
          ],
          [
           31
          ],
          [
           85
          ],
          [
           32
          ],
          [
           32
          ],
          [
           28
          ],
          [
           29
          ],
          [
           33
          ],
          [
           34
          ],
          [
           36
          ],
          [
           30
          ],
          [
           35
          ],
          [
           31
          ],
          [
           31
          ],
          [
           33
          ],
          [
           35
          ],
          [
           37
          ],
          [
           29
          ],
          [
           38
          ],
          [
           30
          ],
          [
           37
          ],
          [
           30
          ],
          [
           36
          ],
          [
           37
          ],
          [
           35
          ],
          [
           35
          ],
          [
           88
          ],
          [
           31
          ],
          [
           33
          ],
          [
           31
          ],
          [
           29
          ],
          [
           33
          ],
          [
           26
          ],
          [
           24
          ],
          [
           36
          ],
          [
           33
          ],
          [
           34
          ],
          [
           30
          ],
          [
           34
          ],
          [
           33
          ],
          [
           36
          ],
          [
           31
          ],
          [
           35
          ],
          [
           37
          ],
          [
           37
          ],
          [
           43
          ],
          [
           36
          ],
          [
           31
          ],
          [
           29
          ],
          [
           38
          ],
          [
           25
          ],
          [
           37
          ],
          [
           33
          ],
          [
           31
          ],
          [
           29
          ],
          [
           30
          ],
          [
           33
          ],
          [
           31
          ],
          [
           31
          ],
          [
           30
          ],
          [
           40
          ],
          [
           84
          ],
          [
           59
          ],
          [
           33
          ],
          [
           29
          ],
          [
           37
          ],
          [
           36
          ],
          [
           31
          ],
          [
           37
          ],
          [
           33
          ],
          [
           33
          ],
          [
           28
          ],
          [
           31
          ],
          [
           37
          ],
          [
           34
          ],
          [
           44
          ],
          [
           31
          ],
          [
           36
          ],
          [
           29
          ],
          [
           35
          ],
          [
           38
          ],
          [
           39
          ],
          [
           32
          ],
          [
           34
          ],
          [
           25
          ],
          [
           84
          ],
          [
           29
          ],
          [
           29
          ],
          [
           28
          ],
          [
           36
          ],
          [
           35
          ],
          [
           42
          ],
          [
           32
          ],
          [
           39
          ],
          [
           35
          ],
          [
           29
          ],
          [
           34
          ],
          [
           84
          ],
          [
           34
          ],
          [
           33
          ],
          [
           32
          ],
          [
           31
          ],
          [
           30
          ]
         ],
         "hovertemplate": "Cluster=Cluster 3<br>PCA1=%{x}<br>PCA2=%{y}<br>Feature=%{customdata[0]}<extra></extra>",
         "legendgroup": "Cluster 3",
         "marker": {
          "color": "#ab63fa",
          "opacity": 0.5,
          "symbol": "circle"
         },
         "mode": "markers",
         "name": "Cluster 3",
         "orientation": "v",
         "showlegend": true,
         "textposition": "top center",
         "type": "scatter",
         "x": [
          22236.169474372295,
          20486.14069594547,
          32322.908553122485,
          32345.708428700607,
          32691.869561685733,
          19017.16946491752,
          39941.2373750961,
          26507.04287235993,
          22224.556143435304,
          34060.87750047385,
          25474.4027637973,
          32307.936729140958,
          34360.481807350596,
          40849.48059769064,
          24827.97878054599,
          31016.95277066789,
          24819.36094949776,
          30614.165778553583,
          25376.693266073173,
          34753.148485730824,
          31202.412682476097,
          28639.385002450512,
          31361.085267799157,
          33345.15627123121,
          23196.213306438247,
          31330.343984524803,
          23022.218263126662,
          39399.40138181151,
          25363.919226720427,
          35579.20581580631,
          32572.750272366207,
          26343.67867390248,
          36260.399857073906,
          30268.705481263303,
          23896.368807904106,
          31502.360342968248,
          23967.00608797564,
          24294.808478346356,
          26578.153196266194,
          28681.549887585774,
          40419.57669510418,
          31045.220255678796,
          31317.298064553725,
          32289.540207166658,
          35711.07999432947,
          28960.63496494679,
          31911.001239366356,
          31960.754514207274,
          26298.148410246733,
          22350.769816321583,
          21900.78530003277,
          41298.63129283508,
          26003.52243192563,
          38847.1697677608,
          26983.04636427821,
          19295.267686809584,
          25732.344972190574,
          26228.376286436214,
          24613.751980326135,
          21973.307950443846,
          34815.25492053807,
          32210.979768642417,
          38869.64945267171,
          22393.417730180143,
          32797.643669354955,
          27758.387575808218,
          30584.124615113265,
          24491.388898644745,
          37228.7347452007,
          30806.776341952802,
          32912.89206331586,
          30949.636901997957,
          25938.050496756252,
          20592.346613007783,
          39135.376223130086,
          40673.85964432748,
          18943.372817813037,
          25765.790042328375,
          22105.034591078267,
          30046.489080926083,
          30148.682673916108,
          15764.491431415849,
          31614.442565419115,
          22258.60866856992,
          32416.93987389556,
          35187.91053468467,
          32149.9212926829,
          23032.68012465128,
          38543.625122928686,
          15177.319714667685,
          25328.06996228169,
          26312.372968927542,
          32853.062283695275,
          26071.98118135926,
          29240.509748648117,
          35023.21627080031,
          36008.725359122334,
          16918.676201100145,
          23858.598240023442,
          23748.677815454066,
          34830.86603735361,
          27456.913266673124,
          38938.11813871436,
          29210.55694643971,
          33203.842568888045,
          36813.767134203976,
          30155.334159637,
          37939.71700891236,
          23470.84703332803,
          19785.994393274694,
          14006.000965365416,
          30950.10183968241,
          39513.27355543242,
          23392.942046850603,
          27412.691405421243,
          33379.42058468912,
          29861.546669621468,
          37194.90227907421,
          31253.468530449438,
          30836.978307627458,
          24706.128352845168,
          28912.895136199953,
          35036.71585548723,
          28627.259856400316,
          34834.90179465997,
          35572.71538685358,
          32561.02536006332,
          26023.566351406163,
          35758.27543553671,
          33217.92661094812
         ],
         "xaxis": "x",
         "y": [
          -4400.042331000772,
          -4804.203700356798,
          -3681.2903856818016,
          -2201.7204362153534,
          -6066.457122934573,
          -4587.056600403995,
          -5237.495032301,
          -5484.674656121096,
          -5737.014216399171,
          -5075.678351149004,
          -4541.161711915865,
          -3401.0815217687764,
          -5038.8164407421755,
          -5591.430862352506,
          -5088.608312301608,
          -4865.004407317279,
          -6443.116567478199,
          -4762.434912619335,
          -3922.3292073945404,
          -4008.5890127538983,
          -4006.880782404122,
          -3130.950539346101,
          -4837.589604607752,
          -6080.299826048201,
          -5613.714946473868,
          -5635.163544619184,
          -4439.12285942063,
          -5202.090344164466,
          -6518.877743618623,
          -6195.256515402725,
          -6711.005814772026,
          -3863.0068749343054,
          -3890.3447962612545,
          -4917.675594824385,
          -4653.572550884039,
          -5081.205331963822,
          -5918.6963935933745,
          -3156.17486773815,
          -4542.181472406768,
          -4194.112454577068,
          -6642.233640263945,
          -4354.8806735369735,
          -6141.763263553492,
          -3634.341360640738,
          -4543.481105344734,
          -5439.902381792008,
          -2672.9112969661514,
          -7950.1376799045365,
          -5023.03875519227,
          -5405.19238007051,
          -5234.914435436243,
          -6422.065006311351,
          -3786.1336424715287,
          -8209.639308093869,
          -2897.4181107781187,
          -3266.6501002799123,
          -4846.280009746116,
          -4266.4841646878,
          -3288.4642893518335,
          -5227.972306159949,
          -5108.2816705717105,
          -5806.362366658896,
          -4117.836047019011,
          -5150.746928288212,
          -5654.546848389317,
          -3524.6018820414915,
          -5198.65174378372,
          -3378.5440905478677,
          -4575.537648425251,
          -5560.2046796,
          -4588.664684244311,
          -4397.19732228479,
          -4054.2528418970837,
          -4611.587648361571,
          -4339.707016425754,
          -5771.827716588528,
          -6099.9265116751585,
          -4647.515091833698,
          -4346.187741550608,
          -2733.109485171263,
          -3727.6412226852435,
          -2149.152212076622,
          -3948.413153701506,
          -5195.925409188552,
          -3316.8737845198502,
          -4164.858385743972,
          -5508.945169399092,
          -5461.179044520952,
          -7198.063753004434,
          4253.6702688112655,
          -4507.81885275907,
          -4286.405360287331,
          -5910.595724540101,
          -4687.764619495447,
          -5240.709879901139,
          -4416.577273256115,
          -6111.705171395258,
          -2877.1946078768765,
          -4857.997302514553,
          -4085.3878885407776,
          -5377.2290211162135,
          -4868.312164441826,
          -4443.169815276386,
          -6286.356908964103,
          -6552.893169384941,
          -4615.462129870628,
          -6491.8459163020625,
          -4683.440281859748,
          -4720.248925408386,
          -4699.391527469763,
          -1775.605039983351,
          -6274.3994076764575,
          -4805.682520520936,
          -5117.926369906291,
          -5970.659605817777,
          -4139.0530440469365,
          -4210.491742797322,
          -4030.486076235748,
          -4792.820172444661,
          -4248.4109987799275,
          -6304.2868715779405,
          -5224.5544356708415,
          -6415.699536226247,
          -3324.816421778014,
          -5079.540930731743,
          -4807.665202226774,
          -5658.5291473353955,
          -7172.334785619933,
          -4122.472097486011,
          -4387.404636496323
         ],
         "yaxis": "y"
        }
       ],
       "layout": {
        "height": 600,
        "legend": {
         "title": {
          "text": "Cluster"
         },
         "tracegroupgap": 0
        },
        "margin": {
         "t": 60
        },
        "plot_bgcolor": "rgb(240,240,240)",
        "template": {
         "data": {
          "bar": [
           {
            "error_x": {
             "color": "#2a3f5f"
            },
            "error_y": {
             "color": "#2a3f5f"
            },
            "marker": {
             "line": {
              "color": "#E5ECF6",
              "width": 0.5
             }
            },
            "type": "bar"
           }
          ],
          "barpolar": [
           {
            "marker": {
             "line": {
              "color": "#E5ECF6",
              "width": 0.5
             }
            },
            "type": "barpolar"
           }
          ],
          "carpet": [
           {
            "aaxis": {
             "endlinecolor": "#2a3f5f",
             "gridcolor": "white",
             "linecolor": "white",
             "minorgridcolor": "white",
             "startlinecolor": "#2a3f5f"
            },
            "baxis": {
             "endlinecolor": "#2a3f5f",
             "gridcolor": "white",
             "linecolor": "white",
             "minorgridcolor": "white",
             "startlinecolor": "#2a3f5f"
            },
            "type": "carpet"
           }
          ],
          "choropleth": [
           {
            "colorbar": {
             "outlinewidth": 0,
             "ticks": ""
            },
            "type": "choropleth"
           }
          ],
          "contour": [
           {
            "colorbar": {
             "outlinewidth": 0,
             "ticks": ""
            },
            "colorscale": [
             [
              0,
              "#0d0887"
             ],
             [
              0.1111111111111111,
              "#46039f"
             ],
             [
              0.2222222222222222,
              "#7201a8"
             ],
             [
              0.3333333333333333,
              "#9c179e"
             ],
             [
              0.4444444444444444,
              "#bd3786"
             ],
             [
              0.5555555555555556,
              "#d8576b"
             ],
             [
              0.6666666666666666,
              "#ed7953"
             ],
             [
              0.7777777777777778,
              "#fb9f3a"
             ],
             [
              0.8888888888888888,
              "#fdca26"
             ],
             [
              1,
              "#f0f921"
             ]
            ],
            "type": "contour"
           }
          ],
          "contourcarpet": [
           {
            "colorbar": {
             "outlinewidth": 0,
             "ticks": ""
            },
            "type": "contourcarpet"
           }
          ],
          "heatmap": [
           {
            "colorbar": {
             "outlinewidth": 0,
             "ticks": ""
            },
            "colorscale": [
             [
              0,
              "#0d0887"
             ],
             [
              0.1111111111111111,
              "#46039f"
             ],
             [
              0.2222222222222222,
              "#7201a8"
             ],
             [
              0.3333333333333333,
              "#9c179e"
             ],
             [
              0.4444444444444444,
              "#bd3786"
             ],
             [
              0.5555555555555556,
              "#d8576b"
             ],
             [
              0.6666666666666666,
              "#ed7953"
             ],
             [
              0.7777777777777778,
              "#fb9f3a"
             ],
             [
              0.8888888888888888,
              "#fdca26"
             ],
             [
              1,
              "#f0f921"
             ]
            ],
            "type": "heatmap"
           }
          ],
          "heatmapgl": [
           {
            "colorbar": {
             "outlinewidth": 0,
             "ticks": ""
            },
            "colorscale": [
             [
              0,
              "#0d0887"
             ],
             [
              0.1111111111111111,
              "#46039f"
             ],
             [
              0.2222222222222222,
              "#7201a8"
             ],
             [
              0.3333333333333333,
              "#9c179e"
             ],
             [
              0.4444444444444444,
              "#bd3786"
             ],
             [
              0.5555555555555556,
              "#d8576b"
             ],
             [
              0.6666666666666666,
              "#ed7953"
             ],
             [
              0.7777777777777778,
              "#fb9f3a"
             ],
             [
              0.8888888888888888,
              "#fdca26"
             ],
             [
              1,
              "#f0f921"
             ]
            ],
            "type": "heatmapgl"
           }
          ],
          "histogram": [
           {
            "marker": {
             "colorbar": {
              "outlinewidth": 0,
              "ticks": ""
             }
            },
            "type": "histogram"
           }
          ],
          "histogram2d": [
           {
            "colorbar": {
             "outlinewidth": 0,
             "ticks": ""
            },
            "colorscale": [
             [
              0,
              "#0d0887"
             ],
             [
              0.1111111111111111,
              "#46039f"
             ],
             [
              0.2222222222222222,
              "#7201a8"
             ],
             [
              0.3333333333333333,
              "#9c179e"
             ],
             [
              0.4444444444444444,
              "#bd3786"
             ],
             [
              0.5555555555555556,
              "#d8576b"
             ],
             [
              0.6666666666666666,
              "#ed7953"
             ],
             [
              0.7777777777777778,
              "#fb9f3a"
             ],
             [
              0.8888888888888888,
              "#fdca26"
             ],
             [
              1,
              "#f0f921"
             ]
            ],
            "type": "histogram2d"
           }
          ],
          "histogram2dcontour": [
           {
            "colorbar": {
             "outlinewidth": 0,
             "ticks": ""
            },
            "colorscale": [
             [
              0,
              "#0d0887"
             ],
             [
              0.1111111111111111,
              "#46039f"
             ],
             [
              0.2222222222222222,
              "#7201a8"
             ],
             [
              0.3333333333333333,
              "#9c179e"
             ],
             [
              0.4444444444444444,
              "#bd3786"
             ],
             [
              0.5555555555555556,
              "#d8576b"
             ],
             [
              0.6666666666666666,
              "#ed7953"
             ],
             [
              0.7777777777777778,
              "#fb9f3a"
             ],
             [
              0.8888888888888888,
              "#fdca26"
             ],
             [
              1,
              "#f0f921"
             ]
            ],
            "type": "histogram2dcontour"
           }
          ],
          "mesh3d": [
           {
            "colorbar": {
             "outlinewidth": 0,
             "ticks": ""
            },
            "type": "mesh3d"
           }
          ],
          "parcoords": [
           {
            "line": {
             "colorbar": {
              "outlinewidth": 0,
              "ticks": ""
             }
            },
            "type": "parcoords"
           }
          ],
          "pie": [
           {
            "automargin": true,
            "type": "pie"
           }
          ],
          "scatter": [
           {
            "marker": {
             "colorbar": {
              "outlinewidth": 0,
              "ticks": ""
             }
            },
            "type": "scatter"
           }
          ],
          "scatter3d": [
           {
            "line": {
             "colorbar": {
              "outlinewidth": 0,
              "ticks": ""
             }
            },
            "marker": {
             "colorbar": {
              "outlinewidth": 0,
              "ticks": ""
             }
            },
            "type": "scatter3d"
           }
          ],
          "scattercarpet": [
           {
            "marker": {
             "colorbar": {
              "outlinewidth": 0,
              "ticks": ""
             }
            },
            "type": "scattercarpet"
           }
          ],
          "scattergeo": [
           {
            "marker": {
             "colorbar": {
              "outlinewidth": 0,
              "ticks": ""
             }
            },
            "type": "scattergeo"
           }
          ],
          "scattergl": [
           {
            "marker": {
             "colorbar": {
              "outlinewidth": 0,
              "ticks": ""
             }
            },
            "type": "scattergl"
           }
          ],
          "scattermapbox": [
           {
            "marker": {
             "colorbar": {
              "outlinewidth": 0,
              "ticks": ""
             }
            },
            "type": "scattermapbox"
           }
          ],
          "scatterpolar": [
           {
            "marker": {
             "colorbar": {
              "outlinewidth": 0,
              "ticks": ""
             }
            },
            "type": "scatterpolar"
           }
          ],
          "scatterpolargl": [
           {
            "marker": {
             "colorbar": {
              "outlinewidth": 0,
              "ticks": ""
             }
            },
            "type": "scatterpolargl"
           }
          ],
          "scatterternary": [
           {
            "marker": {
             "colorbar": {
              "outlinewidth": 0,
              "ticks": ""
             }
            },
            "type": "scatterternary"
           }
          ],
          "surface": [
           {
            "colorbar": {
             "outlinewidth": 0,
             "ticks": ""
            },
            "colorscale": [
             [
              0,
              "#0d0887"
             ],
             [
              0.1111111111111111,
              "#46039f"
             ],
             [
              0.2222222222222222,
              "#7201a8"
             ],
             [
              0.3333333333333333,
              "#9c179e"
             ],
             [
              0.4444444444444444,
              "#bd3786"
             ],
             [
              0.5555555555555556,
              "#d8576b"
             ],
             [
              0.6666666666666666,
              "#ed7953"
             ],
             [
              0.7777777777777778,
              "#fb9f3a"
             ],
             [
              0.8888888888888888,
              "#fdca26"
             ],
             [
              1,
              "#f0f921"
             ]
            ],
            "type": "surface"
           }
          ],
          "table": [
           {
            "cells": {
             "fill": {
              "color": "#EBF0F8"
             },
             "line": {
              "color": "white"
             }
            },
            "header": {
             "fill": {
              "color": "#C8D4E3"
             },
             "line": {
              "color": "white"
             }
            },
            "type": "table"
           }
          ]
         },
         "layout": {
          "annotationdefaults": {
           "arrowcolor": "#2a3f5f",
           "arrowhead": 0,
           "arrowwidth": 1
          },
          "coloraxis": {
           "colorbar": {
            "outlinewidth": 0,
            "ticks": ""
           }
          },
          "colorscale": {
           "diverging": [
            [
             0,
             "#8e0152"
            ],
            [
             0.1,
             "#c51b7d"
            ],
            [
             0.2,
             "#de77ae"
            ],
            [
             0.3,
             "#f1b6da"
            ],
            [
             0.4,
             "#fde0ef"
            ],
            [
             0.5,
             "#f7f7f7"
            ],
            [
             0.6,
             "#e6f5d0"
            ],
            [
             0.7,
             "#b8e186"
            ],
            [
             0.8,
             "#7fbc41"
            ],
            [
             0.9,
             "#4d9221"
            ],
            [
             1,
             "#276419"
            ]
           ],
           "sequential": [
            [
             0,
             "#0d0887"
            ],
            [
             0.1111111111111111,
             "#46039f"
            ],
            [
             0.2222222222222222,
             "#7201a8"
            ],
            [
             0.3333333333333333,
             "#9c179e"
            ],
            [
             0.4444444444444444,
             "#bd3786"
            ],
            [
             0.5555555555555556,
             "#d8576b"
            ],
            [
             0.6666666666666666,
             "#ed7953"
            ],
            [
             0.7777777777777778,
             "#fb9f3a"
            ],
            [
             0.8888888888888888,
             "#fdca26"
            ],
            [
             1,
             "#f0f921"
            ]
           ],
           "sequentialminus": [
            [
             0,
             "#0d0887"
            ],
            [
             0.1111111111111111,
             "#46039f"
            ],
            [
             0.2222222222222222,
             "#7201a8"
            ],
            [
             0.3333333333333333,
             "#9c179e"
            ],
            [
             0.4444444444444444,
             "#bd3786"
            ],
            [
             0.5555555555555556,
             "#d8576b"
            ],
            [
             0.6666666666666666,
             "#ed7953"
            ],
            [
             0.7777777777777778,
             "#fb9f3a"
            ],
            [
             0.8888888888888888,
             "#fdca26"
            ],
            [
             1,
             "#f0f921"
            ]
           ]
          },
          "colorway": [
           "#636efa",
           "#EF553B",
           "#00cc96",
           "#ab63fa",
           "#FFA15A",
           "#19d3f3",
           "#FF6692",
           "#B6E880",
           "#FF97FF",
           "#FECB52"
          ],
          "font": {
           "color": "#2a3f5f"
          },
          "geo": {
           "bgcolor": "white",
           "lakecolor": "white",
           "landcolor": "#E5ECF6",
           "showlakes": true,
           "showland": true,
           "subunitcolor": "white"
          },
          "hoverlabel": {
           "align": "left"
          },
          "hovermode": "closest",
          "mapbox": {
           "style": "light"
          },
          "paper_bgcolor": "white",
          "plot_bgcolor": "#E5ECF6",
          "polar": {
           "angularaxis": {
            "gridcolor": "white",
            "linecolor": "white",
            "ticks": ""
           },
           "bgcolor": "#E5ECF6",
           "radialaxis": {
            "gridcolor": "white",
            "linecolor": "white",
            "ticks": ""
           }
          },
          "scene": {
           "xaxis": {
            "backgroundcolor": "#E5ECF6",
            "gridcolor": "white",
            "gridwidth": 2,
            "linecolor": "white",
            "showbackground": true,
            "ticks": "",
            "zerolinecolor": "white"
           },
           "yaxis": {
            "backgroundcolor": "#E5ECF6",
            "gridcolor": "white",
            "gridwidth": 2,
            "linecolor": "white",
            "showbackground": true,
            "ticks": "",
            "zerolinecolor": "white"
           },
           "zaxis": {
            "backgroundcolor": "#E5ECF6",
            "gridcolor": "white",
            "gridwidth": 2,
            "linecolor": "white",
            "showbackground": true,
            "ticks": "",
            "zerolinecolor": "white"
           }
          },
          "shapedefaults": {
           "line": {
            "color": "#2a3f5f"
           }
          },
          "ternary": {
           "aaxis": {
            "gridcolor": "white",
            "linecolor": "white",
            "ticks": ""
           },
           "baxis": {
            "gridcolor": "white",
            "linecolor": "white",
            "ticks": ""
           },
           "bgcolor": "#E5ECF6",
           "caxis": {
            "gridcolor": "white",
            "linecolor": "white",
            "ticks": ""
           }
          },
          "title": {
           "x": 0.05
          },
          "xaxis": {
           "automargin": true,
           "gridcolor": "white",
           "linecolor": "white",
           "ticks": "",
           "title": {
            "standoff": 15
           },
           "zerolinecolor": "white",
           "zerolinewidth": 2
          },
          "yaxis": {
           "automargin": true,
           "gridcolor": "white",
           "linecolor": "white",
           "ticks": "",
           "title": {
            "standoff": 15
           },
           "zerolinecolor": "white",
           "zerolinewidth": 2
          }
         }
        },
        "title": {
         "text": "2D Cluster PCA Plot"
        },
        "xaxis": {
         "anchor": "y",
         "domain": [
          0,
          1
         ],
         "title": {
          "text": "PCA1"
         }
        },
        "yaxis": {
         "anchor": "x",
         "domain": [
          0,
          1
         ],
         "title": {
          "text": "PCA2"
         }
        }
       }
      },
      "text/html": [
       "<div>\n",
       "        \n",
       "        \n",
       "            <div id=\"0fe8d128-0c27-4c67-bf4c-500d287234a9\" class=\"plotly-graph-div\" style=\"height:600px; width:100%;\"></div>\n",
       "            <script type=\"text/javascript\">\n",
       "                require([\"plotly\"], function(Plotly) {\n",
       "                    window.PLOTLYENV=window.PLOTLYENV || {};\n",
       "                    \n",
       "                if (document.getElementById(\"0fe8d128-0c27-4c67-bf4c-500d287234a9\")) {\n",
       "                    Plotly.newPlot(\n",
       "                        '0fe8d128-0c27-4c67-bf4c-500d287234a9',\n",
       "                        [{\"customdata\": [[58], [58], [55], [60], [56], [60], [58], [56], [64], [63], [62], [59], [67], [58], [58], [57], [66], [64], [59], [68], [61], [64], [63], [55], [57], [57], [53], [61], [61], [62], [62], [62], [60], [65], [60], [63], [56], [58], [62], [56], [59], [65], [62], [59], [66], [64], [62], [61], [56], [62], [60], [62], [64], [63], [58], [59], [59], [59], [59], [55], [51], [57], [61], [60], [64], [65], [59], [58], [63], [61], [59], [56], [61], [63], [58], [62], [60], [62], [65], [59], [65], [58], [61], [66], [58], [68], [58], [67], [58], [56], [61], [56], [61], [59], [62], [59], [59], [59], [57], [59], [64], [61], [63], [56], [59], [58], [61], [55], [59], [60], [60], [67], [57], [56], [67], [63], [57], [53], [55], [59], [53], [58], [55], [55], [61], [59], [66], [59], [62], [59], [56], [58], [61], [60], [64], [61], [62], [57], [58], [63], [56], [58], [61], [57], [61], [60], [66], [64], [61], [55], [59], [62], [59], [54], [58], [57]], \"hovertemplate\": \"Cluster=Cluster 0<br>PCA1=%{x}<br>PCA2=%{y}<br>Feature=%{customdata[0]}<extra></extra>\", \"legendgroup\": \"Cluster 0\", \"marker\": {\"color\": \"#636efa\", \"opacity\": 0.5, \"symbol\": \"circle\"}, \"mode\": \"markers\", \"name\": \"Cluster 0\", \"orientation\": \"v\", \"showlegend\": true, \"textposition\": \"top center\", \"type\": \"scatter\", \"x\": [2555.784235160261, 8122.080380415545, 871.0561448640472, -7740.904879089721, -15159.90191624567, -9955.599000501968, 5073.487356522347, -7927.279393999562, -10817.514881421734, -182.87509706289833, -12401.01261442263, 384.4886537787887, -15876.014194933867, 2392.9514000132344, -4856.160277619079, -9604.976101231396, -3578.641166763734, 3594.042421690832, -5713.304475031715, 2456.1149429108823, -4025.5345868614927, 1223.3332842063564, -18377.08091916089, -1254.7961050822737, 1380.9095854822622, -5506.504775277298, -284.9346161317465, -1867.501195205515, -4335.121223668247, -8175.944783841652, -11570.01362947229, -12594.175242128531, -3881.279223544832, -9447.56695701966, -4595.725467462923, 5567.478117111808, 9121.20832982618, 499.4966180961362, -4176.722631704309, -6529.597912750252, -7423.928769536229, -9153.992100917842, 4864.683651412999, -7249.028129796928, 7325.256189492691, 1198.2155272857258, -6945.490220855899, -5628.983771409207, -6874.447300583782, 3175.7301008876816, -10072.87511880353, -5806.077052611819, 11039.026942031709, -5414.849621380295, 3385.8220491313223, -3902.6507601274034, 277.3194547180382, -18832.323089995094, -7793.454352086524, -10419.650727093273, -3127.7464754071802, -3147.971690102397, 3607.6218475354476, -805.5182840466938, -12402.61400603574, -811.2733012583036, -7981.746810683437, 2868.675335891813, 7034.566991846876, -7827.504392605745, -7225.656651496554, -9823.292971418652, -3197.770674931708, -4661.643199436443, -4588.845682887327, -1424.2968527852477, -11770.096221904689, -7431.169946592948, -4794.7301859724585, -5787.584457334288, -4114.665812502666, -4883.720561797811, -967.1345292294807, 1855.047986918684, 3333.0370081988926, -6270.1300577046395, -6075.723945911872, 3574.8676282851325, 834.6063416853558, 375.6120252474172, -3222.0284971176457, 3735.222300120547, -9600.009525716894, 2663.814142724261, -5898.744479681149, -6051.798027149634, 5619.125538763628, -2220.6354506100643, -10371.487057071712, -1864.5940590614414, -3536.624899618866, -9270.983246113969, -7793.211508914163, 5122.28256229892, 7017.407229806953, 4968.764645874576, -6214.354917756371, 1547.912439559428, -1709.0067116984378, -5149.41455296631, -9176.939917160442, 5679.9350322555565, 4615.604589783897, -1755.3663563989885, -6586.375015596346, -2329.6167597527665, -1148.5927138363113, 1535.3200349238698, -3652.051627219516, -2601.8696283459435, -13124.391604038405, 1797.8692846207548, 3442.067865401048, -847.3002227743357, 1691.1469990055025, -9514.742122293766, -2630.7941352081816, -5495.930030665683, -1710.009100629774, -860.435447795382, -11393.26428138904, -5327.512619806881, -1006.794280892693, 4848.442764387983, 13091.374153516677, -2009.7086141751709, -5414.451723823094, 106.44730783000088, -4972.922141129966, 10499.40729594558, 11129.424149229611, -4333.3531714953115, -11385.807297750884, 4241.7758951530495, -3354.4093954920513, -5228.773548143096, -10238.837928743036, -14757.626854505608, -6112.701966838934, -4197.995995572502, 6644.597612798234, -611.892076683546, -879.6961231840177, 1270.592618636515, -907.6690876091155, 1381.2925438038976], \"xaxis\": \"x\", \"y\": [5164.690387393601, 4731.012058760929, 5689.000453091911, 5133.63947168739, 5573.243592768729, 4085.3122504461226, 5244.436809348919, 5673.527728610805, 6677.482101590938, 4411.324353776286, 6731.622371228143, 6845.141814371283, 7337.4625843307695, 5992.68409410971, 6861.841710581507, 5517.456998799793, 4687.331305792247, 5244.223767536207, 6098.40717149921, 5539.978254276128, 5644.552199614271, 5666.367954752703, 5086.374324713104, 6380.9154942927935, 5567.112673818733, 6298.430178867737, 4064.0083360808107, 2685.662685436797, 2658.2975188904143, 5599.274828311294, 6393.584927460237, 5058.593507665867, 3532.7508016456372, 6026.370137728773, 4575.315245883316, 6399.67945792858, 4076.1888638584996, 4450.572465085803, 5121.948177991021, 5174.060016070752, 5595.425208078429, 6237.4550067498, 4834.953991865888, 5030.101509904846, 5245.750156657966, 6031.597780098121, 5240.283697626606, 3413.4609900340347, 3266.4701832643796, 4727.07981305535, 7033.832306225475, 5686.132349951809, 4384.687289531573, 4509.378948047732, 4513.159427781258, 5499.339332721768, 5152.077722121316, 6823.253328040568, 5788.853893383749, 5982.858221439133, 5318.281993622225, 5506.996622913863, 4852.444518767339, 4348.095679784138, 4277.420432790431, 4771.515153180695, 3467.5659749114207, 5223.642330390358, 3374.2871342934286, 5701.697575023513, 4564.617621855318, 6862.24757208061, 5127.949261280456, 4875.412034392042, 4468.268102563844, 7267.328542397006, 5001.4207831968515, 6342.036901878029, 5174.470545977294, 5711.62839326697, 3078.8964384945934, 4688.370746949258, 4638.7242406741525, 5468.743274286699, 4012.2154933423167, 5401.82169696717, 3500.596454313255, 6638.189488143048, 5141.101367432593, 5049.606296947776, 4129.181189416358, 4370.467828822719, 4923.281603355224, 3399.120354730324, 5205.840154213879, 6221.683453940021, 4314.80390898497, 4177.140129281851, 6211.274488459201, 5267.352553209777, 5070.413098436326, 5996.549152653395, 6334.2432519820495, 3424.073603905289, 5588.800602998207, 3943.117073633913, 8154.200533863809, 3973.9069974865133, 3684.6952959403598, 5556.66613913382, 7146.662858252779, 4711.285967238694, 5713.442041909505, 4273.205301847636, 4795.6596223076, 6502.207882775594, 6154.518606181516, 6617.1434044688585, 4298.147934215799, 5720.0639106318495, 5122.298575466134, 3616.9066222648635, 3293.9257098257863, 5435.293808150465, 4305.60551337014, 5484.062210130751, 5512.809888472103, 5033.927181148625, 5692.091704359402, 1366.2175061913908, 4760.726683836121, 5507.674538617935, 6827.73675228087, 6716.389270082329, 3878.0740056043546, 4571.311601888516, 6401.496850378557, 5019.545071865862, 5053.9743944823085, 4092.586810582497, 2451.395645635494, 6791.121727987131, 5239.834486252132, 4854.373611538008, 4039.049708218609, 4906.82136911701, 7423.315368546436, 5008.0121037786075, 7150.2656862042095, 4646.423038232097, 6074.108821940041, 2642.8564628733116, 4574.029852480233, 4918.861099714737, 4662.571801362163, 5207.221097509011], \"yaxis\": \"y\"}, {\"customdata\": [[91], [87], [89], [93], [90], [88], [94], [90], [92], [83], [86], [83], [82], [94], [87], [83], [86], [88], [84], [87], [91], [90], [88], [83], [85], [87], [91], [88], [91], [86], [88], [84], [90], [91], [90], [87], [87], [84], [91], [88], [85], [91], [83], [92], [87], [85], [94], [86], [92], [84], [83], [87], [90], [87], [88], [86], [84], [90], [91], [92], [97], [84], [92], [87], [91], [93], [90], [84], [87], [82], [90], [83], [91], [84], [88], [91], [84], [87], [89], [94], [86], [79], [86], [85], [92], [89], [88], [87], [90], [89], [79], [82], [87], [91], [86], [89], [83], [82], [89], [91], [94], [85], [85], [85], [88], [94], [90], [88], [91], [89], [88], [87], [93], [88], [82], [85], [89], [89], [84], [87], [87], [85], [86], [89], [95], [88], [87], [92], [91], [89], [92], [83], [91], [91], [85], [81], [88], [91], [85], [84], [94], [88], [83], [89], [88], [84], [84]], \"hovertemplate\": \"Cluster=Cluster 1<br>PCA1=%{x}<br>PCA2=%{y}<br>Feature=%{customdata[0]}<extra></extra>\", \"legendgroup\": \"Cluster 1\", \"marker\": {\"color\": \"#EF553B\", \"opacity\": 0.5, \"symbol\": \"circle\"}, \"mode\": \"markers\", \"name\": \"Cluster 1\", \"orientation\": \"v\", \"showlegend\": true, \"textposition\": \"top center\", \"type\": \"scatter\", \"x\": [-50504.82314273774, -45504.928216643886, -48762.36466827122, -58127.503870270055, -42253.87287795825, -57750.75774612393, -48448.189821393426, -42485.19893050842, -53329.08890863797, -52508.30353343576, -39916.59061152693, -45053.50115134019, -42172.09142372817, -56820.08755360428, -52745.27199507387, -42546.30928703386, -43811.47262039392, -40724.15688509666, -37730.7693406082, -28723.99191956603, -48867.334224124774, -45508.35388587769, -43012.76978349143, -47072.832708278824, -46206.7607091729, -44821.271955370976, -51304.42079121022, -56178.67327005181, -63634.72200273959, -56854.24491468413, -49206.07297923623, -57516.27318363644, -53514.36608306828, -39063.28667619093, -50029.04867348445, -63656.347589980156, -52350.13688160771, -53484.99044797623, -49274.442396159335, -48459.57885316468, -54413.15855352478, -47000.171708792936, -57495.82751822282, -40276.44813108958, -49083.9890444835, -53905.330808706705, -51858.95285225978, -48031.60033869837, -53120.54070874585, -48086.47161506784, -41229.085326467924, -33223.78792758694, -46621.6751899209, -57945.294009393816, -44316.39097613654, -52219.788910263276, -45243.33599570983, -52877.3816460334, -47591.225111220025, -56895.33602609469, -48338.70466261935, -39255.47386551349, -39730.754923732005, -45889.161245283976, -44891.726940178174, -55837.896212559106, -40392.523538135785, -51590.972058113046, -44207.36919669008, -42152.50281937877, -51240.79467490212, -45148.062146087934, -46108.564418073154, -55003.11473536297, -53103.84791289734, -48496.847924973066, -48329.37521986345, -50055.78756429359, -50446.68725850562, -36822.8827299011, -46897.287204841865, -37510.588011321204, -39708.64698966351, -47211.30921897943, -42194.79873495245, -41047.37636685034, -57888.98693798619, -45592.66271459649, -38257.01252267872, -47490.05337363709, -43219.570630798, -51335.696362198054, -59885.18345080092, -52957.616291781, -60035.35573518635, -53680.72058527793, -48890.162042831675, -51459.51350546345, -45316.581406095596, -58771.330100436215, -47366.64939309716, -49427.52413702615, -47271.41327624214, -46522.919419751204, -47129.84416342064, -47975.629894303725, -42382.698832036236, -42594.243001933, -45489.12002421865, -42432.64509966229, -47339.947334108285, -57176.867806106064, -55300.43835611651, -46888.40589877379, -43231.47790879882, -41090.43271162368, -56491.72616160147, -55368.98427568013, -48469.75822555579, -49952.56386424758, -51191.183110267986, -47927.75615335328, -28705.21282676983, -49610.67501015972, -48754.55322293149, -42334.04767150636, -49618.56425158393, -39882.02333138306, -38870.67264138037, -51006.625967171814, -42805.174693662324, -47148.04950665262, -46752.17189114911, -49855.3602390612, -44945.69901444303, -41272.89533986183, -58306.89374121135, -55116.83601816841, -40907.25147798811, -46294.69652581512, -54957.49098917237, -49640.51633393594, -41183.65207165714, -44680.89350931927, -41654.28537091673, -33685.823037835034, -48254.00622992492], \"xaxis\": \"x\", \"y\": [-2541.1040744024194, -1656.4250558163035, -1902.3037525718112, -3329.424155750388, -2813.4088657561015, -1546.7860227984631, -424.49445160246916, -1573.1293339464667, -3704.1152030668813, -2003.3795586148929, -5860.406970913428, -3267.853088065966, -3482.9509244203127, -2626.4947601230397, -3270.250012030124, -2323.9550250667403, -3844.0506429942807, -3403.3549980948774, -3447.522865699351, -1283.249341684218, -3330.095089314261, -1716.095751517993, -2388.3975155671847, -3652.143022077503, -3972.4372911141963, -809.247850406612, -1341.642150499336, -1450.7318688866608, -958.5365645110754, -1039.8869670204483, 646.5438723752051, -2662.2379174130565, -3511.6505427575576, -2178.9512608782647, -2907.79818013549, -672.1303645870983, -1271.8366968001806, -2964.8711615389416, -1819.1411133435647, -623.0248233972338, -1055.996893175367, -3258.592731249428, -874.5938320396222, -3159.403065288737, -2706.95424585954, 776.7213551828818, -1998.3145148841247, -2520.8796709258963, -2373.906852113614, -3267.664533478743, -559.8887343311553, -4327.599800404023, -1061.3928297006262, -1690.2235244245387, -1681.1078093986146, -361.82287722905875, -2386.744670387968, -1034.046286118067, -2876.0168218541603, -219.83567344031889, -296.9479102201345, -2456.062469507204, -3215.3117531036173, -3656.8600405231196, -1059.5099705589153, -2913.1513261933897, -1918.0706539765345, -1709.6809922654022, -1788.595019255137, -3595.426499455153, -337.5831102994571, -918.443541374456, -4704.900718140076, -1806.3716349634747, -1838.6646455566588, -1255.0231217175185, -2106.9565485318553, -458.73293797346736, -1789.8310613735036, -3004.13592503573, -1500.5997535503452, -2385.93067359997, -2812.640832274525, -497.02873214681364, -2831.2449726497744, 163.00860194240784, -2297.410428456014, -1858.7415428672732, -3209.70569985512, -1025.6556377131574, -982.637404545742, -2253.3249547903124, 968.1821841701767, -512.1681616652345, -2067.785202202857, -1523.1531827794754, -3117.043572435123, -1443.6312210611663, 72.34189620852707, -1946.425634881532, -2226.523883594681, -3282.4967836895153, -1422.2632521531448, -2395.1506203279087, -2166.9455265130227, -2697.4806496368706, -1026.2178281219408, -4573.135949676129, -857.2365574199104, -2804.317598781816, -2756.2104567652136, -500.38222602903465, -2379.4453929525334, -1747.2845158743742, -2464.366506729346, -2507.468037848856, -1529.9495201383818, -990.6075970316525, -975.0110199269358, -1016.3628176053346, -2999.0481368530045, 1139.0677249894093, -2125.5165732968308, -2494.3460158547678, -3476.7575329414044, -946.4427010468262, -1200.4987085746998, -3145.8388116696287, -4966.632983631627, 1229.6342021038008, -2383.9235864924326, -948.170032003413, -4260.667936777422, -2551.640945867299, -2663.436303414357, -2039.0519450914762, -1498.3070625904002, -3386.6313874278344, -2247.723098069758, -3445.1407626668743, -1273.034090967152, -2403.4526565005253, -2299.1775764582503, -3320.2381091067405, -1284.2763352326, -2359.9810608524353, -3586.39291233936], \"yaxis\": \"y\"}, {\"customdata\": [[21], [34], [17], [20], [77], [91], [93], [21], [28], [30], [20], [26], [26], [88], [92], [27], [25], [88], [87], [24], [20], [23], [84], [27], [31], [17], [86], [24], [86], [25], [28], [24], [28], [17], [24], [89], [17], [82], [27], [29], [24], [29], [24], [22], [26], [83], [90], [82], [22], [25], [23], [28], [90], [26], [25], [24], [29], [28], [83], [22], [25], [29], [23], [83], [18], [26], [32], [85], [25], [23], [18], [28]], \"hovertemplate\": \"Cluster=Cluster 2<br>PCA1=%{x}<br>PCA2=%{y}<br>Feature=%{customdata[0]}<extra></extra>\", \"legendgroup\": \"Cluster 2\", \"marker\": {\"color\": \"#00cc96\", \"opacity\": 0.5, \"symbol\": \"circle\"}, \"mode\": \"markers\", \"name\": \"Cluster 2\", \"orientation\": \"v\", \"showlegend\": true, \"textposition\": \"top center\", \"type\": \"scatter\", \"x\": [48602.57111184025, 44074.744322679515, 48697.328544410004, 53899.234059979615, 52844.214540832145, 43084.43130106837, 50874.59373315185, 54542.560260911334, 52465.03358665995, 47549.762546227124, 47415.38916240537, 52086.38065892726, 50397.08389773139, 47964.55226138693, 47182.0685815558, 47518.88131856797, 55783.428858014966, 44952.90203538894, 41859.154369975586, 61617.256021857254, 54230.31142047666, 45049.71303774852, 46993.64108790839, 49923.232402586356, 47836.448391826896, 61085.16181542695, 48577.245944563685, 45280.29645748767, 52679.13742245059, 45728.401144344156, 48281.96476402195, 55795.997914964, 41933.87634909214, 59798.174828499774, 59239.853528398184, 43861.7470910255, 59803.045579193065, 50433.851384533344, 46271.749990668155, 56449.67813828146, 52263.4941087445, 43600.21618030979, 53976.79000263134, 58984.55027496732, 47842.883679066545, 41580.27174463823, 48410.00929047229, 45920.3038460076, 57857.289056922345, 55809.60825993985, 51395.22435599955, 48029.23598296095, 42045.7957025714, 56651.45548374753, 53422.55248570129, 59196.593086339155, 66750.62108457659, 53924.59703955881, 42157.805428700995, 45302.57090416747, 55168.45154506193, 47210.611284129656, 63317.06653244297, 43629.01273923754, 48551.89779119269, 51532.47005840455, 41328.252663310006, 42414.13984409394, 62912.45709780574, 54778.91990969148, 55587.35173073364, 46000.8024846996], \"xaxis\": \"x\", \"y\": [6249.537360930083, -6307.669140625975, 5282.497809754309, 3176.7468854090907, -5677.667475551909, -4660.855622444506, -5178.052813440067, 4193.8829993723075, 3371.533065013099, 3437.8964823947813, 4709.388807631827, 3388.4270346813755, 2890.550968564705, -4397.186114919675, -4557.716601791874, 4941.999362973272, 4732.087714707707, -4985.5148012203945, -4543.326267067192, 6726.313750520615, 3238.428770323685, 4590.872583456106, -4647.1290885886465, 6048.724079227708, 6059.98332337455, 4243.721728508765, -6305.307759672726, 4437.356566167741, -4749.057025715362, 3658.306501252221, 8499.966944599806, 4252.8975407069975, 4717.997205237609, 4315.751792559066, 4745.144589124809, -6877.035883382065, 8450.307562492613, -6854.206134077954, 4207.414796612183, 5101.398697367522, 5916.358054129832, -5657.478831520006, 5488.389984582108, 3350.711617933647, 4758.188729714916, -5615.5607724086385, -5693.665441157445, -4953.921129423358, 5717.501137167644, 3879.149733262659, 5657.241494980818, 5422.323757682563, -3106.1034758683554, 4271.292185091136, 3894.235479127751, 3903.974926815371, 2693.008186621752, 5765.842845736466, -5954.454601851142, 3778.181421309608, 4016.9816222016157, 6674.234677495917, 4946.177510120511, -6254.840941209122, 4668.214697412172, 6006.733833662532, -4823.6458993355955, -5432.2818195096415, 5261.355213266391, 4629.791365281098, 3427.1351952588097, 3884.4528513190853], \"yaxis\": \"y\"}, {\"customdata\": [[28], [30], [31], [31], [35], [28], [86], [34], [30], [36], [28], [31], [35], [33], [28], [27], [39], [30], [30], [32], [37], [36], [33], [22], [34], [31], [34], [38], [31], [85], [32], [32], [28], [29], [33], [34], [36], [30], [35], [31], [31], [33], [35], [37], [29], [38], [30], [37], [30], [36], [37], [35], [35], [88], [31], [33], [31], [29], [33], [26], [24], [36], [33], [34], [30], [34], [33], [36], [31], [35], [37], [37], [43], [36], [31], [29], [38], [25], [37], [33], [31], [29], [30], [33], [31], [31], [30], [40], [84], [59], [33], [29], [37], [36], [31], [37], [33], [33], [28], [31], [37], [34], [44], [31], [36], [29], [35], [38], [39], [32], [34], [25], [84], [29], [29], [28], [36], [35], [42], [32], [39], [35], [29], [34], [84], [34], [33], [32], [31], [30]], \"hovertemplate\": \"Cluster=Cluster 3<br>PCA1=%{x}<br>PCA2=%{y}<br>Feature=%{customdata[0]}<extra></extra>\", \"legendgroup\": \"Cluster 3\", \"marker\": {\"color\": \"#ab63fa\", \"opacity\": 0.5, \"symbol\": \"circle\"}, \"mode\": \"markers\", \"name\": \"Cluster 3\", \"orientation\": \"v\", \"showlegend\": true, \"textposition\": \"top center\", \"type\": \"scatter\", \"x\": [22236.169474372295, 20486.14069594547, 32322.908553122485, 32345.708428700607, 32691.869561685733, 19017.16946491752, 39941.2373750961, 26507.04287235993, 22224.556143435304, 34060.87750047385, 25474.4027637973, 32307.936729140958, 34360.481807350596, 40849.48059769064, 24827.97878054599, 31016.95277066789, 24819.36094949776, 30614.165778553583, 25376.693266073173, 34753.148485730824, 31202.412682476097, 28639.385002450512, 31361.085267799157, 33345.15627123121, 23196.213306438247, 31330.343984524803, 23022.218263126662, 39399.40138181151, 25363.919226720427, 35579.20581580631, 32572.750272366207, 26343.67867390248, 36260.399857073906, 30268.705481263303, 23896.368807904106, 31502.360342968248, 23967.00608797564, 24294.808478346356, 26578.153196266194, 28681.549887585774, 40419.57669510418, 31045.220255678796, 31317.298064553725, 32289.540207166658, 35711.07999432947, 28960.63496494679, 31911.001239366356, 31960.754514207274, 26298.148410246733, 22350.769816321583, 21900.78530003277, 41298.63129283508, 26003.52243192563, 38847.1697677608, 26983.04636427821, 19295.267686809584, 25732.344972190574, 26228.376286436214, 24613.751980326135, 21973.307950443846, 34815.25492053807, 32210.979768642417, 38869.64945267171, 22393.417730180143, 32797.643669354955, 27758.387575808218, 30584.124615113265, 24491.388898644745, 37228.7347452007, 30806.776341952802, 32912.89206331586, 30949.636901997957, 25938.050496756252, 20592.346613007783, 39135.376223130086, 40673.85964432748, 18943.372817813037, 25765.790042328375, 22105.034591078267, 30046.489080926083, 30148.682673916108, 15764.491431415849, 31614.442565419115, 22258.60866856992, 32416.93987389556, 35187.91053468467, 32149.9212926829, 23032.68012465128, 38543.625122928686, 15177.319714667685, 25328.06996228169, 26312.372968927542, 32853.062283695275, 26071.98118135926, 29240.509748648117, 35023.21627080031, 36008.725359122334, 16918.676201100145, 23858.598240023442, 23748.677815454066, 34830.86603735361, 27456.913266673124, 38938.11813871436, 29210.55694643971, 33203.842568888045, 36813.767134203976, 30155.334159637, 37939.71700891236, 23470.84703332803, 19785.994393274694, 14006.000965365416, 30950.10183968241, 39513.27355543242, 23392.942046850603, 27412.691405421243, 33379.42058468912, 29861.546669621468, 37194.90227907421, 31253.468530449438, 30836.978307627458, 24706.128352845168, 28912.895136199953, 35036.71585548723, 28627.259856400316, 34834.90179465997, 35572.71538685358, 32561.02536006332, 26023.566351406163, 35758.27543553671, 33217.92661094812], \"xaxis\": \"x\", \"y\": [-4400.042331000772, -4804.203700356798, -3681.2903856818016, -2201.7204362153534, -6066.457122934573, -4587.056600403995, -5237.495032301, -5484.674656121096, -5737.014216399171, -5075.678351149004, -4541.161711915865, -3401.0815217687764, -5038.8164407421755, -5591.430862352506, -5088.608312301608, -4865.004407317279, -6443.116567478199, -4762.434912619335, -3922.3292073945404, -4008.5890127538983, -4006.880782404122, -3130.950539346101, -4837.589604607752, -6080.299826048201, -5613.714946473868, -5635.163544619184, -4439.12285942063, -5202.090344164466, -6518.877743618623, -6195.256515402725, -6711.005814772026, -3863.0068749343054, -3890.3447962612545, -4917.675594824385, -4653.572550884039, -5081.205331963822, -5918.6963935933745, -3156.17486773815, -4542.181472406768, -4194.112454577068, -6642.233640263945, -4354.8806735369735, -6141.763263553492, -3634.341360640738, -4543.481105344734, -5439.902381792008, -2672.9112969661514, -7950.1376799045365, -5023.03875519227, -5405.19238007051, -5234.914435436243, -6422.065006311351, -3786.1336424715287, -8209.639308093869, -2897.4181107781187, -3266.6501002799123, -4846.280009746116, -4266.4841646878, -3288.4642893518335, -5227.972306159949, -5108.2816705717105, -5806.362366658896, -4117.836047019011, -5150.746928288212, -5654.546848389317, -3524.6018820414915, -5198.65174378372, -3378.5440905478677, -4575.537648425251, -5560.2046796, -4588.664684244311, -4397.19732228479, -4054.2528418970837, -4611.587648361571, -4339.707016425754, -5771.827716588528, -6099.9265116751585, -4647.515091833698, -4346.187741550608, -2733.109485171263, -3727.6412226852435, -2149.152212076622, -3948.413153701506, -5195.925409188552, -3316.8737845198502, -4164.858385743972, -5508.945169399092, -5461.179044520952, -7198.063753004434, 4253.6702688112655, -4507.81885275907, -4286.405360287331, -5910.595724540101, -4687.764619495447, -5240.709879901139, -4416.577273256115, -6111.705171395258, -2877.1946078768765, -4857.997302514553, -4085.3878885407776, -5377.2290211162135, -4868.312164441826, -4443.169815276386, -6286.356908964103, -6552.893169384941, -4615.462129870628, -6491.8459163020625, -4683.440281859748, -4720.248925408386, -4699.391527469763, -1775.605039983351, -6274.3994076764575, -4805.682520520936, -5117.926369906291, -5970.659605817777, -4139.0530440469365, -4210.491742797322, -4030.486076235748, -4792.820172444661, -4248.4109987799275, -6304.2868715779405, -5224.5544356708415, -6415.699536226247, -3324.816421778014, -5079.540930731743, -4807.665202226774, -5658.5291473353955, -7172.334785619933, -4122.472097486011, -4387.404636496323], \"yaxis\": \"y\"}],\n",
       "                        {\"height\": 600, \"legend\": {\"title\": {\"text\": \"Cluster\"}, \"tracegroupgap\": 0}, \"margin\": {\"t\": 60}, \"plot_bgcolor\": \"rgb(240,240,240)\", \"template\": {\"data\": {\"bar\": [{\"error_x\": {\"color\": \"#2a3f5f\"}, \"error_y\": {\"color\": \"#2a3f5f\"}, \"marker\": {\"line\": {\"color\": \"#E5ECF6\", \"width\": 0.5}}, \"type\": \"bar\"}], \"barpolar\": [{\"marker\": {\"line\": {\"color\": \"#E5ECF6\", \"width\": 0.5}}, \"type\": \"barpolar\"}], \"carpet\": [{\"aaxis\": {\"endlinecolor\": \"#2a3f5f\", \"gridcolor\": \"white\", \"linecolor\": \"white\", \"minorgridcolor\": \"white\", \"startlinecolor\": \"#2a3f5f\"}, \"baxis\": {\"endlinecolor\": \"#2a3f5f\", \"gridcolor\": \"white\", \"linecolor\": \"white\", \"minorgridcolor\": \"white\", \"startlinecolor\": \"#2a3f5f\"}, \"type\": \"carpet\"}], \"choropleth\": [{\"colorbar\": {\"outlinewidth\": 0, \"ticks\": \"\"}, \"type\": \"choropleth\"}], \"contour\": [{\"colorbar\": {\"outlinewidth\": 0, \"ticks\": \"\"}, \"colorscale\": [[0.0, \"#0d0887\"], [0.1111111111111111, \"#46039f\"], [0.2222222222222222, \"#7201a8\"], [0.3333333333333333, \"#9c179e\"], [0.4444444444444444, \"#bd3786\"], [0.5555555555555556, \"#d8576b\"], [0.6666666666666666, \"#ed7953\"], [0.7777777777777778, \"#fb9f3a\"], [0.8888888888888888, \"#fdca26\"], [1.0, \"#f0f921\"]], \"type\": \"contour\"}], \"contourcarpet\": [{\"colorbar\": {\"outlinewidth\": 0, \"ticks\": \"\"}, \"type\": \"contourcarpet\"}], \"heatmap\": [{\"colorbar\": {\"outlinewidth\": 0, \"ticks\": \"\"}, \"colorscale\": [[0.0, \"#0d0887\"], [0.1111111111111111, \"#46039f\"], [0.2222222222222222, \"#7201a8\"], [0.3333333333333333, \"#9c179e\"], [0.4444444444444444, \"#bd3786\"], [0.5555555555555556, \"#d8576b\"], [0.6666666666666666, \"#ed7953\"], [0.7777777777777778, \"#fb9f3a\"], [0.8888888888888888, \"#fdca26\"], [1.0, \"#f0f921\"]], \"type\": \"heatmap\"}], \"heatmapgl\": [{\"colorbar\": {\"outlinewidth\": 0, \"ticks\": \"\"}, \"colorscale\": [[0.0, \"#0d0887\"], [0.1111111111111111, \"#46039f\"], [0.2222222222222222, \"#7201a8\"], [0.3333333333333333, \"#9c179e\"], [0.4444444444444444, \"#bd3786\"], [0.5555555555555556, \"#d8576b\"], [0.6666666666666666, \"#ed7953\"], [0.7777777777777778, \"#fb9f3a\"], [0.8888888888888888, \"#fdca26\"], [1.0, \"#f0f921\"]], \"type\": \"heatmapgl\"}], \"histogram\": [{\"marker\": {\"colorbar\": {\"outlinewidth\": 0, \"ticks\": \"\"}}, \"type\": \"histogram\"}], \"histogram2d\": [{\"colorbar\": {\"outlinewidth\": 0, \"ticks\": \"\"}, \"colorscale\": [[0.0, \"#0d0887\"], [0.1111111111111111, \"#46039f\"], [0.2222222222222222, \"#7201a8\"], [0.3333333333333333, \"#9c179e\"], [0.4444444444444444, \"#bd3786\"], [0.5555555555555556, \"#d8576b\"], [0.6666666666666666, \"#ed7953\"], [0.7777777777777778, \"#fb9f3a\"], [0.8888888888888888, \"#fdca26\"], [1.0, \"#f0f921\"]], \"type\": \"histogram2d\"}], \"histogram2dcontour\": [{\"colorbar\": {\"outlinewidth\": 0, \"ticks\": \"\"}, \"colorscale\": [[0.0, \"#0d0887\"], [0.1111111111111111, \"#46039f\"], [0.2222222222222222, \"#7201a8\"], [0.3333333333333333, \"#9c179e\"], [0.4444444444444444, \"#bd3786\"], [0.5555555555555556, \"#d8576b\"], [0.6666666666666666, \"#ed7953\"], [0.7777777777777778, \"#fb9f3a\"], [0.8888888888888888, \"#fdca26\"], [1.0, \"#f0f921\"]], \"type\": \"histogram2dcontour\"}], \"mesh3d\": [{\"colorbar\": {\"outlinewidth\": 0, \"ticks\": \"\"}, \"type\": \"mesh3d\"}], \"parcoords\": [{\"line\": {\"colorbar\": {\"outlinewidth\": 0, \"ticks\": \"\"}}, \"type\": \"parcoords\"}], \"pie\": [{\"automargin\": true, \"type\": \"pie\"}], \"scatter\": [{\"marker\": {\"colorbar\": {\"outlinewidth\": 0, \"ticks\": \"\"}}, \"type\": \"scatter\"}], \"scatter3d\": [{\"line\": {\"colorbar\": {\"outlinewidth\": 0, \"ticks\": \"\"}}, \"marker\": {\"colorbar\": {\"outlinewidth\": 0, \"ticks\": \"\"}}, \"type\": \"scatter3d\"}], \"scattercarpet\": [{\"marker\": {\"colorbar\": {\"outlinewidth\": 0, \"ticks\": \"\"}}, \"type\": \"scattercarpet\"}], \"scattergeo\": [{\"marker\": {\"colorbar\": {\"outlinewidth\": 0, \"ticks\": \"\"}}, \"type\": \"scattergeo\"}], \"scattergl\": [{\"marker\": {\"colorbar\": {\"outlinewidth\": 0, \"ticks\": \"\"}}, \"type\": \"scattergl\"}], \"scattermapbox\": [{\"marker\": {\"colorbar\": {\"outlinewidth\": 0, \"ticks\": \"\"}}, \"type\": \"scattermapbox\"}], \"scatterpolar\": [{\"marker\": {\"colorbar\": {\"outlinewidth\": 0, \"ticks\": \"\"}}, \"type\": \"scatterpolar\"}], \"scatterpolargl\": [{\"marker\": {\"colorbar\": {\"outlinewidth\": 0, \"ticks\": \"\"}}, \"type\": \"scatterpolargl\"}], \"scatterternary\": [{\"marker\": {\"colorbar\": {\"outlinewidth\": 0, \"ticks\": \"\"}}, \"type\": \"scatterternary\"}], \"surface\": [{\"colorbar\": {\"outlinewidth\": 0, \"ticks\": \"\"}, \"colorscale\": [[0.0, \"#0d0887\"], [0.1111111111111111, \"#46039f\"], [0.2222222222222222, \"#7201a8\"], [0.3333333333333333, \"#9c179e\"], [0.4444444444444444, \"#bd3786\"], [0.5555555555555556, \"#d8576b\"], [0.6666666666666666, \"#ed7953\"], [0.7777777777777778, \"#fb9f3a\"], [0.8888888888888888, \"#fdca26\"], [1.0, \"#f0f921\"]], \"type\": \"surface\"}], \"table\": [{\"cells\": {\"fill\": {\"color\": \"#EBF0F8\"}, \"line\": {\"color\": \"white\"}}, \"header\": {\"fill\": {\"color\": \"#C8D4E3\"}, \"line\": {\"color\": \"white\"}}, \"type\": \"table\"}]}, \"layout\": {\"annotationdefaults\": {\"arrowcolor\": \"#2a3f5f\", \"arrowhead\": 0, \"arrowwidth\": 1}, \"coloraxis\": {\"colorbar\": {\"outlinewidth\": 0, \"ticks\": \"\"}}, \"colorscale\": {\"diverging\": [[0, \"#8e0152\"], [0.1, \"#c51b7d\"], [0.2, \"#de77ae\"], [0.3, \"#f1b6da\"], [0.4, \"#fde0ef\"], [0.5, \"#f7f7f7\"], [0.6, \"#e6f5d0\"], [0.7, \"#b8e186\"], [0.8, \"#7fbc41\"], [0.9, \"#4d9221\"], [1, \"#276419\"]], \"sequential\": [[0.0, \"#0d0887\"], [0.1111111111111111, \"#46039f\"], [0.2222222222222222, \"#7201a8\"], [0.3333333333333333, \"#9c179e\"], [0.4444444444444444, \"#bd3786\"], [0.5555555555555556, \"#d8576b\"], [0.6666666666666666, \"#ed7953\"], [0.7777777777777778, \"#fb9f3a\"], [0.8888888888888888, \"#fdca26\"], [1.0, \"#f0f921\"]], \"sequentialminus\": [[0.0, \"#0d0887\"], [0.1111111111111111, \"#46039f\"], [0.2222222222222222, \"#7201a8\"], [0.3333333333333333, \"#9c179e\"], [0.4444444444444444, \"#bd3786\"], [0.5555555555555556, \"#d8576b\"], [0.6666666666666666, \"#ed7953\"], [0.7777777777777778, \"#fb9f3a\"], [0.8888888888888888, \"#fdca26\"], [1.0, \"#f0f921\"]]}, \"colorway\": [\"#636efa\", \"#EF553B\", \"#00cc96\", \"#ab63fa\", \"#FFA15A\", \"#19d3f3\", \"#FF6692\", \"#B6E880\", \"#FF97FF\", \"#FECB52\"], \"font\": {\"color\": \"#2a3f5f\"}, \"geo\": {\"bgcolor\": \"white\", \"lakecolor\": \"white\", \"landcolor\": \"#E5ECF6\", \"showlakes\": true, \"showland\": true, \"subunitcolor\": \"white\"}, \"hoverlabel\": {\"align\": \"left\"}, \"hovermode\": \"closest\", \"mapbox\": {\"style\": \"light\"}, \"paper_bgcolor\": \"white\", \"plot_bgcolor\": \"#E5ECF6\", \"polar\": {\"angularaxis\": {\"gridcolor\": \"white\", \"linecolor\": \"white\", \"ticks\": \"\"}, \"bgcolor\": \"#E5ECF6\", \"radialaxis\": {\"gridcolor\": \"white\", \"linecolor\": \"white\", \"ticks\": \"\"}}, \"scene\": {\"xaxis\": {\"backgroundcolor\": \"#E5ECF6\", \"gridcolor\": \"white\", \"gridwidth\": 2, \"linecolor\": \"white\", \"showbackground\": true, \"ticks\": \"\", \"zerolinecolor\": \"white\"}, \"yaxis\": {\"backgroundcolor\": \"#E5ECF6\", \"gridcolor\": \"white\", \"gridwidth\": 2, \"linecolor\": \"white\", \"showbackground\": true, \"ticks\": \"\", \"zerolinecolor\": \"white\"}, \"zaxis\": {\"backgroundcolor\": \"#E5ECF6\", \"gridcolor\": \"white\", \"gridwidth\": 2, \"linecolor\": \"white\", \"showbackground\": true, \"ticks\": \"\", \"zerolinecolor\": \"white\"}}, \"shapedefaults\": {\"line\": {\"color\": \"#2a3f5f\"}}, \"ternary\": {\"aaxis\": {\"gridcolor\": \"white\", \"linecolor\": \"white\", \"ticks\": \"\"}, \"baxis\": {\"gridcolor\": \"white\", \"linecolor\": \"white\", \"ticks\": \"\"}, \"bgcolor\": \"#E5ECF6\", \"caxis\": {\"gridcolor\": \"white\", \"linecolor\": \"white\", \"ticks\": \"\"}}, \"title\": {\"x\": 0.05}, \"xaxis\": {\"automargin\": true, \"gridcolor\": \"white\", \"linecolor\": \"white\", \"ticks\": \"\", \"title\": {\"standoff\": 15}, \"zerolinecolor\": \"white\", \"zerolinewidth\": 2}, \"yaxis\": {\"automargin\": true, \"gridcolor\": \"white\", \"linecolor\": \"white\", \"ticks\": \"\", \"title\": {\"standoff\": 15}, \"zerolinecolor\": \"white\", \"zerolinewidth\": 2}}}, \"title\": {\"text\": \"2D Cluster PCA Plot\"}, \"xaxis\": {\"anchor\": \"y\", \"domain\": [0.0, 1.0], \"title\": {\"text\": \"PCA1\"}}, \"yaxis\": {\"anchor\": \"x\", \"domain\": [0.0, 1.0], \"title\": {\"text\": \"PCA2\"}}},\n",
       "                        {\"responsive\": true}\n",
       "                    ).then(function(){\n",
       "                            \n",
       "var gd = document.getElementById('0fe8d128-0c27-4c67-bf4c-500d287234a9');\n",
       "var x = new MutationObserver(function (mutations, observer) {{\n",
       "        var display = window.getComputedStyle(gd).display;\n",
       "        if (!display || display === 'none') {{\n",
       "            console.log([gd, 'removed!']);\n",
       "            Plotly.purge(gd);\n",
       "            observer.disconnect();\n",
       "        }}\n",
       "}});\n",
       "\n",
       "// Listen for the removal of the full notebook cells\n",
       "var notebookContainer = gd.closest('#notebook-container');\n",
       "if (notebookContainer) {{\n",
       "    x.observe(notebookContainer, {childList: true});\n",
       "}}\n",
       "\n",
       "// Listen for the clearing of the current output cell\n",
       "var outputEl = gd.closest('.output');\n",
       "if (outputEl) {{\n",
       "    x.observe(outputEl, {childList: true});\n",
       "}}\n",
       "\n",
       "                        })\n",
       "                };\n",
       "                });\n",
       "            </script>\n",
       "        </div>"
      ]
     },
     "metadata": {},
     "output_type": "display_data"
    }
   ],
   "source": [
    "plot_model(kmeans)"
   ]
  },
  {
   "cell_type": "code",
   "execution_count": null,
   "metadata": {},
   "outputs": [],
   "source": []
  }
 ],
 "metadata": {
  "kernelspec": {
   "display_name": "Python 3",
   "language": "python",
   "name": "python3"
  },
  "language_info": {
   "codemirror_mode": {
    "name": "ipython",
    "version": 3
   },
   "file_extension": ".py",
   "mimetype": "text/x-python",
   "name": "python",
   "nbconvert_exporter": "python",
   "pygments_lexer": "ipython3",
   "version": "3.7.7"
  }
 },
 "nbformat": 4,
 "nbformat_minor": 4
}
